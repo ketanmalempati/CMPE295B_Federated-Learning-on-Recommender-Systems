{
 "cells": [
  {
   "cell_type": "code",
   "execution_count": 1,
   "id": "076ec4e2",
   "metadata": {},
   "outputs": [],
   "source": [
    "import pandas as pd\n",
    "import json\n",
    "import gzip\n",
    "import numpy as np\n",
    "import random\n",
    "from surprise import accuracy\n",
    "from surprise import Dataset\n",
    "from surprise import Reader\n",
    "from surprise import SVD,SVDpp, SlopeOne, NMF, NormalPredictor, KNNBaseline, KNNBasic, KNNWithMeans, KNNWithZScore, BaselineOnly, CoClustering\n",
    "\n",
    "from surprise.model_selection import GridSearchCV\n",
    "from tqdm import tqdm\n",
    "import matplotlib.pyplot as plt\n",
    "from surprise.model_selection.validation import cross_validate"
   ]
  },
  {
   "cell_type": "code",
   "execution_count": 2,
   "id": "7a4dfadf",
   "metadata": {},
   "outputs": [
    {
     "name": "stderr",
     "output_type": "stream",
     "text": [
      "C:\\Users\\pruth\\AppData\\Local\\Temp\\ipykernel_13680\\2350015602.py:1: DtypeWarning: Columns (1) have mixed types. Specify dtype option on import or set low_memory=False.\n",
      "  df = pd.read_csv(r\"C:\\Users\\pruth\\Downloads\\final project\\baseline\\datasets\\amazon_review.csv\")\n"
     ]
    }
   ],
   "source": [
    "df = pd.read_csv(r\"C:\\Users\\pruth\\Downloads\\final project\\baseline\\datasets\\amazon_review.csv\")"
   ]
  },
  {
   "cell_type": "code",
   "execution_count": 3,
   "id": "a209261c",
   "metadata": {},
   "outputs": [
    {
     "data": {
      "text/html": [
       "<div>\n",
       "<style scoped>\n",
       "    .dataframe tbody tr th:only-of-type {\n",
       "        vertical-align: middle;\n",
       "    }\n",
       "\n",
       "    .dataframe tbody tr th {\n",
       "        vertical-align: top;\n",
       "    }\n",
       "\n",
       "    .dataframe thead th {\n",
       "        text-align: right;\n",
       "    }\n",
       "</style>\n",
       "<table border=\"1\" class=\"dataframe\">\n",
       "  <thead>\n",
       "    <tr style=\"text-align: right;\">\n",
       "      <th></th>\n",
       "      <th>overall</th>\n",
       "      <th>vote</th>\n",
       "      <th>verified</th>\n",
       "      <th>reviewTime</th>\n",
       "      <th>reviewerID</th>\n",
       "      <th>asin</th>\n",
       "      <th>style</th>\n",
       "      <th>reviewerName</th>\n",
       "      <th>reviewText</th>\n",
       "      <th>summary</th>\n",
       "      <th>unixReviewTime</th>\n",
       "      <th>image</th>\n",
       "    </tr>\n",
       "  </thead>\n",
       "  <tbody>\n",
       "    <tr>\n",
       "      <th>0</th>\n",
       "      <td>5.0</td>\n",
       "      <td>67</td>\n",
       "      <td>True</td>\n",
       "      <td>09 18, 1999</td>\n",
       "      <td>AAP7PPBU72QFM</td>\n",
       "      <td>0151004714</td>\n",
       "      <td>{'Format:': ' Hardcover'}</td>\n",
       "      <td>D. C. Carrad</td>\n",
       "      <td>This is the best novel I have read in 2 or 3 y...</td>\n",
       "      <td>A star is born</td>\n",
       "      <td>937612800</td>\n",
       "      <td>NaN</td>\n",
       "    </tr>\n",
       "    <tr>\n",
       "      <th>1</th>\n",
       "      <td>3.0</td>\n",
       "      <td>5</td>\n",
       "      <td>True</td>\n",
       "      <td>10 23, 2013</td>\n",
       "      <td>A2E168DTVGE6SV</td>\n",
       "      <td>0151004714</td>\n",
       "      <td>{'Format:': ' Kindle Edition'}</td>\n",
       "      <td>Evy</td>\n",
       "      <td>Pages and pages of introspection, in the style...</td>\n",
       "      <td>A stream of consciousness novel</td>\n",
       "      <td>1382486400</td>\n",
       "      <td>NaN</td>\n",
       "    </tr>\n",
       "    <tr>\n",
       "      <th>2</th>\n",
       "      <td>5.0</td>\n",
       "      <td>4</td>\n",
       "      <td>False</td>\n",
       "      <td>09 2, 2008</td>\n",
       "      <td>A1ER5AYS3FQ9O3</td>\n",
       "      <td>0151004714</td>\n",
       "      <td>{'Format:': ' Paperback'}</td>\n",
       "      <td>Kcorn</td>\n",
       "      <td>This is the kind of novel to read when you hav...</td>\n",
       "      <td>I'm a huge fan of the author and this one did ...</td>\n",
       "      <td>1220313600</td>\n",
       "      <td>NaN</td>\n",
       "    </tr>\n",
       "    <tr>\n",
       "      <th>3</th>\n",
       "      <td>5.0</td>\n",
       "      <td>13</td>\n",
       "      <td>False</td>\n",
       "      <td>09 4, 2000</td>\n",
       "      <td>A1T17LMQABMBN5</td>\n",
       "      <td>0151004714</td>\n",
       "      <td>{'Format:': ' Hardcover'}</td>\n",
       "      <td>Caf Girl Writes</td>\n",
       "      <td>What gorgeous language! What an incredible wri...</td>\n",
       "      <td>The most beautiful book I have ever read!</td>\n",
       "      <td>968025600</td>\n",
       "      <td>NaN</td>\n",
       "    </tr>\n",
       "    <tr>\n",
       "      <th>4</th>\n",
       "      <td>3.0</td>\n",
       "      <td>8</td>\n",
       "      <td>True</td>\n",
       "      <td>02 4, 2000</td>\n",
       "      <td>A3QHJ0FXK33OBE</td>\n",
       "      <td>0151004714</td>\n",
       "      <td>{'Format:': ' Hardcover'}</td>\n",
       "      <td>W. Shane Schmidt</td>\n",
       "      <td>I was taken in by reviews that compared this b...</td>\n",
       "      <td>A dissenting view--In part.</td>\n",
       "      <td>949622400</td>\n",
       "      <td>NaN</td>\n",
       "    </tr>\n",
       "    <tr>\n",
       "      <th>...</th>\n",
       "      <td>...</td>\n",
       "      <td>...</td>\n",
       "      <td>...</td>\n",
       "      <td>...</td>\n",
       "      <td>...</td>\n",
       "      <td>...</td>\n",
       "      <td>...</td>\n",
       "      <td>...</td>\n",
       "      <td>...</td>\n",
       "      <td>...</td>\n",
       "      <td>...</td>\n",
       "      <td>...</td>\n",
       "    </tr>\n",
       "    <tr>\n",
       "      <th>6739585</th>\n",
       "      <td>4.0</td>\n",
       "      <td>NaN</td>\n",
       "      <td>True</td>\n",
       "      <td>03 21, 2017</td>\n",
       "      <td>A33MAQA919J2V8</td>\n",
       "      <td>B01HJH40WU</td>\n",
       "      <td>NaN</td>\n",
       "      <td>Kurt Wurm</td>\n",
       "      <td>These seem like quality USB cables, time will ...</td>\n",
       "      <td>Four Stars</td>\n",
       "      <td>1490054400</td>\n",
       "      <td>NaN</td>\n",
       "    </tr>\n",
       "    <tr>\n",
       "      <th>6739586</th>\n",
       "      <td>4.0</td>\n",
       "      <td>NaN</td>\n",
       "      <td>True</td>\n",
       "      <td>01 9, 2017</td>\n",
       "      <td>A1AKHSCPD1BHM4</td>\n",
       "      <td>B01HJH40WU</td>\n",
       "      <td>NaN</td>\n",
       "      <td>C.L Momof3</td>\n",
       "      <td>Works great, love the longer cord. As with any...</td>\n",
       "      <td>Nice long cord</td>\n",
       "      <td>1483920000</td>\n",
       "      <td>NaN</td>\n",
       "    </tr>\n",
       "    <tr>\n",
       "      <th>6739587</th>\n",
       "      <td>5.0</td>\n",
       "      <td>2.0</td>\n",
       "      <td>True</td>\n",
       "      <td>12 1, 2016</td>\n",
       "      <td>A2HUZO7MQAY5I2</td>\n",
       "      <td>B01HJH40WU</td>\n",
       "      <td>NaN</td>\n",
       "      <td>michael clontz</td>\n",
       "      <td>Ok here is an odd thing that happened to me, I...</td>\n",
       "      <td>Not the correct product as linked in the sale.</td>\n",
       "      <td>1480550400</td>\n",
       "      <td>NaN</td>\n",
       "    </tr>\n",
       "    <tr>\n",
       "      <th>6739588</th>\n",
       "      <td>5.0</td>\n",
       "      <td>2.0</td>\n",
       "      <td>True</td>\n",
       "      <td>11 29, 2016</td>\n",
       "      <td>AJJ7VX2L91X2W</td>\n",
       "      <td>B01HJH40WU</td>\n",
       "      <td>NaN</td>\n",
       "      <td>Faith</td>\n",
       "      <td>Works well.</td>\n",
       "      <td>Five Stars</td>\n",
       "      <td>1480377600</td>\n",
       "      <td>NaN</td>\n",
       "    </tr>\n",
       "    <tr>\n",
       "      <th>6739589</th>\n",
       "      <td>5.0</td>\n",
       "      <td>NaN</td>\n",
       "      <td>True</td>\n",
       "      <td>03 31, 2017</td>\n",
       "      <td>A1FGCIRPRNZWD5</td>\n",
       "      <td>B01HJF704M</td>\n",
       "      <td>NaN</td>\n",
       "      <td>Brando</td>\n",
       "      <td>I have it plugged into a usb extension on my g...</td>\n",
       "      <td>Works well enough..</td>\n",
       "      <td>1490918400</td>\n",
       "      <td>NaN</td>\n",
       "    </tr>\n",
       "  </tbody>\n",
       "</table>\n",
       "<p>6739590 rows × 12 columns</p>\n",
       "</div>"
      ],
      "text/plain": [
       "         overall vote  verified   reviewTime      reviewerID        asin  \\\n",
       "0            5.0   67      True  09 18, 1999   AAP7PPBU72QFM  0151004714   \n",
       "1            3.0    5      True  10 23, 2013  A2E168DTVGE6SV  0151004714   \n",
       "2            5.0    4     False   09 2, 2008  A1ER5AYS3FQ9O3  0151004714   \n",
       "3            5.0   13     False   09 4, 2000  A1T17LMQABMBN5  0151004714   \n",
       "4            3.0    8      True   02 4, 2000  A3QHJ0FXK33OBE  0151004714   \n",
       "...          ...  ...       ...          ...             ...         ...   \n",
       "6739585      4.0  NaN      True  03 21, 2017  A33MAQA919J2V8  B01HJH40WU   \n",
       "6739586      4.0  NaN      True   01 9, 2017  A1AKHSCPD1BHM4  B01HJH40WU   \n",
       "6739587      5.0  2.0      True   12 1, 2016  A2HUZO7MQAY5I2  B01HJH40WU   \n",
       "6739588      5.0  2.0      True  11 29, 2016   AJJ7VX2L91X2W  B01HJH40WU   \n",
       "6739589      5.0  NaN      True  03 31, 2017  A1FGCIRPRNZWD5  B01HJF704M   \n",
       "\n",
       "                                  style      reviewerName  \\\n",
       "0             {'Format:': ' Hardcover'}      D. C. Carrad   \n",
       "1        {'Format:': ' Kindle Edition'}               Evy   \n",
       "2             {'Format:': ' Paperback'}             Kcorn   \n",
       "3             {'Format:': ' Hardcover'}   Caf Girl Writes   \n",
       "4             {'Format:': ' Hardcover'}  W. Shane Schmidt   \n",
       "...                                 ...               ...   \n",
       "6739585                             NaN         Kurt Wurm   \n",
       "6739586                             NaN        C.L Momof3   \n",
       "6739587                             NaN    michael clontz   \n",
       "6739588                             NaN             Faith   \n",
       "6739589                             NaN            Brando   \n",
       "\n",
       "                                                reviewText  \\\n",
       "0        This is the best novel I have read in 2 or 3 y...   \n",
       "1        Pages and pages of introspection, in the style...   \n",
       "2        This is the kind of novel to read when you hav...   \n",
       "3        What gorgeous language! What an incredible wri...   \n",
       "4        I was taken in by reviews that compared this b...   \n",
       "...                                                    ...   \n",
       "6739585  These seem like quality USB cables, time will ...   \n",
       "6739586  Works great, love the longer cord. As with any...   \n",
       "6739587  Ok here is an odd thing that happened to me, I...   \n",
       "6739588                                        Works well.   \n",
       "6739589  I have it plugged into a usb extension on my g...   \n",
       "\n",
       "                                                   summary  unixReviewTime  \\\n",
       "0                                           A star is born       937612800   \n",
       "1                          A stream of consciousness novel      1382486400   \n",
       "2        I'm a huge fan of the author and this one did ...      1220313600   \n",
       "3                The most beautiful book I have ever read!       968025600   \n",
       "4                              A dissenting view--In part.       949622400   \n",
       "...                                                    ...             ...   \n",
       "6739585                                         Four Stars      1490054400   \n",
       "6739586                                     Nice long cord      1483920000   \n",
       "6739587     Not the correct product as linked in the sale.      1480550400   \n",
       "6739588                                         Five Stars      1480377600   \n",
       "6739589                                Works well enough..      1490918400   \n",
       "\n",
       "        image  \n",
       "0         NaN  \n",
       "1         NaN  \n",
       "2         NaN  \n",
       "3         NaN  \n",
       "4         NaN  \n",
       "...       ...  \n",
       "6739585   NaN  \n",
       "6739586   NaN  \n",
       "6739587   NaN  \n",
       "6739588   NaN  \n",
       "6739589   NaN  \n",
       "\n",
       "[6739590 rows x 12 columns]"
      ]
     },
     "execution_count": 3,
     "metadata": {},
     "output_type": "execute_result"
    }
   ],
   "source": [
    "df"
   ]
  },
  {
   "cell_type": "code",
   "execution_count": 4,
   "id": "0a16b4f6",
   "metadata": {
    "scrolled": true
   },
   "outputs": [
    {
     "data": {
      "text/plain": [
       "(160052, 728719, 6739590)"
      ]
     },
     "execution_count": 4,
     "metadata": {},
     "output_type": "execute_result"
    }
   ],
   "source": [
    "df['asin'].nunique(),df['reviewerID'].nunique(),df['overall'].count()\n",
    "\n"
   ]
  },
  {
   "cell_type": "code",
   "execution_count": 5,
   "id": "281b0375",
   "metadata": {},
   "outputs": [
    {
     "data": {
      "text/plain": [
       "(5.0, 1.0, 4.27)"
      ]
     },
     "execution_count": 5,
     "metadata": {},
     "output_type": "execute_result"
    }
   ],
   "source": [
    "df['overall'].max(),df['overall'].min(),round(df['overall'].sum()/df['overall'].count(),2)\n",
    "\n"
   ]
  },
  {
   "cell_type": "code",
   "execution_count": 6,
   "id": "2b046f70",
   "metadata": {},
   "outputs": [
    {
     "data": {
      "text/plain": [
       "(1.2044192967977747, 1.4506258424988463)"
      ]
     },
     "execution_count": 6,
     "metadata": {},
     "output_type": "execute_result"
    }
   ],
   "source": [
    "df['overall'].std(),df['overall'].var()\n",
    "\n"
   ]
  },
  {
   "cell_type": "code",
   "execution_count": 7,
   "id": "7ddb26ca",
   "metadata": {},
   "outputs": [
    {
     "data": {
      "text/plain": [
       "1.2364748201794669e-08"
      ]
     },
     "execution_count": 7,
     "metadata": {},
     "output_type": "execute_result"
    }
   ],
   "source": [
    "from pandas._libs.missing import NA\n",
    "sparsity = (df == 0 | df.isna()).any().astype(int).sum() / df.size\n",
    "sparsity"
   ]
  },
  {
   "cell_type": "code",
   "execution_count": null,
   "id": "75e2fb8a",
   "metadata": {},
   "outputs": [],
   "source": []
  },
  {
   "cell_type": "code",
   "execution_count": null,
   "id": "d35acaa2",
   "metadata": {},
   "outputs": [],
   "source": []
  },
  {
   "cell_type": "code",
   "execution_count": null,
   "id": "17e49ac4",
   "metadata": {},
   "outputs": [],
   "source": []
  },
  {
   "cell_type": "code",
   "execution_count": null,
   "id": "4cee9824",
   "metadata": {},
   "outputs": [],
   "source": []
  },
  {
   "cell_type": "code",
   "execution_count": null,
   "id": "74bb1947",
   "metadata": {},
   "outputs": [],
   "source": []
  },
  {
   "cell_type": "code",
   "execution_count": null,
   "id": "7019dacd",
   "metadata": {},
   "outputs": [],
   "source": []
  },
  {
   "cell_type": "code",
   "execution_count": 6,
   "id": "820bc733",
   "metadata": {},
   "outputs": [],
   "source": [
    "reader = Reader(rating_scale=(1, 5))\n",
    "data = Dataset.load_from_df(df[[\"reviewerID\",\"asin\",\"overall\"]], reader)\n",
    "raw_ratings = data.raw_ratings\n",
    "\n",
    "# re arranging the dataset\n",
    "random.shuffle(raw_ratings)\n",
    "\n",
    "# splitting the data set into 80:20 training and testing data set\n",
    "train_test_split_index = int(0.8 * len(raw_ratings))\n",
    "raw_ratings_train = raw_ratings[:train_test_split_index]\n",
    "raw_ratings_test = raw_ratings[train_test_split_index:]\n",
    "\n",
    "# constructing the train set\n",
    "data.raw_ratings = raw_ratings_train  # assign the raw data back\n",
    "\n",
    "# constructing the test set\n",
    "testset = data.construct_testset(raw_ratings_test)"
   ]
  },
  {
   "cell_type": "code",
   "execution_count": 9,
   "id": "c1059987",
   "metadata": {},
   "outputs": [
    {
     "name": "stderr",
     "output_type": "stream",
     "text": [
      "[Parallel(n_jobs=-1)]: Using backend LokyBackend with 16 concurrent workers.\n",
      "[Parallel(n_jobs=-1)]: Done   7 out of  12 | elapsed:  3.8min remaining:  2.7min\n",
      "[Parallel(n_jobs=-1)]: Done  12 out of  12 | elapsed:  7.0min finished\n"
     ]
    },
    {
     "name": "stdout",
     "output_type": "stream",
     "text": [
      "{'rmse': {'n_factors': 50, 'n_epochs': 50}}\n"
     ]
    }
   ],
   "source": [
    "\"\"\"\n",
    "SVDpp parameters\n",
    "N_factors: The number of factors.\n",
    "N_epochs: The number of iterations of the SGD procedure.\n",
    "lr_all – The learning rate for all parameters.\n",
    "reg_all – The regularization term for all parameters.\n",
    "\"\"\"\n",
    "\n",
    "# constructing different parameter with different range of values\n",
    "### note: these values are changed in the whole process of training to arrive at this specific values based on rmse scores.\n",
    "svdpp_params = {\n",
    "        \"n_factors\": [10, 50],\n",
    "    \"n_epochs\": [10, 50]\n",
    "    }\n",
    "\n",
    "# using grid search cv with above parameters with cross validation of 3 and refit = True\n",
    "grid_search = GridSearchCV(\n",
    "    NMF,\n",
    "    param_grid = svdpp_params,\n",
    "    measures=[\"rmse\"],\n",
    "    cv=3,\n",
    "    refit=True,\n",
    "    n_jobs=-1,\n",
    "    joblib_verbose=1\n",
    ")\n",
    "\n",
    "# fitting the data\n",
    "grid_search.fit(data)\n",
    "\n",
    "# getting best model out of the grid search and best parameters\n",
    "best_model = grid_search.best_estimator[\"rmse\"]\n",
    "print(grid_search.best_params)\n",
    "\n"
   ]
  },
  {
   "cell_type": "code",
   "execution_count": 10,
   "id": "9c5318e5",
   "metadata": {},
   "outputs": [],
   "source": [
    "# pickle the model in case the run time stop in between\n",
    "import pickle\n",
    "with open(r\"C:\\Users\\pruth\\Downloads\\final project\\models\\nmf.pickle\", 'wb') as f:\n",
    "    pickle.dump(best_model, f)"
   ]
  },
  {
   "cell_type": "code",
   "execution_count": 11,
   "id": "feef198d",
   "metadata": {},
   "outputs": [
    {
     "name": "stdout",
     "output_type": "stream",
     "text": [
      "MAE:  0.6924\n"
     ]
    },
    {
     "data": {
      "text/plain": [
       "0.6924382965895927"
      ]
     },
     "execution_count": 11,
     "metadata": {},
     "output_type": "execute_result"
    }
   ],
   "source": [
    "\n",
    "# calculating rmse on test set\n",
    "testset_predictions = best_model.test(testset)\n",
    "\n",
    "accuracy.mae(testset_predictions)"
   ]
  },
  {
   "cell_type": "code",
   "execution_count": 12,
   "id": "aa592e3f",
   "metadata": {},
   "outputs": [
    {
     "name": "stdout",
     "output_type": "stream",
     "text": [
      "RMSE: 1.1530\n"
     ]
    },
    {
     "data": {
      "text/plain": [
       "1.1530015683373556"
      ]
     },
     "execution_count": 12,
     "metadata": {},
     "output_type": "execute_result"
    }
   ],
   "source": [
    "accuracy.rmse(testset_predictions)\n"
   ]
  },
  {
   "cell_type": "code",
   "execution_count": null,
   "id": "bd49cb48",
   "metadata": {},
   "outputs": [],
   "source": []
  }
 ],
 "metadata": {
  "kernelspec": {
   "display_name": "Python 3 (ipykernel)",
   "language": "python",
   "name": "python3"
  },
  "language_info": {
   "codemirror_mode": {
    "name": "ipython",
    "version": 3
   },
   "file_extension": ".py",
   "mimetype": "text/x-python",
   "name": "python",
   "nbconvert_exporter": "python",
   "pygments_lexer": "ipython3",
   "version": "3.9.18"
  }
 },
 "nbformat": 4,
 "nbformat_minor": 5
}
