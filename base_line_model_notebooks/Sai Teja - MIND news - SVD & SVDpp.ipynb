{
  "cells": [
    {
      "cell_type": "code",
      "execution_count": null,
      "metadata": {
        "id": "BhJKT8yUDAen"
      },
      "outputs": [],
      "source": [
        "# latest"
      ]
    },
    {
      "cell_type": "code",
      "execution_count": null,
      "metadata": {
        "colab": {
          "base_uri": "https://localhost:8080/"
        },
        "id": "KfvWNrPeDExo",
        "outputId": "47a56283-4018-41d5-cccb-a58f1121ce88"
      },
      "outputs": [
        {
          "name": "stdout",
          "output_type": "stream",
          "text": [
            "Collecting surprise\n",
            "  Downloading surprise-0.1-py2.py3-none-any.whl (1.8 kB)\n",
            "Collecting scikit-surprise (from surprise)\n",
            "  Downloading scikit-surprise-1.1.3.tar.gz (771 kB)\n",
            "\u001b[2K     \u001b[90m━━━━━━━━━━━━━━━━━━━━━━━━━━━━━━━━━━━━━━━━\u001b[0m \u001b[32m772.0/772.0 kB\u001b[0m \u001b[31m6.8 MB/s\u001b[0m eta \u001b[36m0:00:00\u001b[0m\n",
            "\u001b[?25h  Preparing metadata (setup.py) ... \u001b[?25l\u001b[?25hdone\n",
            "Requirement already satisfied: joblib>=1.0.0 in /usr/local/lib/python3.10/dist-packages (from scikit-surprise->surprise) (1.3.2)\n",
            "Requirement already satisfied: numpy>=1.17.3 in /usr/local/lib/python3.10/dist-packages (from scikit-surprise->surprise) (1.23.5)\n",
            "Requirement already satisfied: scipy>=1.3.2 in /usr/local/lib/python3.10/dist-packages (from scikit-surprise->surprise) (1.11.3)\n",
            "Building wheels for collected packages: scikit-surprise\n",
            "  Building wheel for scikit-surprise (setup.py) ... \u001b[?25l\u001b[?25hdone\n",
            "  Created wheel for scikit-surprise: filename=scikit_surprise-1.1.3-cp310-cp310-linux_x86_64.whl size=3163350 sha256=6f3fadb7c91a3cbc0f14bc46035b4df6e8b2ae13f29c211dd7bebbb5e7fe5ad3\n",
            "  Stored in directory: /root/.cache/pip/wheels/a5/ca/a8/4e28def53797fdc4363ca4af740db15a9c2f1595ebc51fb445\n",
            "Successfully built scikit-surprise\n",
            "Installing collected packages: scikit-surprise, surprise\n",
            "Successfully installed scikit-surprise-1.1.3 surprise-0.1\n",
            "Mounted at /content/drive\n"
          ]
        }
      ],
      "source": [
        "!pip install surprise\n",
        "\n",
        "import pandas as pd\n",
        "from surprise import Dataset\n",
        "from surprise import Reader\n",
        "\n",
        "from google.colab import drive\n",
        "drive.mount('/content/drive')"
      ]
    },
    {
      "cell_type": "code",
      "execution_count": null,
      "metadata": {
        "id": "Kw-OHTZUDIn5"
      },
      "outputs": [],
      "source": [
        "news_df = pd.read_csv('/content/drive/MyDrive/295A/MINDlarge_train/news.tsv', sep='\\t', header=None, names=['NewsID', 'Category', 'Subcategory', 'Title', 'Abstract', 'URL', 'Title Entities', 'Abstract Entities'])\n",
        "behaviors_df = pd.read_csv('/content/drive/MyDrive/295A/MINDlarge_train/behaviors.tsv', sep='\\t', header=None, names=['ImpressionID', 'UserID', 'Time', 'History', 'Impressions'])"
      ]
    },
    {
      "cell_type": "code",
      "execution_count": null,
      "metadata": {
        "colab": {
          "base_uri": "https://localhost:8080/",
          "height": 206
        },
        "id": "coHRRMJ_DK4J",
        "outputId": "ecf63211-84b7-4570-b3c5-777e667cbc6b"
      },
      "outputs": [
        {
          "data": {
            "text/html": [
              "\n",
              "  <div id=\"df-d7c02a47-780f-44fb-a0d5-5432e68b52ac\" class=\"colab-df-container\">\n",
              "    <div>\n",
              "<style scoped>\n",
              "    .dataframe tbody tr th:only-of-type {\n",
              "        vertical-align: middle;\n",
              "    }\n",
              "\n",
              "    .dataframe tbody tr th {\n",
              "        vertical-align: top;\n",
              "    }\n",
              "\n",
              "    .dataframe thead th {\n",
              "        text-align: right;\n",
              "    }\n",
              "</style>\n",
              "<table border=\"1\" class=\"dataframe\">\n",
              "  <thead>\n",
              "    <tr style=\"text-align: right;\">\n",
              "      <th></th>\n",
              "      <th>UserID</th>\n",
              "      <th>Impressions</th>\n",
              "    </tr>\n",
              "  </thead>\n",
              "  <tbody>\n",
              "    <tr>\n",
              "      <th>0</th>\n",
              "      <td>U87243</td>\n",
              "      <td>N78206-0 N26368-0 N7578-0 N58592-0 N19858-0 N5...</td>\n",
              "    </tr>\n",
              "    <tr>\n",
              "      <th>1</th>\n",
              "      <td>U598644</td>\n",
              "      <td>N47996-0 N82719-0 N117066-0 N8491-0 N123784-0 ...</td>\n",
              "    </tr>\n",
              "    <tr>\n",
              "      <th>2</th>\n",
              "      <td>U532401</td>\n",
              "      <td>N103852-0 N53474-0 N127836-0 N47925-1</td>\n",
              "    </tr>\n",
              "    <tr>\n",
              "      <th>3</th>\n",
              "      <td>U593596</td>\n",
              "      <td>N38902-0 N76434-0 N71593-0 N100073-0 N108736-0...</td>\n",
              "    </tr>\n",
              "    <tr>\n",
              "      <th>4</th>\n",
              "      <td>U239687</td>\n",
              "      <td>N76209-0 N48841-0 N67937-0 N62235-0 N6307-0 N3...</td>\n",
              "    </tr>\n",
              "  </tbody>\n",
              "</table>\n",
              "</div>\n",
              "    <div class=\"colab-df-buttons\">\n",
              "\n",
              "  <div class=\"colab-df-container\">\n",
              "    <button class=\"colab-df-convert\" onclick=\"convertToInteractive('df-d7c02a47-780f-44fb-a0d5-5432e68b52ac')\"\n",
              "            title=\"Convert this dataframe to an interactive table.\"\n",
              "            style=\"display:none;\">\n",
              "\n",
              "  <svg xmlns=\"http://www.w3.org/2000/svg\" height=\"24px\" viewBox=\"0 -960 960 960\">\n",
              "    <path d=\"M120-120v-720h720v720H120Zm60-500h600v-160H180v160Zm220 220h160v-160H400v160Zm0 220h160v-160H400v160ZM180-400h160v-160H180v160Zm440 0h160v-160H620v160ZM180-180h160v-160H180v160Zm440 0h160v-160H620v160Z\"/>\n",
              "  </svg>\n",
              "    </button>\n",
              "\n",
              "  <style>\n",
              "    .colab-df-container {\n",
              "      display:flex;\n",
              "      gap: 12px;\n",
              "    }\n",
              "\n",
              "    .colab-df-convert {\n",
              "      background-color: #E8F0FE;\n",
              "      border: none;\n",
              "      border-radius: 50%;\n",
              "      cursor: pointer;\n",
              "      display: none;\n",
              "      fill: #1967D2;\n",
              "      height: 32px;\n",
              "      padding: 0 0 0 0;\n",
              "      width: 32px;\n",
              "    }\n",
              "\n",
              "    .colab-df-convert:hover {\n",
              "      background-color: #E2EBFA;\n",
              "      box-shadow: 0px 1px 2px rgba(60, 64, 67, 0.3), 0px 1px 3px 1px rgba(60, 64, 67, 0.15);\n",
              "      fill: #174EA6;\n",
              "    }\n",
              "\n",
              "    .colab-df-buttons div {\n",
              "      margin-bottom: 4px;\n",
              "    }\n",
              "\n",
              "    [theme=dark] .colab-df-convert {\n",
              "      background-color: #3B4455;\n",
              "      fill: #D2E3FC;\n",
              "    }\n",
              "\n",
              "    [theme=dark] .colab-df-convert:hover {\n",
              "      background-color: #434B5C;\n",
              "      box-shadow: 0px 1px 3px 1px rgba(0, 0, 0, 0.15);\n",
              "      filter: drop-shadow(0px 1px 2px rgba(0, 0, 0, 0.3));\n",
              "      fill: #FFFFFF;\n",
              "    }\n",
              "  </style>\n",
              "\n",
              "    <script>\n",
              "      const buttonEl =\n",
              "        document.querySelector('#df-d7c02a47-780f-44fb-a0d5-5432e68b52ac button.colab-df-convert');\n",
              "      buttonEl.style.display =\n",
              "        google.colab.kernel.accessAllowed ? 'block' : 'none';\n",
              "\n",
              "      async function convertToInteractive(key) {\n",
              "        const element = document.querySelector('#df-d7c02a47-780f-44fb-a0d5-5432e68b52ac');\n",
              "        const dataTable =\n",
              "          await google.colab.kernel.invokeFunction('convertToInteractive',\n",
              "                                                    [key], {});\n",
              "        if (!dataTable) return;\n",
              "\n",
              "        const docLinkHtml = 'Like what you see? Visit the ' +\n",
              "          '<a target=\"_blank\" href=https://colab.research.google.com/notebooks/data_table.ipynb>data table notebook</a>'\n",
              "          + ' to learn more about interactive tables.';\n",
              "        element.innerHTML = '';\n",
              "        dataTable['output_type'] = 'display_data';\n",
              "        await google.colab.output.renderOutput(dataTable, element);\n",
              "        const docLink = document.createElement('div');\n",
              "        docLink.innerHTML = docLinkHtml;\n",
              "        element.appendChild(docLink);\n",
              "      }\n",
              "    </script>\n",
              "  </div>\n",
              "\n",
              "\n",
              "<div id=\"df-8f80f299-893f-40f0-997d-030a22398c2c\">\n",
              "  <button class=\"colab-df-quickchart\" onclick=\"quickchart('df-8f80f299-893f-40f0-997d-030a22398c2c')\"\n",
              "            title=\"Suggest charts.\"\n",
              "            style=\"display:none;\">\n",
              "\n",
              "<svg xmlns=\"http://www.w3.org/2000/svg\" height=\"24px\"viewBox=\"0 0 24 24\"\n",
              "     width=\"24px\">\n",
              "    <g>\n",
              "        <path d=\"M19 3H5c-1.1 0-2 .9-2 2v14c0 1.1.9 2 2 2h14c1.1 0 2-.9 2-2V5c0-1.1-.9-2-2-2zM9 17H7v-7h2v7zm4 0h-2V7h2v10zm4 0h-2v-4h2v4z\"/>\n",
              "    </g>\n",
              "</svg>\n",
              "  </button>\n",
              "\n",
              "<style>\n",
              "  .colab-df-quickchart {\n",
              "      --bg-color: #E8F0FE;\n",
              "      --fill-color: #1967D2;\n",
              "      --hover-bg-color: #E2EBFA;\n",
              "      --hover-fill-color: #174EA6;\n",
              "      --disabled-fill-color: #AAA;\n",
              "      --disabled-bg-color: #DDD;\n",
              "  }\n",
              "\n",
              "  [theme=dark] .colab-df-quickchart {\n",
              "      --bg-color: #3B4455;\n",
              "      --fill-color: #D2E3FC;\n",
              "      --hover-bg-color: #434B5C;\n",
              "      --hover-fill-color: #FFFFFF;\n",
              "      --disabled-bg-color: #3B4455;\n",
              "      --disabled-fill-color: #666;\n",
              "  }\n",
              "\n",
              "  .colab-df-quickchart {\n",
              "    background-color: var(--bg-color);\n",
              "    border: none;\n",
              "    border-radius: 50%;\n",
              "    cursor: pointer;\n",
              "    display: none;\n",
              "    fill: var(--fill-color);\n",
              "    height: 32px;\n",
              "    padding: 0;\n",
              "    width: 32px;\n",
              "  }\n",
              "\n",
              "  .colab-df-quickchart:hover {\n",
              "    background-color: var(--hover-bg-color);\n",
              "    box-shadow: 0 1px 2px rgba(60, 64, 67, 0.3), 0 1px 3px 1px rgba(60, 64, 67, 0.15);\n",
              "    fill: var(--button-hover-fill-color);\n",
              "  }\n",
              "\n",
              "  .colab-df-quickchart-complete:disabled,\n",
              "  .colab-df-quickchart-complete:disabled:hover {\n",
              "    background-color: var(--disabled-bg-color);\n",
              "    fill: var(--disabled-fill-color);\n",
              "    box-shadow: none;\n",
              "  }\n",
              "\n",
              "  .colab-df-spinner {\n",
              "    border: 2px solid var(--fill-color);\n",
              "    border-color: transparent;\n",
              "    border-bottom-color: var(--fill-color);\n",
              "    animation:\n",
              "      spin 1s steps(1) infinite;\n",
              "  }\n",
              "\n",
              "  @keyframes spin {\n",
              "    0% {\n",
              "      border-color: transparent;\n",
              "      border-bottom-color: var(--fill-color);\n",
              "      border-left-color: var(--fill-color);\n",
              "    }\n",
              "    20% {\n",
              "      border-color: transparent;\n",
              "      border-left-color: var(--fill-color);\n",
              "      border-top-color: var(--fill-color);\n",
              "    }\n",
              "    30% {\n",
              "      border-color: transparent;\n",
              "      border-left-color: var(--fill-color);\n",
              "      border-top-color: var(--fill-color);\n",
              "      border-right-color: var(--fill-color);\n",
              "    }\n",
              "    40% {\n",
              "      border-color: transparent;\n",
              "      border-right-color: var(--fill-color);\n",
              "      border-top-color: var(--fill-color);\n",
              "    }\n",
              "    60% {\n",
              "      border-color: transparent;\n",
              "      border-right-color: var(--fill-color);\n",
              "    }\n",
              "    80% {\n",
              "      border-color: transparent;\n",
              "      border-right-color: var(--fill-color);\n",
              "      border-bottom-color: var(--fill-color);\n",
              "    }\n",
              "    90% {\n",
              "      border-color: transparent;\n",
              "      border-bottom-color: var(--fill-color);\n",
              "    }\n",
              "  }\n",
              "</style>\n",
              "\n",
              "  <script>\n",
              "    async function quickchart(key) {\n",
              "      const quickchartButtonEl =\n",
              "        document.querySelector('#' + key + ' button');\n",
              "      quickchartButtonEl.disabled = true;  // To prevent multiple clicks.\n",
              "      quickchartButtonEl.classList.add('colab-df-spinner');\n",
              "      try {\n",
              "        const charts = await google.colab.kernel.invokeFunction(\n",
              "            'suggestCharts', [key], {});\n",
              "      } catch (error) {\n",
              "        console.error('Error during call to suggestCharts:', error);\n",
              "      }\n",
              "      quickchartButtonEl.classList.remove('colab-df-spinner');\n",
              "      quickchartButtonEl.classList.add('colab-df-quickchart-complete');\n",
              "    }\n",
              "    (() => {\n",
              "      let quickchartButtonEl =\n",
              "        document.querySelector('#df-8f80f299-893f-40f0-997d-030a22398c2c button');\n",
              "      quickchartButtonEl.style.display =\n",
              "        google.colab.kernel.accessAllowed ? 'block' : 'none';\n",
              "    })();\n",
              "  </script>\n",
              "</div>\n",
              "    </div>\n",
              "  </div>\n"
            ],
            "text/plain": [
              "    UserID                                        Impressions\n",
              "0   U87243  N78206-0 N26368-0 N7578-0 N58592-0 N19858-0 N5...\n",
              "1  U598644  N47996-0 N82719-0 N117066-0 N8491-0 N123784-0 ...\n",
              "2  U532401              N103852-0 N53474-0 N127836-0 N47925-1\n",
              "3  U593596  N38902-0 N76434-0 N71593-0 N100073-0 N108736-0...\n",
              "4  U239687  N76209-0 N48841-0 N67937-0 N62235-0 N6307-0 N3..."
            ]
          },
          "execution_count": 3,
          "metadata": {},
          "output_type": "execute_result"
        }
      ],
      "source": [
        "news_df = news_df[['NewsID']]\n",
        "behaviors_df = behaviors_df[['UserID', 'Impressions']]\n",
        "\n",
        "behaviors_df.head()"
      ]
    },
    {
      "cell_type": "code",
      "execution_count": null,
      "metadata": {
        "colab": {
          "base_uri": "https://localhost:8080/"
        },
        "id": "2njeLymWDPBe",
        "outputId": "ee3039e0-7b13-433f-ea23-3a67751f83b3"
      },
      "outputs": [
        {
          "data": {
            "text/plain": [
              "(2232748, 2)"
            ]
          },
          "execution_count": 4,
          "metadata": {},
          "output_type": "execute_result"
        }
      ],
      "source": [
        "behaviors_df.shape"
      ]
    },
    {
      "cell_type": "code",
      "execution_count": null,
      "metadata": {
        "id": "U7Vsa8NOEgqm"
      },
      "outputs": [],
      "source": [
        "mask = behaviors_df['Impressions'].str.contains('-1') & behaviors_df['Impressions'].str.contains('-0')\n",
        "balanced_behaviors = behaviors_df[mask]"
      ]
    },
    {
      "cell_type": "code",
      "execution_count": null,
      "metadata": {
        "colab": {
          "base_uri": "https://localhost:8080/"
        },
        "id": "CQ_OM84cEgtp",
        "outputId": "c9dbc4bf-399e-4c64-8baf-3647cce80a28"
      },
      "outputs": [
        {
          "name": "stdout",
          "output_type": "stream",
          "text": [
            "(401895, 2)\n"
          ]
        }
      ],
      "source": [
        "# Sample 15% from balanced behaviors\n",
        "sampled_behaviors = balanced_behaviors.sample(frac=0.15)\n",
        "print(sampled_behaviors.shape)\n",
        "\n",
        "# Extract interactions from sampled behaviors\n",
        "interactions = []\n",
        "for _, row in sampled_behaviors.iterrows():\n",
        "    for impression in row['Impressions'].split(' '):\n",
        "        news_id, interaction = impression.split('-')\n",
        "        interactions.append([row['UserID'], news_id, int(interaction)])\n",
        "\n",
        "interactions_df = pd.DataFrame(interactions, columns=['UserID', 'NewsID', 'Rating'])"
      ]
    },
    {
      "cell_type": "code",
      "execution_count": null,
      "metadata": {
        "id": "0MhTa4wqFNAi"
      },
      "outputs": [],
      "source": [
        "reader = Reader(rating_scale=(0, 1))\n",
        "data = Dataset.load_from_df(interactions_df[['UserID', 'NewsID', 'Rating']], reader)"
      ]
    },
    {
      "cell_type": "code",
      "execution_count": null,
      "metadata": {
        "colab": {
          "base_uri": "https://localhost:8080/"
        },
        "id": "W8d1lKTkDV_c",
        "outputId": "5b6fa6da-bc10-4819-865d-d4c79b48a886"
      },
      "outputs": [
        {
          "name": "stdout",
          "output_type": "stream",
          "text": [
            "RMSE: 0.2153\n",
            "MAE:  0.1077\n",
            "SVD RMSE: 0.21531060385526446\n",
            "SVD MAE: 0.10772619204522202\n"
          ]
        }
      ],
      "source": [
        "from surprise import SVD, SVDpp, accuracy\n",
        "from surprise.model_selection import train_test_split\n",
        "\n",
        "# Split data into train and test set\n",
        "trainset, testset = train_test_split(data, test_size=0.2)\n",
        "\n",
        "# Build and train the SVD model\n",
        "svd = SVD()\n",
        "svd.fit(trainset)\n",
        "predictions_svd = svd.test(testset)\n",
        "\n",
        "rmse_svd = accuracy.rmse(predictions_svd)\n",
        "mae_svd = accuracy.mae(predictions_svd)\n",
        "\n",
        "print(\"SVD RMSE:\", rmse_svd)\n",
        "print(\"SVD MAE:\", mae_svd)"
      ]
    },
    {
      "cell_type": "code",
      "execution_count": null,
      "metadata": {
        "colab": {
          "base_uri": "https://localhost:8080/"
        },
        "id": "-hf9IfW5Lp7B",
        "outputId": "0216ae67-6ac5-48a3-dc82-d1482a779da2"
      },
      "outputs": [
        {
          "name": "stdout",
          "output_type": "stream",
          "text": [
            "RMSE: 0.2177\n",
            "MAE:  0.1112\n",
            "SVD RMSE: 0.21771650003964746\n",
            "SVD MAE: 0.11119217052632945\n"
          ]
        }
      ],
      "source": [
        "svdpp = SVDpp()\n",
        "svdpp.fit(trainset)\n",
        "predictions_svdpp = svdpp.test(testset)\n",
        "\n",
        "rmse_svdpp = accuracy.rmse(predictions_svdpp)\n",
        "mae_svdpp = accuracy.mae(predictions_svdpp)"
      ]
    },
    {
      "cell_type": "code",
      "execution_count": null,
      "metadata": {
        "colab": {
          "base_uri": "https://localhost:8080/"
        },
        "id": "BTZIumMcXQeK",
        "outputId": "864ef00f-9e57-4336-ba9f-584073083bab"
      },
      "outputs": [
        {
          "name": "stdout",
          "output_type": "stream",
          "text": [
            "SVDpp RMSE: 0.21771650003964746\n",
            "SVDpp MAE: 0.11119217052632945\n"
          ]
        }
      ],
      "source": [
        "print(\"SVDpp RMSE:\", rmse_svdpp)\n",
        "print(\"SVDpp MAE:\", mae_svdpp)"
      ]
    },
    {
      "cell_type": "code",
      "execution_count": null,
      "metadata": {
        "id": "ImiHslilF9tq"
      },
      "outputs": [],
      "source": [
        "from sklearn.metrics import roc_auc_score\n",
        "import numpy as np\n",
        "\n",
        "def compute_auc(predictions):\n",
        "    true_labels = [pred.r_ui for pred in predictions]\n",
        "    scores = [pred.est for pred in predictions]\n",
        "    return roc_auc_score(true_labels, scores)\n",
        "\n",
        "def compute_ndcg(predictions, k=10):\n",
        "    users = {}\n",
        "    for uid, _, true_r, est, _ in predictions:\n",
        "        if not users.get(uid):\n",
        "            users[uid] = []\n",
        "        users[uid].append((est, true_r))\n",
        "\n",
        "    def single_user_ndcg(items):\n",
        "        items = sorted(items, key=lambda x: x[0], reverse=True)\n",
        "        gain = 0.0\n",
        "        for i, (_, true_r) in enumerate(items[:k]):\n",
        "            gain += true_r / np.log2(i+2)  # +2 because of 0-based indexing\n",
        "        ideal_items = sorted(items, key=lambda x: x[1], reverse=True)\n",
        "        ideal_gain = 0.0\n",
        "        for i, (_, true_r) in enumerate(ideal_items[:k]):\n",
        "            ideal_gain += true_r / np.log2(i+2)\n",
        "        if ideal_gain == 0:\n",
        "            return 0\n",
        "        return gain / ideal_gain\n",
        "\n",
        "    ndcg = np.mean([single_user_ndcg(user) for user in users.values()])\n",
        "    return ndcg"
      ]
    },
    {
      "cell_type": "code",
      "execution_count": null,
      "metadata": {
        "colab": {
          "base_uri": "https://localhost:8080/"
        },
        "id": "CpXO1FcFLQby",
        "outputId": "c95c1697-625f-4352-ab34-a90db1a6e968"
      },
      "outputs": [
        {
          "name": "stdout",
          "output_type": "stream",
          "text": [
            "SVD AUC: 0.6742085303899098\n",
            "SVD NDCG@10: 0.20859465962934035\n",
            "SVD NDCG@5: 0.1877216642889651\n"
          ]
        }
      ],
      "source": [
        "# AUC\n",
        "auc_svd = compute_auc(predictions_svd)\n",
        "\n",
        "# NDCG@10\n",
        "ndcg10_svd = compute_ndcg(predictions_svd, k=10)\n",
        "\n",
        "\n",
        "# NDCG@5\n",
        "ndcg5_svd = compute_ndcg(predictions_svd, k=5)\n",
        "\n",
        "\n",
        "# Printing the metrics\n",
        "print(\"SVD AUC:\", auc_svd)\n",
        "print(\"SVD NDCG@10:\", ndcg10_svd)\n",
        "print(\"SVD NDCG@5:\", ndcg5_svd)"
      ]
    },
    {
      "cell_type": "code",
      "execution_count": null,
      "metadata": {
        "id": "ewKj6q7AYiEH"
      },
      "outputs": [],
      "source": []
    }
  ],
  "metadata": {
    "accelerator": "GPU",
    "colab": {
      "gpuType": "T4",
      "provenance": []
    },
    "kernelspec": {
      "display_name": "Python 3",
      "name": "python3"
    },
    "language_info": {
      "name": "python"
    }
  },
  "nbformat": 4,
  "nbformat_minor": 0
}
