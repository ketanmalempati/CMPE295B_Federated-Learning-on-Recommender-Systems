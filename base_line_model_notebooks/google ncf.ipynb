{
 "cells": [
  {
   "cell_type": "code",
   "execution_count": 1,
   "id": "c816186f",
   "metadata": {},
   "outputs": [
    {
     "name": "stderr",
     "output_type": "stream",
     "text": [
      "C:\\Users\\pruth\\anaconda3\\lib\\site-packages\\numpy\\_distributor_init.py:30: UserWarning: loaded more than 1 DLL from .libs:\n",
      "C:\\Users\\pruth\\anaconda3\\lib\\site-packages\\numpy\\.libs\\libopenblas64__v0.3.21-gcc_10_3_0.dll\n",
      "C:\\Users\\pruth\\anaconda3\\lib\\site-packages\\numpy\\.libs\\libopenblas64__v0.3.23-gcc_10_3_0.dll\n",
      "  warnings.warn(\"loaded more than 1 DLL from .libs:\"\n"
     ]
    }
   ],
   "source": [
    "import pandas as pd\n",
    "import json\n",
    "import gzip\n",
    "import numpy as np\n",
    "import random\n",
    "from surprise import accuracy\n",
    "from surprise import Dataset\n",
    "from surprise import Reader\n",
    "from surprise import SVD,SVDpp, SlopeOne, NMF, NormalPredictor, KNNBaseline, KNNBasic, KNNWithMeans, KNNWithZScore, BaselineOnly, CoClustering\n",
    "\n",
    "from surprise.model_selection import GridSearchCV\n",
    "from tqdm import tqdm\n",
    "import matplotlib.pyplot as plt\n",
    "from surprise.model_selection.validation import cross_validate"
   ]
  },
  {
   "cell_type": "code",
   "execution_count": 2,
   "id": "0cffb614",
   "metadata": {},
   "outputs": [],
   "source": [
    "df = pd.read_csv(r\"C:\\Users\\pruth\\Downloads\\final project\\baseline\\datasets\\google_reviews.csv\")"
   ]
  },
  {
   "cell_type": "code",
   "execution_count": 3,
   "id": "30c5467a",
   "metadata": {},
   "outputs": [
    {
     "data": {
      "text/html": [
       "<div>\n",
       "<style scoped>\n",
       "    .dataframe tbody tr th:only-of-type {\n",
       "        vertical-align: middle;\n",
       "    }\n",
       "\n",
       "    .dataframe tbody tr th {\n",
       "        vertical-align: top;\n",
       "    }\n",
       "\n",
       "    .dataframe thead th {\n",
       "        text-align: right;\n",
       "    }\n",
       "</style>\n",
       "<table border=\"1\" class=\"dataframe\">\n",
       "  <thead>\n",
       "    <tr style=\"text-align: right;\">\n",
       "      <th></th>\n",
       "      <th>user_id</th>\n",
       "      <th>name</th>\n",
       "      <th>time</th>\n",
       "      <th>rating</th>\n",
       "      <th>text</th>\n",
       "      <th>pics</th>\n",
       "      <th>resp</th>\n",
       "      <th>gmap_id</th>\n",
       "    </tr>\n",
       "  </thead>\n",
       "  <tbody>\n",
       "    <tr>\n",
       "      <th>0</th>\n",
       "      <td>111435346941066248277</td>\n",
       "      <td>Jenn Thomas</td>\n",
       "      <td>1602893531994</td>\n",
       "      <td>5</td>\n",
       "      <td>When knowledge is key and kindness matters, Ni...</td>\n",
       "      <td>NaN</td>\n",
       "      <td>NaN</td>\n",
       "      <td>0x8758dd1ca83449d9:0xb6156dcfc5e04c9b</td>\n",
       "    </tr>\n",
       "    <tr>\n",
       "      <th>1</th>\n",
       "      <td>103613723635264236030</td>\n",
       "      <td>Michelle Barta</td>\n",
       "      <td>1575991509006</td>\n",
       "      <td>5</td>\n",
       "      <td>The entire team is outstanding! They are profe...</td>\n",
       "      <td>NaN</td>\n",
       "      <td>{'time': 1580484156696, 'text': 'We are lucky ...</td>\n",
       "      <td>0x8758dd1ca83449d9:0xb6156dcfc5e04c9b</td>\n",
       "    </tr>\n",
       "    <tr>\n",
       "      <th>2</th>\n",
       "      <td>113556685435236755030</td>\n",
       "      <td>Bethany Baldes</td>\n",
       "      <td>1626981484302</td>\n",
       "      <td>5</td>\n",
       "      <td>NaN</td>\n",
       "      <td>NaN</td>\n",
       "      <td>NaN</td>\n",
       "      <td>0x8758dd1ca83449d9:0xb6156dcfc5e04c9b</td>\n",
       "    </tr>\n",
       "    <tr>\n",
       "      <th>3</th>\n",
       "      <td>102235352482458236558</td>\n",
       "      <td>nichole vogt</td>\n",
       "      <td>1583381337082</td>\n",
       "      <td>5</td>\n",
       "      <td>NaN</td>\n",
       "      <td>NaN</td>\n",
       "      <td>NaN</td>\n",
       "      <td>0x8758dd1ca83449d9:0xb6156dcfc5e04c9b</td>\n",
       "    </tr>\n",
       "    <tr>\n",
       "      <th>4</th>\n",
       "      <td>114021734869233847378</td>\n",
       "      <td>Kristi Friday</td>\n",
       "      <td>1571112557173</td>\n",
       "      <td>4</td>\n",
       "      <td>NaN</td>\n",
       "      <td>NaN</td>\n",
       "      <td>{'time': 1571246498430, 'text': 'Thanks for th...</td>\n",
       "      <td>0x8758dd1ca83449d9:0xb6156dcfc5e04c9b</td>\n",
       "    </tr>\n",
       "  </tbody>\n",
       "</table>\n",
       "</div>"
      ],
      "text/plain": [
       "                 user_id            name           time  rating  \\\n",
       "0  111435346941066248277     Jenn Thomas  1602893531994       5   \n",
       "1  103613723635264236030  Michelle Barta  1575991509006       5   \n",
       "2  113556685435236755030  Bethany Baldes  1626981484302       5   \n",
       "3  102235352482458236558    nichole vogt  1583381337082       5   \n",
       "4  114021734869233847378   Kristi Friday  1571112557173       4   \n",
       "\n",
       "                                                text pics  \\\n",
       "0  When knowledge is key and kindness matters, Ni...  NaN   \n",
       "1  The entire team is outstanding! They are profe...  NaN   \n",
       "2                                                NaN  NaN   \n",
       "3                                                NaN  NaN   \n",
       "4                                                NaN  NaN   \n",
       "\n",
       "                                                resp  \\\n",
       "0                                                NaN   \n",
       "1  {'time': 1580484156696, 'text': 'We are lucky ...   \n",
       "2                                                NaN   \n",
       "3                                                NaN   \n",
       "4  {'time': 1571246498430, 'text': 'Thanks for th...   \n",
       "\n",
       "                                 gmap_id  \n",
       "0  0x8758dd1ca83449d9:0xb6156dcfc5e04c9b  \n",
       "1  0x8758dd1ca83449d9:0xb6156dcfc5e04c9b  \n",
       "2  0x8758dd1ca83449d9:0xb6156dcfc5e04c9b  \n",
       "3  0x8758dd1ca83449d9:0xb6156dcfc5e04c9b  \n",
       "4  0x8758dd1ca83449d9:0xb6156dcfc5e04c9b  "
      ]
     },
     "execution_count": 3,
     "metadata": {},
     "output_type": "execute_result"
    }
   ],
   "source": [
    "df.head()"
   ]
  },
  {
   "cell_type": "code",
   "execution_count": 4,
   "id": "1f938237",
   "metadata": {},
   "outputs": [],
   "source": [
    "import tensorflow as tf\n",
    "from tensorflow.keras.layers import Dense, Flatten, Input, Embedding, Concatenate, Dropout\n",
    "from tensorflow.keras.callbacks import EarlyStopping\n",
    "from tensorflow.keras.optimizers import Adam\n",
    "import keras\n",
    "from keras.layers import Add, Activation, Lambda, BatchNormalization, Concatenate, Dropout, Input, Embedding, Dot, Reshape, Dense, Flatten\n",
    "from keras import regularizers\n",
    "from sklearn.feature_extraction.text import CountVectorizer\n"
   ]
  },
  {
   "cell_type": "code",
   "execution_count": 5,
   "id": "b3b00bf8",
   "metadata": {},
   "outputs": [],
   "source": [
    "from sklearn.feature_extraction.text import TfidfVectorizer\n",
    "from sklearn.decomposition import TruncatedSVD"
   ]
  },
  {
   "cell_type": "code",
   "execution_count": 6,
   "id": "75e29e08",
   "metadata": {},
   "outputs": [
    {
     "name": "stdout",
     "output_type": "stream",
     "text": [
      "WARNING:tensorflow:From C:\\Users\\pruth\\anaconda3\\lib\\site-packages\\tensorflow\\python\\compat\\v2_compat.py:107: disable_resource_variables (from tensorflow.python.ops.variable_scope) is deprecated and will be removed in a future version.\n",
      "Instructions for updating:\n",
      "non-resource variables are not supported in the long term\n"
     ]
    },
    {
     "name": "stderr",
     "output_type": "stream",
     "text": [
      "C:\\Users\\pruth\\anaconda3\\lib\\site-packages\\paramiko\\transport.py:219: CryptographyDeprecationWarning: Blowfish has been deprecated\n",
      "  \"class\": algorithms.Blowfish,\n"
     ]
    }
   ],
   "source": [
    "from libreco.data import random_split, DatasetPure\n",
    "from libreco.algorithms import NCF  # pure data, \n",
    "from libreco.evaluation import evaluate\n"
   ]
  },
  {
   "cell_type": "code",
   "execution_count": 7,
   "id": "ea248982",
   "metadata": {},
   "outputs": [
    {
     "data": {
      "text/html": [
       "<div>\n",
       "<style scoped>\n",
       "    .dataframe tbody tr th:only-of-type {\n",
       "        vertical-align: middle;\n",
       "    }\n",
       "\n",
       "    .dataframe tbody tr th {\n",
       "        vertical-align: top;\n",
       "    }\n",
       "\n",
       "    .dataframe thead th {\n",
       "        text-align: right;\n",
       "    }\n",
       "</style>\n",
       "<table border=\"1\" class=\"dataframe\">\n",
       "  <thead>\n",
       "    <tr style=\"text-align: right;\">\n",
       "      <th></th>\n",
       "      <th>user_id</th>\n",
       "      <th>name</th>\n",
       "      <th>time</th>\n",
       "      <th>rating</th>\n",
       "      <th>text</th>\n",
       "      <th>pics</th>\n",
       "      <th>resp</th>\n",
       "      <th>gmap_id</th>\n",
       "    </tr>\n",
       "  </thead>\n",
       "  <tbody>\n",
       "    <tr>\n",
       "      <th>0</th>\n",
       "      <td>111435346941066248277</td>\n",
       "      <td>Jenn Thomas</td>\n",
       "      <td>1602893531994</td>\n",
       "      <td>5</td>\n",
       "      <td>When knowledge is key and kindness matters, Ni...</td>\n",
       "      <td>NaN</td>\n",
       "      <td>NaN</td>\n",
       "      <td>0x8758dd1ca83449d9:0xb6156dcfc5e04c9b</td>\n",
       "    </tr>\n",
       "    <tr>\n",
       "      <th>1</th>\n",
       "      <td>103613723635264236030</td>\n",
       "      <td>Michelle Barta</td>\n",
       "      <td>1575991509006</td>\n",
       "      <td>5</td>\n",
       "      <td>The entire team is outstanding! They are profe...</td>\n",
       "      <td>NaN</td>\n",
       "      <td>{'time': 1580484156696, 'text': 'We are lucky ...</td>\n",
       "      <td>0x8758dd1ca83449d9:0xb6156dcfc5e04c9b</td>\n",
       "    </tr>\n",
       "    <tr>\n",
       "      <th>2</th>\n",
       "      <td>113556685435236755030</td>\n",
       "      <td>Bethany Baldes</td>\n",
       "      <td>1626981484302</td>\n",
       "      <td>5</td>\n",
       "      <td>NaN</td>\n",
       "      <td>NaN</td>\n",
       "      <td>NaN</td>\n",
       "      <td>0x8758dd1ca83449d9:0xb6156dcfc5e04c9b</td>\n",
       "    </tr>\n",
       "    <tr>\n",
       "      <th>3</th>\n",
       "      <td>102235352482458236558</td>\n",
       "      <td>nichole vogt</td>\n",
       "      <td>1583381337082</td>\n",
       "      <td>5</td>\n",
       "      <td>NaN</td>\n",
       "      <td>NaN</td>\n",
       "      <td>NaN</td>\n",
       "      <td>0x8758dd1ca83449d9:0xb6156dcfc5e04c9b</td>\n",
       "    </tr>\n",
       "    <tr>\n",
       "      <th>4</th>\n",
       "      <td>114021734869233847378</td>\n",
       "      <td>Kristi Friday</td>\n",
       "      <td>1571112557173</td>\n",
       "      <td>4</td>\n",
       "      <td>NaN</td>\n",
       "      <td>NaN</td>\n",
       "      <td>{'time': 1571246498430, 'text': 'Thanks for th...</td>\n",
       "      <td>0x8758dd1ca83449d9:0xb6156dcfc5e04c9b</td>\n",
       "    </tr>\n",
       "  </tbody>\n",
       "</table>\n",
       "</div>"
      ],
      "text/plain": [
       "                 user_id            name           time  rating  \\\n",
       "0  111435346941066248277     Jenn Thomas  1602893531994       5   \n",
       "1  103613723635264236030  Michelle Barta  1575991509006       5   \n",
       "2  113556685435236755030  Bethany Baldes  1626981484302       5   \n",
       "3  102235352482458236558    nichole vogt  1583381337082       5   \n",
       "4  114021734869233847378   Kristi Friday  1571112557173       4   \n",
       "\n",
       "                                                text pics  \\\n",
       "0  When knowledge is key and kindness matters, Ni...  NaN   \n",
       "1  The entire team is outstanding! They are profe...  NaN   \n",
       "2                                                NaN  NaN   \n",
       "3                                                NaN  NaN   \n",
       "4                                                NaN  NaN   \n",
       "\n",
       "                                                resp  \\\n",
       "0                                                NaN   \n",
       "1  {'time': 1580484156696, 'text': 'We are lucky ...   \n",
       "2                                                NaN   \n",
       "3                                                NaN   \n",
       "4  {'time': 1571246498430, 'text': 'Thanks for th...   \n",
       "\n",
       "                                 gmap_id  \n",
       "0  0x8758dd1ca83449d9:0xb6156dcfc5e04c9b  \n",
       "1  0x8758dd1ca83449d9:0xb6156dcfc5e04c9b  \n",
       "2  0x8758dd1ca83449d9:0xb6156dcfc5e04c9b  \n",
       "3  0x8758dd1ca83449d9:0xb6156dcfc5e04c9b  \n",
       "4  0x8758dd1ca83449d9:0xb6156dcfc5e04c9b  "
      ]
     },
     "execution_count": 7,
     "metadata": {},
     "output_type": "execute_result"
    }
   ],
   "source": [
    "df.head()"
   ]
  },
  {
   "cell_type": "code",
   "execution_count": 8,
   "id": "f28f41ce",
   "metadata": {},
   "outputs": [],
   "source": [
    "df[\"user\"] = df[\"user_id\"]\n",
    "df[\"label\"] = df[\"rating\"]\n",
    "#, \"item\", \"label\", \"time\"\n",
    "df[\"item\"] = df[\"gmap_id\"]\n",
    "df=df[[\"user\",\"item\",\"label\"]]"
   ]
  },
  {
   "cell_type": "code",
   "execution_count": 9,
   "id": "b37ac841",
   "metadata": {},
   "outputs": [],
   "source": [
    "train_data, eval_data, test_data = random_split(df, multi_ratios=[0.8, 0.1, 0.1])\n"
   ]
  },
  {
   "cell_type": "code",
   "execution_count": 10,
   "id": "ee1254a6",
   "metadata": {},
   "outputs": [],
   "source": [
    "train_data, data_info= DatasetPure.build_trainset(train_data)\n",
    "eval_data = DatasetPure.build_evalset(eval_data)\n",
    "test_data = DatasetPure.build_testset(test_data)"
   ]
  },
  {
   "cell_type": "code",
   "execution_count": 11,
   "id": "024007fd",
   "metadata": {},
   "outputs": [],
   "source": [
    "ncf = NCF(\n",
    "    task=\"rating\",\n",
    "    data_info=data_info,\n",
    "    loss_type=\"cross_entropy\",\n",
    "    embed_size=16,\n",
    "    n_epochs=10,\n",
    "    lr=1e-3,\n",
    "    batch_size=2048,\n",
    "    num_neg=1,\n",
    ")"
   ]
  },
  {
   "cell_type": "code",
   "execution_count": 12,
   "id": "ce5c0a16",
   "metadata": {},
   "outputs": [
    {
     "name": "stdout",
     "output_type": "stream",
     "text": [
      "Training start time: \u001b[35m2023-10-28 15:56:47\u001b[0m\n",
      "WARNING:tensorflow:From C:\\Users\\pruth\\anaconda3\\lib\\site-packages\\keras\\layers\\normalization\\batch_normalization.py:514: _colocate_with (from tensorflow.python.framework.ops) is deprecated and will be removed in a future version.\n",
      "Instructions for updating:\n",
      "Colocations handled automatically by placer.\n"
     ]
    },
    {
     "name": "stderr",
     "output_type": "stream",
     "text": [
      "C:\\Users\\pruth\\anaconda3\\lib\\site-packages\\libreco\\layers\\dense.py:31: UserWarning: `tf.layers.batch_normalization` is deprecated and will be removed in a future version. Please use `tf.keras.layers.BatchNormalization` instead. In particular, `tf.control_dependencies(tf.GraphKeys.UPDATE_OPS)` should not be used (consult the `tf.keras.layers.BatchNormalization` documentation).\n",
      "  net = tf.layers.batch_normalization(net, training=is_training)\n",
      "2023-10-28 15:56:47,319 - WARNING - From C:\\Users\\pruth\\anaconda3\\lib\\site-packages\\keras\\layers\\normalization\\batch_normalization.py:514: _colocate_with (from tensorflow.python.framework.ops) is deprecated and will be removed in a future version.\n",
      "Instructions for updating:\n",
      "Colocations handled automatically by placer.\n",
      "C:\\Users\\pruth\\anaconda3\\lib\\site-packages\\libreco\\layers\\dense.py:39: UserWarning: `tf.layers.batch_normalization` is deprecated and will be removed in a future version. Please use `tf.keras.layers.BatchNormalization` instead. In particular, `tf.control_dependencies(tf.GraphKeys.UPDATE_OPS)` should not be used (consult the `tf.keras.layers.BatchNormalization` documentation).\n",
      "  net = tf.layers.batch_normalization(net, training=is_training)\n",
      "train: 100%|████████████████████████████████████████████████████████████████| 335/335 [00:03<00:00, 108.25it/s]\n"
     ]
    },
    {
     "name": "stdout",
     "output_type": "stream",
     "text": [
      "Epoch 1 elapsed: 3.097s\n",
      "\t \u001b[32mtrain_loss: 3.9678\u001b[0m\n"
     ]
    },
    {
     "name": "stderr",
     "output_type": "stream",
     "text": [
      "eval_pointwise: 100%|███████████████████████████████████████████████████████████| 6/6 [00:00<00:00, 120.00it/s]\n"
     ]
    },
    {
     "name": "stdout",
     "output_type": "stream",
     "text": [
      "\t eval rmse: 1.0836\n",
      "==============================\n"
     ]
    },
    {
     "name": "stderr",
     "output_type": "stream",
     "text": [
      "train: 100%|████████████████████████████████████████████████████████████████| 335/335 [00:01<00:00, 205.04it/s]\n"
     ]
    },
    {
     "name": "stdout",
     "output_type": "stream",
     "text": [
      "Epoch 2 elapsed: 1.635s\n",
      "\t \u001b[32mtrain_loss: 0.848\u001b[0m\n"
     ]
    },
    {
     "name": "stderr",
     "output_type": "stream",
     "text": [
      "eval_pointwise: 100%|███████████████████████████████████████████████████████████| 6/6 [00:00<00:00, 352.91it/s]\n"
     ]
    },
    {
     "name": "stdout",
     "output_type": "stream",
     "text": [
      "\t eval rmse: 0.9801\n",
      "==============================\n"
     ]
    },
    {
     "name": "stderr",
     "output_type": "stream",
     "text": [
      "train: 100%|████████████████████████████████████████████████████████████████| 335/335 [00:01<00:00, 206.52it/s]\n"
     ]
    },
    {
     "name": "stdout",
     "output_type": "stream",
     "text": [
      "Epoch 3 elapsed: 1.623s\n",
      "\t \u001b[32mtrain_loss: 0.716\u001b[0m\n"
     ]
    },
    {
     "name": "stderr",
     "output_type": "stream",
     "text": [
      "eval_pointwise: 100%|███████████████████████████████████████████████████████████| 6/6 [00:00<00:00, 375.02it/s]\n"
     ]
    },
    {
     "name": "stdout",
     "output_type": "stream",
     "text": [
      "\t eval rmse: 0.9802\n",
      "==============================\n"
     ]
    },
    {
     "name": "stderr",
     "output_type": "stream",
     "text": [
      "train: 100%|████████████████████████████████████████████████████████████████| 335/335 [00:01<00:00, 197.06it/s]\n"
     ]
    },
    {
     "name": "stdout",
     "output_type": "stream",
     "text": [
      "Epoch 4 elapsed: 1.701s\n",
      "\t \u001b[32mtrain_loss: 0.6337\u001b[0m\n"
     ]
    },
    {
     "name": "stderr",
     "output_type": "stream",
     "text": [
      "eval_pointwise: 100%|███████████████████████████████████████████████████████████| 6/6 [00:00<00:00, 374.81it/s]\n"
     ]
    },
    {
     "name": "stdout",
     "output_type": "stream",
     "text": [
      "\t eval rmse: 0.9851\n",
      "==============================\n"
     ]
    },
    {
     "name": "stderr",
     "output_type": "stream",
     "text": [
      "train: 100%|████████████████████████████████████████████████████████████████| 335/335 [00:01<00:00, 206.19it/s]\n"
     ]
    },
    {
     "name": "stdout",
     "output_type": "stream",
     "text": [
      "Epoch 5 elapsed: 1.627s\n",
      "\t \u001b[32mtrain_loss: 0.5752\u001b[0m\n"
     ]
    },
    {
     "name": "stderr",
     "output_type": "stream",
     "text": [
      "eval_pointwise: 100%|███████████████████████████████████████████████████████████| 6/6 [00:00<00:00, 352.92it/s]\n"
     ]
    },
    {
     "name": "stdout",
     "output_type": "stream",
     "text": [
      "\t eval rmse: 0.9998\n",
      "==============================\n"
     ]
    },
    {
     "name": "stderr",
     "output_type": "stream",
     "text": [
      "train: 100%|████████████████████████████████████████████████████████████████| 335/335 [00:01<00:00, 200.48it/s]\n"
     ]
    },
    {
     "name": "stdout",
     "output_type": "stream",
     "text": [
      "Epoch 6 elapsed: 1.673s\n",
      "\t \u001b[32mtrain_loss: 0.5269\u001b[0m\n"
     ]
    },
    {
     "name": "stderr",
     "output_type": "stream",
     "text": [
      "eval_pointwise: 100%|███████████████████████████████████████████████████████████| 6/6 [00:00<00:00, 374.96it/s]\n"
     ]
    },
    {
     "name": "stdout",
     "output_type": "stream",
     "text": [
      "\t eval rmse: 1.0064\n",
      "==============================\n"
     ]
    },
    {
     "name": "stderr",
     "output_type": "stream",
     "text": [
      "train: 100%|████████████████████████████████████████████████████████████████| 335/335 [00:01<00:00, 201.91it/s]\n"
     ]
    },
    {
     "name": "stdout",
     "output_type": "stream",
     "text": [
      "Epoch 7 elapsed: 1.661s\n",
      "\t \u001b[32mtrain_loss: 0.4844\u001b[0m\n"
     ]
    },
    {
     "name": "stderr",
     "output_type": "stream",
     "text": [
      "eval_pointwise: 100%|███████████████████████████████████████████████████████████| 6/6 [00:00<00:00, 333.32it/s]\n"
     ]
    },
    {
     "name": "stdout",
     "output_type": "stream",
     "text": [
      "\t eval rmse: 1.0163\n",
      "==============================\n"
     ]
    },
    {
     "name": "stderr",
     "output_type": "stream",
     "text": [
      "train: 100%|████████████████████████████████████████████████████████████████| 335/335 [00:01<00:00, 203.25it/s]\n"
     ]
    },
    {
     "name": "stdout",
     "output_type": "stream",
     "text": [
      "Epoch 8 elapsed: 1.650s\n",
      "\t \u001b[32mtrain_loss: 0.4528\u001b[0m\n"
     ]
    },
    {
     "name": "stderr",
     "output_type": "stream",
     "text": [
      "eval_pointwise: 100%|███████████████████████████████████████████████████████████| 6/6 [00:00<00:00, 324.11it/s]\n"
     ]
    },
    {
     "name": "stdout",
     "output_type": "stream",
     "text": [
      "\t eval rmse: 1.0287\n",
      "==============================\n"
     ]
    },
    {
     "name": "stderr",
     "output_type": "stream",
     "text": [
      "train: 100%|████████████████████████████████████████████████████████████████| 335/335 [00:01<00:00, 203.98it/s]\n"
     ]
    },
    {
     "name": "stdout",
     "output_type": "stream",
     "text": [
      "Epoch 9 elapsed: 1.645s\n",
      "\t \u001b[32mtrain_loss: 0.4213\u001b[0m\n"
     ]
    },
    {
     "name": "stderr",
     "output_type": "stream",
     "text": [
      "eval_pointwise: 100%|███████████████████████████████████████████████████████████| 6/6 [00:00<00:00, 375.00it/s]\n"
     ]
    },
    {
     "name": "stdout",
     "output_type": "stream",
     "text": [
      "\t eval rmse: 1.0397\n",
      "==============================\n"
     ]
    },
    {
     "name": "stderr",
     "output_type": "stream",
     "text": [
      "train: 100%|████████████████████████████████████████████████████████████████| 335/335 [00:01<00:00, 203.43it/s]\n"
     ]
    },
    {
     "name": "stdout",
     "output_type": "stream",
     "text": [
      "Epoch 10 elapsed: 1.649s\n",
      "\t \u001b[32mtrain_loss: 0.3989\u001b[0m\n"
     ]
    },
    {
     "name": "stderr",
     "output_type": "stream",
     "text": [
      "eval_pointwise: 100%|███████████████████████████████████████████████████████████| 6/6 [00:00<00:00, 374.97it/s]\n"
     ]
    },
    {
     "name": "stdout",
     "output_type": "stream",
     "text": [
      "\t eval rmse: 1.0420\n",
      "==============================\n"
     ]
    },
    {
     "name": "stderr",
     "output_type": "stream",
     "text": [
      "eval_pointwise: 100%|███████████████████████████████████████████████████████████| 6/6 [00:00<00:00, 386.87it/s]\n"
     ]
    },
    {
     "data": {
      "text/plain": [
       "{'loss': 1.0395138}"
      ]
     },
     "execution_count": 12,
     "metadata": {},
     "output_type": "execute_result"
    }
   ],
   "source": [
    "ncf.fit(\n",
    "    train_data,\n",
    "    neg_sampling=False, #for rating, this param is false else True\n",
    "    verbose=2,\n",
    "    eval_data=eval_data,\n",
    "    metrics=[\"loss\"],\n",
    ")\n",
    "\n",
    "# do final evaluation on test data\n",
    "evaluate(\n",
    "    model=ncf,\n",
    "    data=test_data,\n",
    "    neg_sampling=False,\n",
    "    metrics=[\"loss\"],\n",
    ")"
   ]
  },
  {
   "cell_type": "code",
   "execution_count": 13,
   "id": "23b65194",
   "metadata": {},
   "outputs": [
    {
     "name": "stderr",
     "output_type": "stream",
     "text": [
      "eval_pointwise: 100%|███████████████████████████████████████████████████████████| 6/6 [00:00<00:00, 315.77it/s]\n"
     ]
    },
    {
     "data": {
      "text/plain": [
       "{'mae': 0.7465751}"
      ]
     },
     "execution_count": 13,
     "metadata": {},
     "output_type": "execute_result"
    }
   ],
   "source": [
    "evaluate(\n",
    "    model=ncf,\n",
    "    data=test_data,\n",
    "    neg_sampling=False,\n",
    "    metrics=[\"mae\"],\n",
    ")"
   ]
  },
  {
   "cell_type": "code",
   "execution_count": 14,
   "id": "f9bb8862",
   "metadata": {},
   "outputs": [
    {
     "name": "stderr",
     "output_type": "stream",
     "text": [
      "eval_pointwise: 100%|███████████████████████████████████████████████████████████| 6/6 [00:00<00:00, 352.82it/s]\n"
     ]
    },
    {
     "data": {
      "text/plain": [
       "{'rmse': 1.0395138}"
      ]
     },
     "execution_count": 14,
     "metadata": {},
     "output_type": "execute_result"
    }
   ],
   "source": [
    "evaluate(\n",
    "    model=ncf,\n",
    "    data=test_data,\n",
    "    neg_sampling=False,\n",
    "    metrics=[\"rmse\"],\n",
    ")"
   ]
  },
  {
   "cell_type": "code",
   "execution_count": null,
   "id": "e8b9659c",
   "metadata": {},
   "outputs": [],
   "source": []
  },
  {
   "cell_type": "code",
   "execution_count": null,
   "id": "97eb63b2",
   "metadata": {},
   "outputs": [],
   "source": []
  }
 ],
 "metadata": {
  "kernelspec": {
   "display_name": "Python 3 (ipykernel)",
   "language": "python",
   "name": "python3"
  },
  "language_info": {
   "codemirror_mode": {
    "name": "ipython",
    "version": 3
   },
   "file_extension": ".py",
   "mimetype": "text/x-python",
   "name": "python",
   "nbconvert_exporter": "python",
   "pygments_lexer": "ipython3",
   "version": "3.9.18"
  }
 },
 "nbformat": 4,
 "nbformat_minor": 5
}
