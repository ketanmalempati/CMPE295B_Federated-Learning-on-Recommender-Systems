{
 "cells": [
  {
   "cell_type": "code",
   "execution_count": 1,
   "id": "a91dd121-b8da-4d93-93b8-ebbac01e8ce2",
   "metadata": {},
   "outputs": [],
   "source": [
    "import pandas as pd\n",
    "from surprise import Dataset\n",
    "from surprise import Reader"
   ]
  },
  {
   "cell_type": "code",
   "execution_count": 2,
   "id": "6c73fa22-cb3a-41ba-9f28-ff89df28333b",
   "metadata": {},
   "outputs": [],
   "source": [
    "books_df = pd.read_csv('/home/016709732/dataset/goodreads_interactions.csv')"
   ]
  },
  {
   "cell_type": "code",
   "execution_count": 3,
   "id": "579ed8ce-7056-4f11-85a8-8ca2dcc63566",
   "metadata": {},
   "outputs": [
    {
     "data": {
      "text/plain": [
       "(228648342, 5)"
      ]
     },
     "execution_count": 3,
     "metadata": {},
     "output_type": "execute_result"
    }
   ],
   "source": [
    "books_df.shape"
   ]
  },
  {
   "cell_type": "code",
   "execution_count": 4,
   "id": "591f63a5-d978-49fe-af61-4c0cbf3c74ba",
   "metadata": {},
   "outputs": [
    {
     "data": {
      "text/html": [
       "<div>\n",
       "<style scoped>\n",
       "    .dataframe tbody tr th:only-of-type {\n",
       "        vertical-align: middle;\n",
       "    }\n",
       "\n",
       "    .dataframe tbody tr th {\n",
       "        vertical-align: top;\n",
       "    }\n",
       "\n",
       "    .dataframe thead th {\n",
       "        text-align: right;\n",
       "    }\n",
       "</style>\n",
       "<table border=\"1\" class=\"dataframe\">\n",
       "  <thead>\n",
       "    <tr style=\"text-align: right;\">\n",
       "      <th></th>\n",
       "      <th>user_id</th>\n",
       "      <th>book_id</th>\n",
       "      <th>is_read</th>\n",
       "      <th>rating</th>\n",
       "      <th>is_reviewed</th>\n",
       "    </tr>\n",
       "  </thead>\n",
       "  <tbody>\n",
       "    <tr>\n",
       "      <th>0</th>\n",
       "      <td>0</td>\n",
       "      <td>948</td>\n",
       "      <td>1</td>\n",
       "      <td>5</td>\n",
       "      <td>0</td>\n",
       "    </tr>\n",
       "    <tr>\n",
       "      <th>1</th>\n",
       "      <td>0</td>\n",
       "      <td>947</td>\n",
       "      <td>1</td>\n",
       "      <td>5</td>\n",
       "      <td>1</td>\n",
       "    </tr>\n",
       "    <tr>\n",
       "      <th>2</th>\n",
       "      <td>0</td>\n",
       "      <td>946</td>\n",
       "      <td>1</td>\n",
       "      <td>5</td>\n",
       "      <td>0</td>\n",
       "    </tr>\n",
       "    <tr>\n",
       "      <th>3</th>\n",
       "      <td>0</td>\n",
       "      <td>945</td>\n",
       "      <td>1</td>\n",
       "      <td>5</td>\n",
       "      <td>0</td>\n",
       "    </tr>\n",
       "    <tr>\n",
       "      <th>4</th>\n",
       "      <td>0</td>\n",
       "      <td>944</td>\n",
       "      <td>1</td>\n",
       "      <td>5</td>\n",
       "      <td>0</td>\n",
       "    </tr>\n",
       "    <tr>\n",
       "      <th>5</th>\n",
       "      <td>0</td>\n",
       "      <td>943</td>\n",
       "      <td>1</td>\n",
       "      <td>5</td>\n",
       "      <td>0</td>\n",
       "    </tr>\n",
       "    <tr>\n",
       "      <th>6</th>\n",
       "      <td>0</td>\n",
       "      <td>942</td>\n",
       "      <td>1</td>\n",
       "      <td>5</td>\n",
       "      <td>0</td>\n",
       "    </tr>\n",
       "    <tr>\n",
       "      <th>7</th>\n",
       "      <td>0</td>\n",
       "      <td>941</td>\n",
       "      <td>1</td>\n",
       "      <td>5</td>\n",
       "      <td>0</td>\n",
       "    </tr>\n",
       "    <tr>\n",
       "      <th>8</th>\n",
       "      <td>0</td>\n",
       "      <td>940</td>\n",
       "      <td>1</td>\n",
       "      <td>5</td>\n",
       "      <td>0</td>\n",
       "    </tr>\n",
       "    <tr>\n",
       "      <th>9</th>\n",
       "      <td>0</td>\n",
       "      <td>939</td>\n",
       "      <td>1</td>\n",
       "      <td>5</td>\n",
       "      <td>1</td>\n",
       "    </tr>\n",
       "    <tr>\n",
       "      <th>10</th>\n",
       "      <td>0</td>\n",
       "      <td>938</td>\n",
       "      <td>1</td>\n",
       "      <td>5</td>\n",
       "      <td>1</td>\n",
       "    </tr>\n",
       "    <tr>\n",
       "      <th>11</th>\n",
       "      <td>0</td>\n",
       "      <td>937</td>\n",
       "      <td>1</td>\n",
       "      <td>4</td>\n",
       "      <td>0</td>\n",
       "    </tr>\n",
       "    <tr>\n",
       "      <th>12</th>\n",
       "      <td>0</td>\n",
       "      <td>936</td>\n",
       "      <td>1</td>\n",
       "      <td>4</td>\n",
       "      <td>0</td>\n",
       "    </tr>\n",
       "    <tr>\n",
       "      <th>13</th>\n",
       "      <td>0</td>\n",
       "      <td>935</td>\n",
       "      <td>1</td>\n",
       "      <td>4</td>\n",
       "      <td>0</td>\n",
       "    </tr>\n",
       "    <tr>\n",
       "      <th>14</th>\n",
       "      <td>0</td>\n",
       "      <td>934</td>\n",
       "      <td>1</td>\n",
       "      <td>5</td>\n",
       "      <td>1</td>\n",
       "    </tr>\n",
       "    <tr>\n",
       "      <th>15</th>\n",
       "      <td>0</td>\n",
       "      <td>933</td>\n",
       "      <td>1</td>\n",
       "      <td>4</td>\n",
       "      <td>0</td>\n",
       "    </tr>\n",
       "    <tr>\n",
       "      <th>16</th>\n",
       "      <td>0</td>\n",
       "      <td>932</td>\n",
       "      <td>1</td>\n",
       "      <td>4</td>\n",
       "      <td>0</td>\n",
       "    </tr>\n",
       "    <tr>\n",
       "      <th>17</th>\n",
       "      <td>0</td>\n",
       "      <td>931</td>\n",
       "      <td>1</td>\n",
       "      <td>5</td>\n",
       "      <td>0</td>\n",
       "    </tr>\n",
       "    <tr>\n",
       "      <th>18</th>\n",
       "      <td>0</td>\n",
       "      <td>930</td>\n",
       "      <td>1</td>\n",
       "      <td>2</td>\n",
       "      <td>1</td>\n",
       "    </tr>\n",
       "    <tr>\n",
       "      <th>19</th>\n",
       "      <td>0</td>\n",
       "      <td>929</td>\n",
       "      <td>1</td>\n",
       "      <td>4</td>\n",
       "      <td>1</td>\n",
       "    </tr>\n",
       "  </tbody>\n",
       "</table>\n",
       "</div>"
      ],
      "text/plain": [
       "    user_id  book_id  is_read  rating  is_reviewed\n",
       "0         0      948        1       5            0\n",
       "1         0      947        1       5            1\n",
       "2         0      946        1       5            0\n",
       "3         0      945        1       5            0\n",
       "4         0      944        1       5            0\n",
       "5         0      943        1       5            0\n",
       "6         0      942        1       5            0\n",
       "7         0      941        1       5            0\n",
       "8         0      940        1       5            0\n",
       "9         0      939        1       5            1\n",
       "10        0      938        1       5            1\n",
       "11        0      937        1       4            0\n",
       "12        0      936        1       4            0\n",
       "13        0      935        1       4            0\n",
       "14        0      934        1       5            1\n",
       "15        0      933        1       4            0\n",
       "16        0      932        1       4            0\n",
       "17        0      931        1       5            0\n",
       "18        0      930        1       2            1\n",
       "19        0      929        1       4            1"
      ]
     },
     "execution_count": 4,
     "metadata": {},
     "output_type": "execute_result"
    }
   ],
   "source": [
    "books_df.head(20)"
   ]
  },
  {
   "cell_type": "code",
   "execution_count": 5,
   "id": "7f1c89c6-9557-4002-b73f-d3d14fcc440b",
   "metadata": {},
   "outputs": [
    {
     "data": {
      "text/html": [
       "<div>\n",
       "<style scoped>\n",
       "    .dataframe tbody tr th:only-of-type {\n",
       "        vertical-align: middle;\n",
       "    }\n",
       "\n",
       "    .dataframe tbody tr th {\n",
       "        vertical-align: top;\n",
       "    }\n",
       "\n",
       "    .dataframe thead th {\n",
       "        text-align: right;\n",
       "    }\n",
       "</style>\n",
       "<table border=\"1\" class=\"dataframe\">\n",
       "  <thead>\n",
       "    <tr style=\"text-align: right;\">\n",
       "      <th></th>\n",
       "      <th>user_id</th>\n",
       "      <th>book_id</th>\n",
       "      <th>is_read</th>\n",
       "      <th>rating</th>\n",
       "      <th>is_reviewed</th>\n",
       "    </tr>\n",
       "  </thead>\n",
       "  <tbody>\n",
       "    <tr>\n",
       "      <th>count</th>\n",
       "      <td>2.286483e+08</td>\n",
       "      <td>2.286483e+08</td>\n",
       "      <td>2.286483e+08</td>\n",
       "      <td>2.286483e+08</td>\n",
       "      <td>2.286483e+08</td>\n",
       "    </tr>\n",
       "    <tr>\n",
       "      <th>mean</th>\n",
       "      <td>2.500636e+05</td>\n",
       "      <td>2.015756e+05</td>\n",
       "      <td>4.904090e-01</td>\n",
       "      <td>1.801340e+00</td>\n",
       "      <td>7.093491e-02</td>\n",
       "    </tr>\n",
       "    <tr>\n",
       "      <th>std</th>\n",
       "      <td>1.712713e+05</td>\n",
       "      <td>3.448677e+05</td>\n",
       "      <td>4.999080e-01</td>\n",
       "      <td>2.072672e+00</td>\n",
       "      <td>2.567161e-01</td>\n",
       "    </tr>\n",
       "    <tr>\n",
       "      <th>min</th>\n",
       "      <td>0.000000e+00</td>\n",
       "      <td>0.000000e+00</td>\n",
       "      <td>0.000000e+00</td>\n",
       "      <td>0.000000e+00</td>\n",
       "      <td>0.000000e+00</td>\n",
       "    </tr>\n",
       "    <tr>\n",
       "      <th>25%</th>\n",
       "      <td>1.143010e+05</td>\n",
       "      <td>1.252700e+04</td>\n",
       "      <td>0.000000e+00</td>\n",
       "      <td>0.000000e+00</td>\n",
       "      <td>0.000000e+00</td>\n",
       "    </tr>\n",
       "    <tr>\n",
       "      <th>50%</th>\n",
       "      <td>2.338990e+05</td>\n",
       "      <td>5.034600e+04</td>\n",
       "      <td>0.000000e+00</td>\n",
       "      <td>0.000000e+00</td>\n",
       "      <td>0.000000e+00</td>\n",
       "    </tr>\n",
       "    <tr>\n",
       "      <th>75%</th>\n",
       "      <td>3.581100e+05</td>\n",
       "      <td>2.229240e+05</td>\n",
       "      <td>1.000000e+00</td>\n",
       "      <td>4.000000e+00</td>\n",
       "      <td>0.000000e+00</td>\n",
       "    </tr>\n",
       "    <tr>\n",
       "      <th>max</th>\n",
       "      <td>8.761440e+05</td>\n",
       "      <td>2.360649e+06</td>\n",
       "      <td>1.000000e+00</td>\n",
       "      <td>5.000000e+00</td>\n",
       "      <td>1.000000e+00</td>\n",
       "    </tr>\n",
       "  </tbody>\n",
       "</table>\n",
       "</div>"
      ],
      "text/plain": [
       "            user_id       book_id       is_read        rating   is_reviewed\n",
       "count  2.286483e+08  2.286483e+08  2.286483e+08  2.286483e+08  2.286483e+08\n",
       "mean   2.500636e+05  2.015756e+05  4.904090e-01  1.801340e+00  7.093491e-02\n",
       "std    1.712713e+05  3.448677e+05  4.999080e-01  2.072672e+00  2.567161e-01\n",
       "min    0.000000e+00  0.000000e+00  0.000000e+00  0.000000e+00  0.000000e+00\n",
       "25%    1.143010e+05  1.252700e+04  0.000000e+00  0.000000e+00  0.000000e+00\n",
       "50%    2.338990e+05  5.034600e+04  0.000000e+00  0.000000e+00  0.000000e+00\n",
       "75%    3.581100e+05  2.229240e+05  1.000000e+00  4.000000e+00  0.000000e+00\n",
       "max    8.761440e+05  2.360649e+06  1.000000e+00  5.000000e+00  1.000000e+00"
      ]
     },
     "execution_count": 5,
     "metadata": {},
     "output_type": "execute_result"
    }
   ],
   "source": [
    "books_df.describe()"
   ]
  },
  {
   "cell_type": "code",
   "execution_count": 7,
   "id": "41bc0c48-e24f-4cb4-9a71-8786581dc98f",
   "metadata": {},
   "outputs": [],
   "source": [
    "books_df = books_df.drop(books_df[books_df['is_read'] == 0].index)"
   ]
  },
  {
   "cell_type": "code",
   "execution_count": 8,
   "id": "4b26b40a-4980-4c6f-9a19-dede5af4ac53",
   "metadata": {},
   "outputs": [],
   "source": [
    "books_df = books_df.drop(books_df[books_df['is_reviewed'] == 0].index)"
   ]
  },
  {
   "cell_type": "code",
   "execution_count": 9,
   "id": "a0481d6d-edf2-4862-b741-ad2cb52a8b9f",
   "metadata": {},
   "outputs": [
    {
     "data": {
      "text/plain": [
       "(15935237, 5)"
      ]
     },
     "execution_count": 9,
     "metadata": {},
     "output_type": "execute_result"
    }
   ],
   "source": [
    "books_df.shape"
   ]
  },
  {
   "cell_type": "code",
   "execution_count": 12,
   "id": "52a2ca5c-644e-44c1-8997-b6b54629bf09",
   "metadata": {},
   "outputs": [],
   "source": [
    "books = books_df.groupby('rating', group_keys=False).apply(lambda x: x.sample(int((len(x)/len(books_df))*500000)))"
   ]
  },
  {
   "cell_type": "code",
   "execution_count": 14,
   "id": "45d3a2b6-f11b-437d-9bba-a8295906bd2c",
   "metadata": {},
   "outputs": [
    {
     "data": {
      "text/plain": [
       "(499998, 5)"
      ]
     },
     "execution_count": 14,
     "metadata": {},
     "output_type": "execute_result"
    }
   ],
   "source": [
    "books.shape"
   ]
  },
  {
   "cell_type": "code",
   "execution_count": 15,
   "id": "13ff8042-f4ef-49d7-8ee6-4bd741f9e590",
   "metadata": {},
   "outputs": [
    {
     "data": {
      "text/html": [
       "<div>\n",
       "<style scoped>\n",
       "    .dataframe tbody tr th:only-of-type {\n",
       "        vertical-align: middle;\n",
       "    }\n",
       "\n",
       "    .dataframe tbody tr th {\n",
       "        vertical-align: top;\n",
       "    }\n",
       "\n",
       "    .dataframe thead th {\n",
       "        text-align: right;\n",
       "    }\n",
       "</style>\n",
       "<table border=\"1\" class=\"dataframe\">\n",
       "  <thead>\n",
       "    <tr style=\"text-align: right;\">\n",
       "      <th></th>\n",
       "      <th>user_id</th>\n",
       "      <th>book_id</th>\n",
       "      <th>is_read</th>\n",
       "      <th>rating</th>\n",
       "      <th>is_reviewed</th>\n",
       "    </tr>\n",
       "  </thead>\n",
       "  <tbody>\n",
       "    <tr>\n",
       "      <th>count</th>\n",
       "      <td>499998.000000</td>\n",
       "      <td>4.999980e+05</td>\n",
       "      <td>499998.0</td>\n",
       "      <td>499998.000000</td>\n",
       "      <td>499998.0</td>\n",
       "    </tr>\n",
       "    <tr>\n",
       "      <th>mean</th>\n",
       "      <td>239176.643729</td>\n",
       "      <td>3.642981e+05</td>\n",
       "      <td>1.0</td>\n",
       "      <td>3.837079</td>\n",
       "      <td>1.0</td>\n",
       "    </tr>\n",
       "    <tr>\n",
       "      <th>std</th>\n",
       "      <td>162737.568244</td>\n",
       "      <td>5.389258e+05</td>\n",
       "      <td>0.0</td>\n",
       "      <td>1.164827</td>\n",
       "      <td>0.0</td>\n",
       "    </tr>\n",
       "    <tr>\n",
       "      <th>min</th>\n",
       "      <td>0.000000</td>\n",
       "      <td>0.000000e+00</td>\n",
       "      <td>1.0</td>\n",
       "      <td>0.000000</td>\n",
       "      <td>1.0</td>\n",
       "    </tr>\n",
       "    <tr>\n",
       "      <th>25%</th>\n",
       "      <td>107428.250000</td>\n",
       "      <td>1.700900e+04</td>\n",
       "      <td>1.0</td>\n",
       "      <td>3.000000</td>\n",
       "      <td>1.0</td>\n",
       "    </tr>\n",
       "    <tr>\n",
       "      <th>50%</th>\n",
       "      <td>224915.000000</td>\n",
       "      <td>9.997250e+04</td>\n",
       "      <td>1.0</td>\n",
       "      <td>4.000000</td>\n",
       "      <td>1.0</td>\n",
       "    </tr>\n",
       "    <tr>\n",
       "      <th>75%</th>\n",
       "      <td>350733.000000</td>\n",
       "      <td>4.868070e+05</td>\n",
       "      <td>1.0</td>\n",
       "      <td>5.000000</td>\n",
       "      <td>1.0</td>\n",
       "    </tr>\n",
       "    <tr>\n",
       "      <th>max</th>\n",
       "      <td>876136.000000</td>\n",
       "      <td>2.360638e+06</td>\n",
       "      <td>1.0</td>\n",
       "      <td>5.000000</td>\n",
       "      <td>1.0</td>\n",
       "    </tr>\n",
       "  </tbody>\n",
       "</table>\n",
       "</div>"
      ],
      "text/plain": [
       "             user_id       book_id   is_read         rating  is_reviewed\n",
       "count  499998.000000  4.999980e+05  499998.0  499998.000000     499998.0\n",
       "mean   239176.643729  3.642981e+05       1.0       3.837079          1.0\n",
       "std    162737.568244  5.389258e+05       0.0       1.164827          0.0\n",
       "min         0.000000  0.000000e+00       1.0       0.000000          1.0\n",
       "25%    107428.250000  1.700900e+04       1.0       3.000000          1.0\n",
       "50%    224915.000000  9.997250e+04       1.0       4.000000          1.0\n",
       "75%    350733.000000  4.868070e+05       1.0       5.000000          1.0\n",
       "max    876136.000000  2.360638e+06       1.0       5.000000          1.0"
      ]
     },
     "execution_count": 15,
     "metadata": {},
     "output_type": "execute_result"
    }
   ],
   "source": [
    "books.describe()"
   ]
  },
  {
   "cell_type": "code",
   "execution_count": null,
   "id": "236cab5c-fabf-478a-a4c6-b62716a58624",
   "metadata": {},
   "outputs": [],
   "source": []
  },
  {
   "cell_type": "code",
   "execution_count": null,
   "id": "cd7e2c01-e752-49e9-85c3-749c0c868733",
   "metadata": {},
   "outputs": [],
   "source": []
  },
  {
   "cell_type": "code",
   "execution_count": 16,
   "id": "ac6edf9f-8d94-448d-a5b9-debf02a0d0c5",
   "metadata": {},
   "outputs": [],
   "source": [
    "import pandas as pd\n",
    "from surprise import Dataset, Reader, SVD, SVDpp, NMF\n",
    "from surprise.model_selection import train_test_split\n",
    "from surprise import accuracy"
   ]
  },
  {
   "cell_type": "code",
   "execution_count": 17,
   "id": "d6b315be-1c66-4643-8110-9e5f143ff716",
   "metadata": {},
   "outputs": [],
   "source": [
    "booksdata = books[['user_id', 'book_id', 'rating']]"
   ]
  },
  {
   "cell_type": "code",
   "execution_count": 18,
   "id": "ff912435-0b7d-4da3-9051-e7fc818f2600",
   "metadata": {},
   "outputs": [
    {
     "data": {
      "text/plain": [
       "(499998, 3)"
      ]
     },
     "execution_count": 18,
     "metadata": {},
     "output_type": "execute_result"
    }
   ],
   "source": [
    "booksdata.shape"
   ]
  },
  {
   "cell_type": "code",
   "execution_count": 19,
   "id": "2439f570-e482-4e2b-95a5-adf230254a9d",
   "metadata": {},
   "outputs": [],
   "source": [
    "reader = Reader(rating_scale=(0, 5))\n",
    "books_data = Dataset.load_from_df(booksdata, reader)"
   ]
  },
  {
   "cell_type": "code",
   "execution_count": 20,
   "id": "134925dd-9d69-4ed1-a72b-28d3964b37a2",
   "metadata": {},
   "outputs": [],
   "source": [
    "trainset, testset = train_test_split(books_data, test_size=0.2)"
   ]
  },
  {
   "cell_type": "code",
   "execution_count": 21,
   "id": "87c5e3ea-84a4-412b-a9cf-1875648916e0",
   "metadata": {},
   "outputs": [
    {
     "data": {
      "text/plain": [
       "<surprise.prediction_algorithms.matrix_factorization.SVD at 0x7fa330885d90>"
      ]
     },
     "execution_count": 21,
     "metadata": {},
     "output_type": "execute_result"
    }
   ],
   "source": [
    "svd = SVD()\n",
    "svd.fit(trainset)"
   ]
  },
  {
   "cell_type": "code",
   "execution_count": 22,
   "id": "5d64dd1f-714e-4f9f-9a6b-9e89198ac544",
   "metadata": {},
   "outputs": [
    {
     "name": "stdout",
     "output_type": "stream",
     "text": [
      "RMSE: 1.0899\n"
     ]
    },
    {
     "data": {
      "text/plain": [
       "1.0898534574558827"
      ]
     },
     "execution_count": 22,
     "metadata": {},
     "output_type": "execute_result"
    }
   ],
   "source": [
    "svd_predictions = svd.test(testset)\n",
    "accuracy.rmse(svd_predictions)"
   ]
  },
  {
   "cell_type": "code",
   "execution_count": 23,
   "id": "3d83d011-5896-4d9c-94d6-a25721eac666",
   "metadata": {},
   "outputs": [
    {
     "name": "stdout",
     "output_type": "stream",
     "text": [
      "MAE:  0.8420\n"
     ]
    },
    {
     "data": {
      "text/plain": [
       "0.8419911753126047"
      ]
     },
     "execution_count": 23,
     "metadata": {},
     "output_type": "execute_result"
    }
   ],
   "source": [
    "svd_predictions = svd.test(testset)\n",
    "accuracy.mae(svd_predictions)"
   ]
  },
  {
   "cell_type": "code",
   "execution_count": 24,
   "id": "da72bbd2-c6ff-4523-a2df-ff8150438e2b",
   "metadata": {},
   "outputs": [
    {
     "data": {
      "text/plain": [
       "<surprise.prediction_algorithms.matrix_factorization.SVDpp at 0x7fa330a8f580>"
      ]
     },
     "execution_count": 24,
     "metadata": {},
     "output_type": "execute_result"
    }
   ],
   "source": [
    "svdpp = SVDpp()\n",
    "svdpp.fit(trainset)"
   ]
  },
  {
   "cell_type": "code",
   "execution_count": 26,
   "id": "972e3b5c-b28b-4ab0-90a9-d8774c1996ae",
   "metadata": {},
   "outputs": [
    {
     "name": "stdout",
     "output_type": "stream",
     "text": [
      "RMSE: 1.0864\n"
     ]
    },
    {
     "data": {
      "text/plain": [
       "1.086355649806291"
      ]
     },
     "execution_count": 26,
     "metadata": {},
     "output_type": "execute_result"
    }
   ],
   "source": [
    "svdpp_predictions = svdpp.test(testset)\n",
    "accuracy.rmse(svdpp_predictions)"
   ]
  },
  {
   "cell_type": "code",
   "execution_count": 27,
   "id": "800352f6-6c5b-4d6b-ad13-be1747dc287d",
   "metadata": {},
   "outputs": [
    {
     "name": "stdout",
     "output_type": "stream",
     "text": [
      "MAE:  0.8386\n"
     ]
    },
    {
     "data": {
      "text/plain": [
       "0.8385581464615456"
      ]
     },
     "execution_count": 27,
     "metadata": {},
     "output_type": "execute_result"
    }
   ],
   "source": [
    "svdpp_predictions = svdpp.test(testset)\n",
    "accuracy.mae(svdpp_predictions)"
   ]
  },
  {
   "cell_type": "code",
   "execution_count": 28,
   "id": "595fc778-0c13-4c08-b1a4-4934afbe6578",
   "metadata": {},
   "outputs": [
    {
     "data": {
      "text/plain": [
       "<surprise.prediction_algorithms.matrix_factorization.NMF at 0x7fa330d3b550>"
      ]
     },
     "execution_count": 28,
     "metadata": {},
     "output_type": "execute_result"
    }
   ],
   "source": [
    "nmf = NMF()\n",
    "nmf.fit(trainset)"
   ]
  },
  {
   "cell_type": "code",
   "execution_count": 29,
   "id": "ac34e9bc-4caf-4d41-944f-6083610e2e35",
   "metadata": {},
   "outputs": [
    {
     "name": "stdout",
     "output_type": "stream",
     "text": [
      "RMSE: 1.2701\n"
     ]
    },
    {
     "data": {
      "text/plain": [
       "1.2701256744030642"
      ]
     },
     "execution_count": 29,
     "metadata": {},
     "output_type": "execute_result"
    }
   ],
   "source": [
    "nmf_predictions = nmf.test(testset)\n",
    "accuracy.rmse(nmf_predictions)"
   ]
  },
  {
   "cell_type": "code",
   "execution_count": 30,
   "id": "f31074a2-3d28-4de7-87fa-9756035f9b6e",
   "metadata": {},
   "outputs": [
    {
     "name": "stdout",
     "output_type": "stream",
     "text": [
      "MAE:  0.9923\n"
     ]
    },
    {
     "data": {
      "text/plain": [
       "0.9922541616472739"
      ]
     },
     "execution_count": 30,
     "metadata": {},
     "output_type": "execute_result"
    }
   ],
   "source": [
    "nmf_predictions = nmf.test(testset)\n",
    "accuracy.mae(nmf_predictions)"
   ]
  },
  {
   "cell_type": "code",
   "execution_count": null,
   "id": "dcbd2f26-59db-4647-b988-0c126d647912",
   "metadata": {},
   "outputs": [],
   "source": []
  }
 ],
 "metadata": {
  "kernelspec": {
   "display_name": "Python 3 (ipykernel)",
   "language": "python",
   "name": "python3"
  },
  "language_info": {
   "codemirror_mode": {
    "name": "ipython",
    "version": 3
   },
   "file_extension": ".py",
   "mimetype": "text/x-python",
   "name": "python",
   "nbconvert_exporter": "python",
   "pygments_lexer": "ipython3",
   "version": "3.8.8"
  }
 },
 "nbformat": 4,
 "nbformat_minor": 5
}
