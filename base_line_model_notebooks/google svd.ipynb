{
 "cells": [
  {
   "cell_type": "code",
   "execution_count": 1,
   "id": "819af4ef",
   "metadata": {},
   "outputs": [
    {
     "name": "stderr",
     "output_type": "stream",
     "text": [
      "C:\\Users\\pruth\\anaconda3\\lib\\site-packages\\numpy\\_distributor_init.py:30: UserWarning: loaded more than 1 DLL from .libs:\n",
      "C:\\Users\\pruth\\anaconda3\\lib\\site-packages\\numpy\\.libs\\libopenblas64__v0.3.21-gcc_10_3_0.dll\n",
      "C:\\Users\\pruth\\anaconda3\\lib\\site-packages\\numpy\\.libs\\libopenblas64__v0.3.23-gcc_10_3_0.dll\n",
      "  warnings.warn(\"loaded more than 1 DLL from .libs:\"\n"
     ]
    }
   ],
   "source": [
    "import pandas as pd\n",
    "import json\n",
    "import gzip\n",
    "import numpy as np\n",
    "import random\n",
    "from surprise import accuracy\n",
    "from surprise import Dataset\n",
    "from surprise import Reader\n",
    "from surprise import SVD,SVDpp, SlopeOne, NMF, NormalPredictor, KNNBaseline, KNNBasic, KNNWithMeans, KNNWithZScore, BaselineOnly, CoClustering\n",
    "\n",
    "from surprise.model_selection import GridSearchCV\n",
    "from tqdm import tqdm\n",
    "import matplotlib.pyplot as plt\n",
    "from surprise.model_selection.validation import cross_validate"
   ]
  },
  {
   "cell_type": "code",
   "execution_count": 2,
   "id": "b92a6b24",
   "metadata": {},
   "outputs": [],
   "source": [
    "df = pd.read_csv(r\"C:\\Users\\pruth\\Downloads\\final project\\baseline\\datasets\\google_reviews.csv\")"
   ]
  },
  {
   "cell_type": "code",
   "execution_count": null,
   "id": "0644177c",
   "metadata": {},
   "outputs": [],
   "source": []
  },
  {
   "cell_type": "code",
   "execution_count": 4,
   "id": "626b721a",
   "metadata": {},
   "outputs": [],
   "source": [
    "reader = Reader(rating_scale=(1, 5))\n",
    "data = Dataset.load_from_df(df[[\"user_id\",\"gmap_id\",\"rating\"]], reader)\n",
    "raw_ratings = data.raw_ratings\n",
    "\n",
    "# re arranging the dataset\n",
    "random.shuffle(raw_ratings)\n",
    "\n",
    "# splitting the data set into 80:20 training and testing data set\n",
    "train_test_split_index = int(0.8 * len(raw_ratings))\n",
    "raw_ratings_train = raw_ratings[:train_test_split_index]\n",
    "raw_ratings_test = raw_ratings[train_test_split_index:]\n",
    "\n",
    "# constructing the train set\n",
    "data.raw_ratings = raw_ratings_train  # assign the raw data back\n",
    "\n",
    "# constructing the test set\n",
    "testset = data.construct_testset(raw_ratings_test)"
   ]
  },
  {
   "cell_type": "code",
   "execution_count": 5,
   "id": "f9868b70",
   "metadata": {},
   "outputs": [
    {
     "name": "stderr",
     "output_type": "stream",
     "text": [
      "[Parallel(n_jobs=-1)]: Using backend LokyBackend with 16 concurrent workers.\n",
      "[Parallel(n_jobs=-1)]: Done  48 out of  48 | elapsed:   19.1s finished\n"
     ]
    },
    {
     "name": "stdout",
     "output_type": "stream",
     "text": [
      "{'rmse': {'n_factors': 10, 'n_epochs': 10, 'lr_all': 0.01, 'reg_all': 0.1}}\n"
     ]
    }
   ],
   "source": [
    "\"\"\"\n",
    "SVDpp parameters\n",
    "N_factors: The number of factors.\n",
    "N_epochs: The number of iterations of the SGD procedure.\n",
    "lr_all – The learning rate for all parameters.\n",
    "reg_all – The regularization term for all parameters.\n",
    "\"\"\"\n",
    "\n",
    "# constructing different parameter with different range of values\n",
    "### note: these values are changed in the whole process of training to arrive at this specific values based on rmse scores.\n",
    "svdpp_params = {\n",
    "        \"n_factors\": [10, 50],\n",
    "    \"n_epochs\": [10, 50],\n",
    "    \"lr_all\": [0.001, 0.01],\n",
    "    \"reg_all\": [0.02, 0.1]\n",
    "    }\n",
    "\n",
    "# using grid search cv with above parameters with cross validation of 3 and refit = True\n",
    "grid_search = GridSearchCV(\n",
    "    SVD,\n",
    "    param_grid = svdpp_params,\n",
    "    measures=[\"rmse\"],\n",
    "    cv=3,\n",
    "    refit=True,\n",
    "    n_jobs=-1,\n",
    "    joblib_verbose=1\n",
    ")\n",
    "\n",
    "# fitting the data\n",
    "grid_search.fit(data)\n",
    "\n",
    "# getting best model out of the grid search and best parameters\n",
    "best_model = grid_search.best_estimator[\"rmse\"]\n",
    "print(grid_search.best_params)\n",
    "\n"
   ]
  },
  {
   "cell_type": "code",
   "execution_count": 7,
   "id": "2c73aa33",
   "metadata": {},
   "outputs": [],
   "source": [
    "# pickle the model in case the run time stop in between\n",
    "import pickle\n",
    "with open(r\"C:\\Users\\pruth\\Downloads\\final project\\models\\google_svd.pickle\", 'wb') as f:\n",
    "    pickle.dump(best_model, f)"
   ]
  },
  {
   "cell_type": "code",
   "execution_count": 8,
   "id": "eefc92d3",
   "metadata": {},
   "outputs": [
    {
     "name": "stdout",
     "output_type": "stream",
     "text": [
      "MAE:  0.6599\n"
     ]
    },
    {
     "data": {
      "text/plain": [
       "0.6598561127923851"
      ]
     },
     "execution_count": 8,
     "metadata": {},
     "output_type": "execute_result"
    }
   ],
   "source": [
    "\n",
    "# calculating rmse on test set\n",
    "testset_predictions = best_model.test(testset)\n",
    "\n",
    "accuracy.mae(testset_predictions)"
   ]
  },
  {
   "cell_type": "code",
   "execution_count": 9,
   "id": "861a608a",
   "metadata": {},
   "outputs": [
    {
     "name": "stdout",
     "output_type": "stream",
     "text": [
      "RMSE: 0.9172\n"
     ]
    },
    {
     "data": {
      "text/plain": [
       "0.91718727853865"
      ]
     },
     "execution_count": 9,
     "metadata": {},
     "output_type": "execute_result"
    }
   ],
   "source": [
    "accuracy.rmse(testset_predictions)\n"
   ]
  },
  {
   "cell_type": "code",
   "execution_count": null,
   "id": "5b1f4322",
   "metadata": {},
   "outputs": [],
   "source": []
  },
  {
   "cell_type": "code",
   "execution_count": null,
   "id": "b6c13fec",
   "metadata": {},
   "outputs": [],
   "source": []
  },
  {
   "cell_type": "code",
   "execution_count": null,
   "id": "7ff33da0",
   "metadata": {},
   "outputs": [],
   "source": []
  }
 ],
 "metadata": {
  "kernelspec": {
   "display_name": "Python 3 (ipykernel)",
   "language": "python",
   "name": "python3"
  },
  "language_info": {
   "codemirror_mode": {
    "name": "ipython",
    "version": 3
   },
   "file_extension": ".py",
   "mimetype": "text/x-python",
   "name": "python",
   "nbconvert_exporter": "python",
   "pygments_lexer": "ipython3",
   "version": "3.9.18"
  }
 },
 "nbformat": 4,
 "nbformat_minor": 5
}
