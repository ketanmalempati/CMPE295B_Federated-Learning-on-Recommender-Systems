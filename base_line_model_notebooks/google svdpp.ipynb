{
 "cells": [
  {
   "cell_type": "code",
   "execution_count": 3,
   "id": "3e058a88",
   "metadata": {},
   "outputs": [],
   "source": [
    "import pandas as pd\n",
    "import json\n",
    "import gzip\n",
    "import numpy as np\n",
    "import random\n",
    "from surprise import accuracy\n",
    "from surprise import Dataset\n",
    "from surprise import Reader\n",
    "from surprise import SVD,SVDpp, SlopeOne, NMF, NormalPredictor, KNNBaseline, KNNBasic, KNNWithMeans, KNNWithZScore, BaselineOnly, CoClustering\n",
    "\n",
    "from surprise.model_selection import GridSearchCV\n",
    "from tqdm import tqdm\n",
    "import matplotlib.pyplot as plt\n",
    "from surprise.model_selection.validation import cross_validate"
   ]
  },
  {
   "cell_type": "code",
   "execution_count": 4,
   "id": "1c93f3d1",
   "metadata": {},
   "outputs": [],
   "source": [
    "def parse(path):\n",
    "  g = gzip.open(path, 'r')\n",
    "  for l in g:\n",
    "    yield json.loads(l)"
   ]
  },
  {
   "cell_type": "code",
   "execution_count": 6,
   "id": "24f3c3d0",
   "metadata": {},
   "outputs": [],
   "source": [
    "def getDF(path):\n",
    "  i = 0\n",
    "  df = {}\n",
    "  for d in parse(path):\n",
    "    df[i] = d\n",
    "    i += 1\n",
    "  return pd.DataFrame.from_dict(df, orient='index')\n",
    "\n",
    "df = getDF(r\"C:\\Users\\pruth\\Downloads\\final project\\baseline\\datasets\\review-Wyoming_10.json.gz\")"
   ]
  },
  {
   "cell_type": "code",
   "execution_count": 7,
   "id": "6ff8140c",
   "metadata": {},
   "outputs": [
    {
     "data": {
      "text/html": [
       "<div>\n",
       "<style scoped>\n",
       "    .dataframe tbody tr th:only-of-type {\n",
       "        vertical-align: middle;\n",
       "    }\n",
       "\n",
       "    .dataframe tbody tr th {\n",
       "        vertical-align: top;\n",
       "    }\n",
       "\n",
       "    .dataframe thead th {\n",
       "        text-align: right;\n",
       "    }\n",
       "</style>\n",
       "<table border=\"1\" class=\"dataframe\">\n",
       "  <thead>\n",
       "    <tr style=\"text-align: right;\">\n",
       "      <th></th>\n",
       "      <th>user_id</th>\n",
       "      <th>name</th>\n",
       "      <th>time</th>\n",
       "      <th>rating</th>\n",
       "      <th>text</th>\n",
       "      <th>pics</th>\n",
       "      <th>resp</th>\n",
       "      <th>gmap_id</th>\n",
       "    </tr>\n",
       "  </thead>\n",
       "  <tbody>\n",
       "    <tr>\n",
       "      <th>0</th>\n",
       "      <td>111435346941066248277</td>\n",
       "      <td>Jenn Thomas</td>\n",
       "      <td>1602893531994</td>\n",
       "      <td>5</td>\n",
       "      <td>When knowledge is key and kindness matters, Ni...</td>\n",
       "      <td>None</td>\n",
       "      <td>None</td>\n",
       "      <td>0x8758dd1ca83449d9:0xb6156dcfc5e04c9b</td>\n",
       "    </tr>\n",
       "    <tr>\n",
       "      <th>1</th>\n",
       "      <td>103613723635264236030</td>\n",
       "      <td>Michelle Barta</td>\n",
       "      <td>1575991509006</td>\n",
       "      <td>5</td>\n",
       "      <td>The entire team is outstanding! They are profe...</td>\n",
       "      <td>None</td>\n",
       "      <td>{'time': 1580484156696, 'text': 'We are lucky ...</td>\n",
       "      <td>0x8758dd1ca83449d9:0xb6156dcfc5e04c9b</td>\n",
       "    </tr>\n",
       "    <tr>\n",
       "      <th>2</th>\n",
       "      <td>113556685435236755030</td>\n",
       "      <td>Bethany Baldes</td>\n",
       "      <td>1626981484302</td>\n",
       "      <td>5</td>\n",
       "      <td>None</td>\n",
       "      <td>None</td>\n",
       "      <td>None</td>\n",
       "      <td>0x8758dd1ca83449d9:0xb6156dcfc5e04c9b</td>\n",
       "    </tr>\n",
       "    <tr>\n",
       "      <th>3</th>\n",
       "      <td>102235352482458236558</td>\n",
       "      <td>nichole vogt</td>\n",
       "      <td>1583381337082</td>\n",
       "      <td>5</td>\n",
       "      <td>None</td>\n",
       "      <td>None</td>\n",
       "      <td>None</td>\n",
       "      <td>0x8758dd1ca83449d9:0xb6156dcfc5e04c9b</td>\n",
       "    </tr>\n",
       "    <tr>\n",
       "      <th>4</th>\n",
       "      <td>114021734869233847378</td>\n",
       "      <td>Kristi Friday</td>\n",
       "      <td>1571112557173</td>\n",
       "      <td>4</td>\n",
       "      <td>None</td>\n",
       "      <td>None</td>\n",
       "      <td>{'time': 1571246498430, 'text': 'Thanks for th...</td>\n",
       "      <td>0x8758dd1ca83449d9:0xb6156dcfc5e04c9b</td>\n",
       "    </tr>\n",
       "    <tr>\n",
       "      <th>...</th>\n",
       "      <td>...</td>\n",
       "      <td>...</td>\n",
       "      <td>...</td>\n",
       "      <td>...</td>\n",
       "      <td>...</td>\n",
       "      <td>...</td>\n",
       "      <td>...</td>\n",
       "      <td>...</td>\n",
       "    </tr>\n",
       "    <tr>\n",
       "      <th>427803</th>\n",
       "      <td>107899148903686037545</td>\n",
       "      <td>Carlene Calabaza</td>\n",
       "      <td>1614741323428</td>\n",
       "      <td>5</td>\n",
       "      <td>None</td>\n",
       "      <td>None</td>\n",
       "      <td>None</td>\n",
       "      <td>0x53349429523d615b:0x2a66a9272032e8b4</td>\n",
       "    </tr>\n",
       "    <tr>\n",
       "      <th>427804</th>\n",
       "      <td>117387828996525813955</td>\n",
       "      <td>Gizmo</td>\n",
       "      <td>1561931911835</td>\n",
       "      <td>5</td>\n",
       "      <td>None</td>\n",
       "      <td>None</td>\n",
       "      <td>None</td>\n",
       "      <td>0x53349429523d615b:0x2a66a9272032e8b4</td>\n",
       "    </tr>\n",
       "    <tr>\n",
       "      <th>427805</th>\n",
       "      <td>107887136514890657569</td>\n",
       "      <td>Jan Soucek</td>\n",
       "      <td>1501029366785</td>\n",
       "      <td>5</td>\n",
       "      <td>None</td>\n",
       "      <td>None</td>\n",
       "      <td>None</td>\n",
       "      <td>0x53349429523d615b:0x2a66a9272032e8b4</td>\n",
       "    </tr>\n",
       "    <tr>\n",
       "      <th>427806</th>\n",
       "      <td>104765216668868688471</td>\n",
       "      <td>Kyle Leatherow</td>\n",
       "      <td>1565466860108</td>\n",
       "      <td>3</td>\n",
       "      <td>None</td>\n",
       "      <td>None</td>\n",
       "      <td>None</td>\n",
       "      <td>0x53349429523d615b:0x2a66a9272032e8b4</td>\n",
       "    </tr>\n",
       "    <tr>\n",
       "      <th>427807</th>\n",
       "      <td>107983497969094977206</td>\n",
       "      <td>Richard Bowling</td>\n",
       "      <td>1587302438249</td>\n",
       "      <td>3</td>\n",
       "      <td>None</td>\n",
       "      <td>None</td>\n",
       "      <td>None</td>\n",
       "      <td>0x53349429523d615b:0x2a66a9272032e8b4</td>\n",
       "    </tr>\n",
       "  </tbody>\n",
       "</table>\n",
       "<p>427808 rows × 8 columns</p>\n",
       "</div>"
      ],
      "text/plain": [
       "                      user_id              name           time  rating  \\\n",
       "0       111435346941066248277       Jenn Thomas  1602893531994       5   \n",
       "1       103613723635264236030    Michelle Barta  1575991509006       5   \n",
       "2       113556685435236755030    Bethany Baldes  1626981484302       5   \n",
       "3       102235352482458236558      nichole vogt  1583381337082       5   \n",
       "4       114021734869233847378     Kristi Friday  1571112557173       4   \n",
       "...                       ...               ...            ...     ...   \n",
       "427803  107899148903686037545  Carlene Calabaza  1614741323428       5   \n",
       "427804  117387828996525813955             Gizmo  1561931911835       5   \n",
       "427805  107887136514890657569        Jan Soucek  1501029366785       5   \n",
       "427806  104765216668868688471    Kyle Leatherow  1565466860108       3   \n",
       "427807  107983497969094977206   Richard Bowling  1587302438249       3   \n",
       "\n",
       "                                                     text  pics  \\\n",
       "0       When knowledge is key and kindness matters, Ni...  None   \n",
       "1       The entire team is outstanding! They are profe...  None   \n",
       "2                                                    None  None   \n",
       "3                                                    None  None   \n",
       "4                                                    None  None   \n",
       "...                                                   ...   ...   \n",
       "427803                                               None  None   \n",
       "427804                                               None  None   \n",
       "427805                                               None  None   \n",
       "427806                                               None  None   \n",
       "427807                                               None  None   \n",
       "\n",
       "                                                     resp  \\\n",
       "0                                                    None   \n",
       "1       {'time': 1580484156696, 'text': 'We are lucky ...   \n",
       "2                                                    None   \n",
       "3                                                    None   \n",
       "4       {'time': 1571246498430, 'text': 'Thanks for th...   \n",
       "...                                                   ...   \n",
       "427803                                               None   \n",
       "427804                                               None   \n",
       "427805                                               None   \n",
       "427806                                               None   \n",
       "427807                                               None   \n",
       "\n",
       "                                      gmap_id  \n",
       "0       0x8758dd1ca83449d9:0xb6156dcfc5e04c9b  \n",
       "1       0x8758dd1ca83449d9:0xb6156dcfc5e04c9b  \n",
       "2       0x8758dd1ca83449d9:0xb6156dcfc5e04c9b  \n",
       "3       0x8758dd1ca83449d9:0xb6156dcfc5e04c9b  \n",
       "4       0x8758dd1ca83449d9:0xb6156dcfc5e04c9b  \n",
       "...                                       ...  \n",
       "427803  0x53349429523d615b:0x2a66a9272032e8b4  \n",
       "427804  0x53349429523d615b:0x2a66a9272032e8b4  \n",
       "427805  0x53349429523d615b:0x2a66a9272032e8b4  \n",
       "427806  0x53349429523d615b:0x2a66a9272032e8b4  \n",
       "427807  0x53349429523d615b:0x2a66a9272032e8b4  \n",
       "\n",
       "[427808 rows x 8 columns]"
      ]
     },
     "execution_count": 7,
     "metadata": {},
     "output_type": "execute_result"
    }
   ],
   "source": [
    "df"
   ]
  },
  {
   "cell_type": "code",
   "execution_count": 13,
   "id": "208c71fa",
   "metadata": {},
   "outputs": [],
   "source": [
    "df.to_csv(r\"C:\\Users\\pruth\\Downloads\\final project\\baseline\\datasets\\google_reviews.csv\",index=False)"
   ]
  },
  {
   "cell_type": "code",
   "execution_count": 8,
   "id": "e9c64906",
   "metadata": {},
   "outputs": [],
   "source": [
    "reader = Reader(rating_scale=(1, 5))\n",
    "data = Dataset.load_from_df(df[[\"user_id\",\"gmap_id\",\"rating\"]], reader)\n",
    "raw_ratings = data.raw_ratings\n",
    "\n",
    "# re arranging the dataset\n",
    "random.shuffle(raw_ratings)\n",
    "\n",
    "# splitting the data set into 80:20 training and testing data set\n",
    "train_test_split_index = int(0.8 * len(raw_ratings))\n",
    "raw_ratings_train = raw_ratings[:train_test_split_index]\n",
    "raw_ratings_test = raw_ratings[train_test_split_index:]\n",
    "\n",
    "# constructing the train set\n",
    "data.raw_ratings = raw_ratings_train  # assign the raw data back\n",
    "\n",
    "# constructing the test set\n",
    "testset = data.construct_testset(raw_ratings_test)"
   ]
  },
  {
   "cell_type": "code",
   "execution_count": 9,
   "id": "c46eaa88",
   "metadata": {},
   "outputs": [
    {
     "name": "stderr",
     "output_type": "stream",
     "text": [
      "[Parallel(n_jobs=-1)]: Using backend LokyBackend with 16 concurrent workers.\n",
      "[Parallel(n_jobs=-1)]: Done  48 out of  48 | elapsed:  1.4min finished\n"
     ]
    },
    {
     "name": "stdout",
     "output_type": "stream",
     "text": [
      "{'rmse': {'n_factors': 10, 'n_epochs': 10, 'lr_all': 0.01, 'reg_all': 0.1}}\n"
     ]
    }
   ],
   "source": [
    "\"\"\"\n",
    "SVDpp parameters\n",
    "N_factors: The number of factors.\n",
    "N_epochs: The number of iterations of the SGD procedure.\n",
    "lr_all – The learning rate for all parameters.\n",
    "reg_all – The regularization term for all parameters.\n",
    "\"\"\"\n",
    "\n",
    "# constructing different parameter with different range of values\n",
    "### note: these values are changed in the whole process of training to arrive at this specific values based on rmse scores.\n",
    "svdpp_params = {\n",
    "        \"n_factors\": [10, 50],\n",
    "    \"n_epochs\": [10, 50],\n",
    "    \"lr_all\": [0.001, 0.01],\n",
    "    \"reg_all\": [0.02, 0.1]\n",
    "    }\n",
    "\n",
    "# using grid search cv with above parameters with cross validation of 3 and refit = True\n",
    "grid_search = GridSearchCV(\n",
    "    SVDpp,\n",
    "    param_grid = svdpp_params,\n",
    "    measures=[\"rmse\"],\n",
    "    cv=3,\n",
    "    refit=True,\n",
    "    n_jobs=-1,\n",
    "    joblib_verbose=1\n",
    ")\n",
    "\n",
    "# fitting the data\n",
    "grid_search.fit(data)\n",
    "\n",
    "# getting best model out of the grid search and best parameters\n",
    "best_model = grid_search.best_estimator[\"rmse\"]\n",
    "print(grid_search.best_params)\n",
    "\n"
   ]
  },
  {
   "cell_type": "code",
   "execution_count": 14,
   "id": "ad11a490",
   "metadata": {},
   "outputs": [],
   "source": [
    "# pickle the model in case the run time stop in between\n",
    "import pickle\n",
    "with open(r\"C:\\Users\\pruth\\Downloads\\final project\\models\\google_svdpp.pickle\", 'wb') as f:\n",
    "    pickle.dump(best_model, f)"
   ]
  },
  {
   "cell_type": "code",
   "execution_count": 11,
   "id": "dba2bea6",
   "metadata": {},
   "outputs": [
    {
     "name": "stdout",
     "output_type": "stream",
     "text": [
      "MAE:  0.6535\n"
     ]
    },
    {
     "data": {
      "text/plain": [
       "0.6534657686415346"
      ]
     },
     "execution_count": 11,
     "metadata": {},
     "output_type": "execute_result"
    }
   ],
   "source": [
    "\n",
    "# calculating rmse on test set\n",
    "testset_predictions = best_model.test(testset)\n",
    "\n",
    "accuracy.mae(testset_predictions)"
   ]
  },
  {
   "cell_type": "code",
   "execution_count": 12,
   "id": "0079c1f7",
   "metadata": {},
   "outputs": [
    {
     "name": "stdout",
     "output_type": "stream",
     "text": [
      "RMSE: 0.9095\n"
     ]
    },
    {
     "data": {
      "text/plain": [
       "0.9095397751966761"
      ]
     },
     "execution_count": 12,
     "metadata": {},
     "output_type": "execute_result"
    }
   ],
   "source": [
    "accuracy.rmse(testset_predictions)\n"
   ]
  },
  {
   "cell_type": "code",
   "execution_count": null,
   "id": "e81f6530",
   "metadata": {},
   "outputs": [],
   "source": []
  },
  {
   "cell_type": "code",
   "execution_count": null,
   "id": "04fbf305",
   "metadata": {},
   "outputs": [],
   "source": []
  }
 ],
 "metadata": {
  "kernelspec": {
   "display_name": "Python 3 (ipykernel)",
   "language": "python",
   "name": "python3"
  },
  "language_info": {
   "codemirror_mode": {
    "name": "ipython",
    "version": 3
   },
   "file_extension": ".py",
   "mimetype": "text/x-python",
   "name": "python",
   "nbconvert_exporter": "python",
   "pygments_lexer": "ipython3",
   "version": "3.9.18"
  }
 },
 "nbformat": 4,
 "nbformat_minor": 5
}
