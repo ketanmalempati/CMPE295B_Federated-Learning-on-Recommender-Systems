{
 "cells": [
  {
   "cell_type": "code",
   "execution_count": 1,
   "id": "2fe721a1-6361-44ed-86c6-8de5408ca666",
   "metadata": {},
   "outputs": [],
   "source": [
    "import os\n",
    "import re\n",
    "\n",
    "import numpy as np\n",
    "import pandas as pd\n",
    "import tables\n",
    "\n",
    "import seaborn as sns\n",
    "import matplotlib.pyplot as plt"
   ]
  },
  {
   "cell_type": "code",
   "execution_count": 2,
   "id": "5d06274c-428c-4f22-9635-aa7b5d0bf401",
   "metadata": {},
   "outputs": [],
   "source": [
    "import sklearn\n",
    "from sklearn.preprocessing import MinMaxScaler\n",
    "from sklearn.preprocessing import LabelEncoder\n",
    "from sklearn.metrics import f1_score, accuracy_score, r2_score, mean_absolute_error\n",
    "\n",
    "import surprise"
   ]
  },
  {
   "cell_type": "code",
   "execution_count": 29,
   "id": "2fb498f3-f301-42a1-a0a3-91286de8bb4b",
   "metadata": {},
   "outputs": [],
   "source": [
    "from surprise import Reader, Dataset\n",
    "from surprise.model_selection import train_test_split\n",
    "from surprise.model_selection import GridSearchCV\n",
    "from surprise import SVD, SVDpp, NMF, accuracy\n",
    "from surprise import KNNBasic"
   ]
  },
  {
   "cell_type": "code",
   "execution_count": 4,
   "id": "634f1b59-3ed3-4a1a-be74-609af14e5482",
   "metadata": {},
   "outputs": [
    {
     "data": {
      "text/plain": [
       "(2000000, 3)"
      ]
     },
     "execution_count": 4,
     "metadata": {},
     "output_type": "execute_result"
    }
   ],
   "source": [
    "taste_profile_df = pd.read_csv('/home/016709732/dataset/train_triplets.txt', sep='\\t', header=None, names = ['user_id','song_id','play_count'], nrows = 2000000)\n",
    "taste_profile_df.shape"
   ]
  },
  {
   "cell_type": "code",
   "execution_count": 5,
   "id": "b3a76a6e-9a6e-4d3a-be3e-8fd3051d4206",
   "metadata": {},
   "outputs": [
    {
     "data": {
      "text/html": [
       "<div>\n",
       "<style scoped>\n",
       "    .dataframe tbody tr th:only-of-type {\n",
       "        vertical-align: middle;\n",
       "    }\n",
       "\n",
       "    .dataframe tbody tr th {\n",
       "        vertical-align: top;\n",
       "    }\n",
       "\n",
       "    .dataframe thead th {\n",
       "        text-align: right;\n",
       "    }\n",
       "</style>\n",
       "<table border=\"1\" class=\"dataframe\">\n",
       "  <thead>\n",
       "    <tr style=\"text-align: right;\">\n",
       "      <th></th>\n",
       "      <th>user_id</th>\n",
       "      <th>song_id</th>\n",
       "      <th>play_count</th>\n",
       "    </tr>\n",
       "  </thead>\n",
       "  <tbody>\n",
       "    <tr>\n",
       "      <th>0</th>\n",
       "      <td>b80344d063b5ccb3212f76538f3d9e43d87dca9e</td>\n",
       "      <td>SOAKIMP12A8C130995</td>\n",
       "      <td>1</td>\n",
       "    </tr>\n",
       "    <tr>\n",
       "      <th>1</th>\n",
       "      <td>b80344d063b5ccb3212f76538f3d9e43d87dca9e</td>\n",
       "      <td>SOAPDEY12A81C210A9</td>\n",
       "      <td>1</td>\n",
       "    </tr>\n",
       "    <tr>\n",
       "      <th>2</th>\n",
       "      <td>b80344d063b5ccb3212f76538f3d9e43d87dca9e</td>\n",
       "      <td>SOBBMDR12A8C13253B</td>\n",
       "      <td>2</td>\n",
       "    </tr>\n",
       "    <tr>\n",
       "      <th>3</th>\n",
       "      <td>b80344d063b5ccb3212f76538f3d9e43d87dca9e</td>\n",
       "      <td>SOBFNSP12AF72A0E22</td>\n",
       "      <td>1</td>\n",
       "    </tr>\n",
       "    <tr>\n",
       "      <th>4</th>\n",
       "      <td>b80344d063b5ccb3212f76538f3d9e43d87dca9e</td>\n",
       "      <td>SOBFOVM12A58A7D494</td>\n",
       "      <td>1</td>\n",
       "    </tr>\n",
       "    <tr>\n",
       "      <th>5</th>\n",
       "      <td>b80344d063b5ccb3212f76538f3d9e43d87dca9e</td>\n",
       "      <td>SOBNZDC12A6D4FC103</td>\n",
       "      <td>1</td>\n",
       "    </tr>\n",
       "    <tr>\n",
       "      <th>6</th>\n",
       "      <td>b80344d063b5ccb3212f76538f3d9e43d87dca9e</td>\n",
       "      <td>SOBSUJE12A6D4F8CF5</td>\n",
       "      <td>2</td>\n",
       "    </tr>\n",
       "    <tr>\n",
       "      <th>7</th>\n",
       "      <td>b80344d063b5ccb3212f76538f3d9e43d87dca9e</td>\n",
       "      <td>SOBVFZR12A6D4F8AE3</td>\n",
       "      <td>1</td>\n",
       "    </tr>\n",
       "  </tbody>\n",
       "</table>\n",
       "</div>"
      ],
      "text/plain": [
       "                                    user_id             song_id  play_count\n",
       "0  b80344d063b5ccb3212f76538f3d9e43d87dca9e  SOAKIMP12A8C130995           1\n",
       "1  b80344d063b5ccb3212f76538f3d9e43d87dca9e  SOAPDEY12A81C210A9           1\n",
       "2  b80344d063b5ccb3212f76538f3d9e43d87dca9e  SOBBMDR12A8C13253B           2\n",
       "3  b80344d063b5ccb3212f76538f3d9e43d87dca9e  SOBFNSP12AF72A0E22           1\n",
       "4  b80344d063b5ccb3212f76538f3d9e43d87dca9e  SOBFOVM12A58A7D494           1\n",
       "5  b80344d063b5ccb3212f76538f3d9e43d87dca9e  SOBNZDC12A6D4FC103           1\n",
       "6  b80344d063b5ccb3212f76538f3d9e43d87dca9e  SOBSUJE12A6D4F8CF5           2\n",
       "7  b80344d063b5ccb3212f76538f3d9e43d87dca9e  SOBVFZR12A6D4F8AE3           1"
      ]
     },
     "execution_count": 5,
     "metadata": {},
     "output_type": "execute_result"
    }
   ],
   "source": [
    "taste_profile_df.head(8)"
   ]
  },
  {
   "cell_type": "code",
   "execution_count": 6,
   "id": "0789bf41-e13c-4d3e-899f-9189e7d8d21d",
   "metadata": {},
   "outputs": [
    {
     "data": {
      "text/plain": [
       "user_id       0\n",
       "song_id       0\n",
       "play_count    0\n",
       "dtype: int64"
      ]
     },
     "execution_count": 6,
     "metadata": {},
     "output_type": "execute_result"
    }
   ],
   "source": [
    "taste_profile_df.isnull().sum()"
   ]
  },
  {
   "cell_type": "code",
   "execution_count": 7,
   "id": "2d432302-5356-45da-8dbb-661ad2957c90",
   "metadata": {},
   "outputs": [
    {
     "data": {
      "text/plain": [
       "0"
      ]
     },
     "execution_count": 7,
     "metadata": {},
     "output_type": "execute_result"
    }
   ],
   "source": [
    "taste_profile_df.duplicated().sum()"
   ]
  },
  {
   "cell_type": "code",
   "execution_count": 8,
   "id": "060dced8-fa9f-43ec-a306-f1cd0203a68a",
   "metadata": {},
   "outputs": [
    {
     "data": {
      "text/plain": [
       "(1000000, 20)"
      ]
     },
     "execution_count": 8,
     "metadata": {},
     "output_type": "execute_result"
    }
   ],
   "source": [
    "song_data_df = tables.open_file(\"/home/016709732/dataset/msd_summary_file.h5\", mode=\"r\")\n",
    "song_data_table = song_data_df.root.metadata.songs\n",
    "metadata_table_df = pd.DataFrame.from_records(song_data_table[:])\n",
    "metadata_table_df.shape"
   ]
  },
  {
   "cell_type": "code",
   "execution_count": 9,
   "id": "9cfc7f5e-9a1e-4f7d-a151-96e69c89c8b0",
   "metadata": {},
   "outputs": [
    {
     "name": "stdout",
     "output_type": "stream",
     "text": [
      "artist_familiarity        185\n",
      "artist_hotttnesss          12\n",
      "artist_name                 0\n",
      "genre                 1000000\n",
      "release                     0\n",
      "song_hotttnesss        418035\n",
      "song_id                     0\n",
      "title                      15\n",
      "dtype: int64\n"
     ]
    }
   ],
   "source": [
    "metadata_table_df.drop(columns =['analyzer_version', 'artist_7digitalid','artist_id', 'idx_artist_terms','idx_similar_artists','release_7digitalid','artist_location','artist_longitude','artist_latitude','artist_playmeid','track_7digitalid','artist_mbid'],inplace=True)\n",
    "metadata_table_df.replace({b'': np.nan}, inplace=True)\n",
    "print(metadata_table_df.isna().sum())\n",
    "metadata_table_df.drop(columns =['genre'],inplace=True)"
   ]
  },
  {
   "cell_type": "code",
   "execution_count": 10,
   "id": "be0c9885-03c8-4c3e-bb32-c63dca937691",
   "metadata": {},
   "outputs": [
    {
     "data": {
      "text/html": [
       "<div>\n",
       "<style scoped>\n",
       "    .dataframe tbody tr th:only-of-type {\n",
       "        vertical-align: middle;\n",
       "    }\n",
       "\n",
       "    .dataframe tbody tr th {\n",
       "        vertical-align: top;\n",
       "    }\n",
       "\n",
       "    .dataframe thead th {\n",
       "        text-align: right;\n",
       "    }\n",
       "</style>\n",
       "<table border=\"1\" class=\"dataframe\">\n",
       "  <thead>\n",
       "    <tr style=\"text-align: right;\">\n",
       "      <th></th>\n",
       "      <th>artist_familiarity</th>\n",
       "      <th>artist_hotttnesss</th>\n",
       "      <th>artist_name</th>\n",
       "      <th>release</th>\n",
       "      <th>song_hotttnesss</th>\n",
       "      <th>song_id</th>\n",
       "      <th>title</th>\n",
       "    </tr>\n",
       "  </thead>\n",
       "  <tbody>\n",
       "    <tr>\n",
       "      <th>0</th>\n",
       "      <td>0.649822</td>\n",
       "      <td>0.394032</td>\n",
       "      <td>Faster Pussy cat</td>\n",
       "      <td>Monster Ballads X-Mas</td>\n",
       "      <td>0.542899</td>\n",
       "      <td>SOQMMHC12AB0180CB8</td>\n",
       "      <td>Silent Night</td>\n",
       "    </tr>\n",
       "    <tr>\n",
       "      <th>1</th>\n",
       "      <td>0.439604</td>\n",
       "      <td>0.356992</td>\n",
       "      <td>Karkkiautomaatti</td>\n",
       "      <td>Karkuteillä</td>\n",
       "      <td>0.299877</td>\n",
       "      <td>SOVFVAK12A8C1350D9</td>\n",
       "      <td>Tanssi vaan</td>\n",
       "    </tr>\n",
       "    <tr>\n",
       "      <th>2</th>\n",
       "      <td>0.643681</td>\n",
       "      <td>0.437504</td>\n",
       "      <td>Hudson Mohawke</td>\n",
       "      <td>Butter</td>\n",
       "      <td>0.617871</td>\n",
       "      <td>SOGTUKN12AB017F4F1</td>\n",
       "      <td>No One Could Ever</td>\n",
       "    </tr>\n",
       "    <tr>\n",
       "      <th>3</th>\n",
       "      <td>0.448501</td>\n",
       "      <td>0.372349</td>\n",
       "      <td>Yerba Brava</td>\n",
       "      <td>De Culo</td>\n",
       "      <td>NaN</td>\n",
       "      <td>SOBNYVR12A8C13558C</td>\n",
       "      <td>Si Vos Querés</td>\n",
       "    </tr>\n",
       "    <tr>\n",
       "      <th>4</th>\n",
       "      <td>0.000000</td>\n",
       "      <td>0.000000</td>\n",
       "      <td>Der Mystic</td>\n",
       "      <td>Rene Ablaze Presents Winter Sessions</td>\n",
       "      <td>NaN</td>\n",
       "      <td>SOHSBXH12A8C13B0DF</td>\n",
       "      <td>Tangle Of Aspens</td>\n",
       "    </tr>\n",
       "    <tr>\n",
       "      <th>5</th>\n",
       "      <td>0.361287</td>\n",
       "      <td>0.109626</td>\n",
       "      <td>David Montgomery</td>\n",
       "      <td>Berwald: Symphonies Nos. 1/2/3/4</td>\n",
       "      <td>NaN</td>\n",
       "      <td>SOZVAPQ12A8C13B63C</td>\n",
       "      <td>Symphony No. 1 G minor \"Sinfonie Serieuse\"/All...</td>\n",
       "    </tr>\n",
       "    <tr>\n",
       "      <th>6</th>\n",
       "      <td>0.692923</td>\n",
       "      <td>0.453732</td>\n",
       "      <td>Sasha / Turbulence</td>\n",
       "      <td>Strictly The Best Vol. 34</td>\n",
       "      <td>NaN</td>\n",
       "      <td>SOQVRHI12A6D4FB2D7</td>\n",
       "      <td>We Have Got Love</td>\n",
       "    </tr>\n",
       "    <tr>\n",
       "      <th>7</th>\n",
       "      <td>0.588156</td>\n",
       "      <td>0.401092</td>\n",
       "      <td>Kris Kross</td>\n",
       "      <td>Da Bomb</td>\n",
       "      <td>NaN</td>\n",
       "      <td>SOEYRFT12AB018936C</td>\n",
       "      <td>2 Da Beat Ch'yall</td>\n",
       "    </tr>\n",
       "  </tbody>\n",
       "</table>\n",
       "</div>"
      ],
      "text/plain": [
       "   artist_familiarity  artist_hotttnesss         artist_name  \\\n",
       "0            0.649822           0.394032    Faster Pussy cat   \n",
       "1            0.439604           0.356992    Karkkiautomaatti   \n",
       "2            0.643681           0.437504      Hudson Mohawke   \n",
       "3            0.448501           0.372349         Yerba Brava   \n",
       "4            0.000000           0.000000          Der Mystic   \n",
       "5            0.361287           0.109626    David Montgomery   \n",
       "6            0.692923           0.453732  Sasha / Turbulence   \n",
       "7            0.588156           0.401092          Kris Kross   \n",
       "\n",
       "                                release  song_hotttnesss             song_id  \\\n",
       "0                 Monster Ballads X-Mas         0.542899  SOQMMHC12AB0180CB8   \n",
       "1                           Karkuteillä         0.299877  SOVFVAK12A8C1350D9   \n",
       "2                                Butter         0.617871  SOGTUKN12AB017F4F1   \n",
       "3                               De Culo              NaN  SOBNYVR12A8C13558C   \n",
       "4  Rene Ablaze Presents Winter Sessions              NaN  SOHSBXH12A8C13B0DF   \n",
       "5      Berwald: Symphonies Nos. 1/2/3/4              NaN  SOZVAPQ12A8C13B63C   \n",
       "6             Strictly The Best Vol. 34              NaN  SOQVRHI12A6D4FB2D7   \n",
       "7                               Da Bomb              NaN  SOEYRFT12AB018936C   \n",
       "\n",
       "                                               title  \n",
       "0                                       Silent Night  \n",
       "1                                        Tanssi vaan  \n",
       "2                                  No One Could Ever  \n",
       "3                                      Si Vos Querés  \n",
       "4                                   Tangle Of Aspens  \n",
       "5  Symphony No. 1 G minor \"Sinfonie Serieuse\"/All...  \n",
       "6                                   We Have Got Love  \n",
       "7                                  2 Da Beat Ch'yall  "
      ]
     },
     "execution_count": 10,
     "metadata": {},
     "output_type": "execute_result"
    }
   ],
   "source": [
    "metadata_table_df = metadata_table_df.applymap(lambda x: x.decode('utf-8').strip('\\'\"') if isinstance(x, bytes) else x)\n",
    "metadata_table_df.head(8)"
   ]
  },
  {
   "cell_type": "code",
   "execution_count": 11,
   "id": "813d5e0a-c539-4f56-a25f-9a6c7c634e94",
   "metadata": {},
   "outputs": [
    {
     "data": {
      "text/plain": [
       "(1000000, 14)"
      ]
     },
     "execution_count": 11,
     "metadata": {},
     "output_type": "execute_result"
    }
   ],
   "source": [
    "track_metadata = pd.read_csv('/home/016709732/dataset/track_metadata.csv')\n",
    "track_metadata.shape"
   ]
  },
  {
   "cell_type": "code",
   "execution_count": 12,
   "id": "3ebd6ecf-eb3b-42ba-899a-f0f9ece968ca",
   "metadata": {},
   "outputs": [],
   "source": [
    "track_metadata.drop(columns =['track_id', 'title','release', 'artist_id','artist_mbid','artist_name','artist_familiarity','artist_hotttnesss','year', 'track_7digitalid','shs_perf','shs_work'], inplace=True)"
   ]
  },
  {
   "cell_type": "code",
   "execution_count": 13,
   "id": "7ac9f8fa-5fa9-4b8e-a312-f4c4893a36da",
   "metadata": {},
   "outputs": [],
   "source": [
    "track_metadata = track_metadata.drop(track_metadata[track_metadata.duration > 480].index)\n",
    "track_metadata = track_metadata.drop(track_metadata[track_metadata.duration < 60].index)"
   ]
  },
  {
   "cell_type": "code",
   "execution_count": 15,
   "id": "aebd588e-c930-41f2-8551-81309a0423d5",
   "metadata": {},
   "outputs": [
    {
     "data": {
      "text/plain": [
       "(942370, 2)"
      ]
     },
     "execution_count": 15,
     "metadata": {},
     "output_type": "execute_result"
    }
   ],
   "source": [
    "track_metadata.drop_duplicates(inplace=True)\n",
    "track_metadata.shape"
   ]
  },
  {
   "cell_type": "code",
   "execution_count": 16,
   "id": "c804e304-6a33-4b21-a3b0-f1b491690379",
   "metadata": {},
   "outputs": [
    {
     "data": {
      "text/html": [
       "<div>\n",
       "<style scoped>\n",
       "    .dataframe tbody tr th:only-of-type {\n",
       "        vertical-align: middle;\n",
       "    }\n",
       "\n",
       "    .dataframe tbody tr th {\n",
       "        vertical-align: top;\n",
       "    }\n",
       "\n",
       "    .dataframe thead th {\n",
       "        text-align: right;\n",
       "    }\n",
       "</style>\n",
       "<table border=\"1\" class=\"dataframe\">\n",
       "  <thead>\n",
       "    <tr style=\"text-align: right;\">\n",
       "      <th></th>\n",
       "      <th>song_id</th>\n",
       "      <th>duration</th>\n",
       "    </tr>\n",
       "  </thead>\n",
       "  <tbody>\n",
       "    <tr>\n",
       "      <th>0</th>\n",
       "      <td>SOQMMHC12AB0180CB8</td>\n",
       "      <td>252.05506</td>\n",
       "    </tr>\n",
       "    <tr>\n",
       "      <th>1</th>\n",
       "      <td>SOVFVAK12A8C1350D9</td>\n",
       "      <td>156.55138</td>\n",
       "    </tr>\n",
       "    <tr>\n",
       "      <th>2</th>\n",
       "      <td>SOGTUKN12AB017F4F1</td>\n",
       "      <td>138.97098</td>\n",
       "    </tr>\n",
       "    <tr>\n",
       "      <th>3</th>\n",
       "      <td>SOBNYVR12A8C13558C</td>\n",
       "      <td>145.05751</td>\n",
       "    </tr>\n",
       "    <tr>\n",
       "      <th>6</th>\n",
       "      <td>SOQVRHI12A6D4FB2D7</td>\n",
       "      <td>212.37506</td>\n",
       "    </tr>\n",
       "    <tr>\n",
       "      <th>7</th>\n",
       "      <td>SOEYRFT12AB018936C</td>\n",
       "      <td>221.20444</td>\n",
       "    </tr>\n",
       "    <tr>\n",
       "      <th>8</th>\n",
       "      <td>SOPMIYT12A6D4F851E</td>\n",
       "      <td>139.17995</td>\n",
       "    </tr>\n",
       "    <tr>\n",
       "      <th>9</th>\n",
       "      <td>SOJCFMH12A8C13B0C2</td>\n",
       "      <td>104.48934</td>\n",
       "    </tr>\n",
       "  </tbody>\n",
       "</table>\n",
       "</div>"
      ],
      "text/plain": [
       "              song_id   duration\n",
       "0  SOQMMHC12AB0180CB8  252.05506\n",
       "1  SOVFVAK12A8C1350D9  156.55138\n",
       "2  SOGTUKN12AB017F4F1  138.97098\n",
       "3  SOBNYVR12A8C13558C  145.05751\n",
       "6  SOQVRHI12A6D4FB2D7  212.37506\n",
       "7  SOEYRFT12AB018936C  221.20444\n",
       "8  SOPMIYT12A6D4F851E  139.17995\n",
       "9  SOJCFMH12A8C13B0C2  104.48934"
      ]
     },
     "execution_count": 16,
     "metadata": {},
     "output_type": "execute_result"
    }
   ],
   "source": [
    "track_metadata.head(8)"
   ]
  },
  {
   "cell_type": "code",
   "execution_count": 17,
   "id": "e7f9cab8-c976-45d6-9e97-89bad9acfd70",
   "metadata": {},
   "outputs": [
    {
     "data": {
      "text/plain": [
       "(2128559, 10)"
      ]
     },
     "execution_count": 17,
     "metadata": {},
     "output_type": "execute_result"
    }
   ],
   "source": [
    "track_merge = pd.merge(track_metadata, taste_profile_df, on='song_id', how=\"right\")\n",
    "song_data = pd.merge(metadata_table_df, track_merge, on='song_id', how=\"right\")\n",
    "song_data.shape"
   ]
  },
  {
   "cell_type": "code",
   "execution_count": 18,
   "id": "b11aeca2-2d0f-4183-8f7d-720b5fa9d76c",
   "metadata": {},
   "outputs": [
    {
     "data": {
      "text/plain": [
       "(1776948, 10)"
      ]
     },
     "execution_count": 18,
     "metadata": {},
     "output_type": "execute_result"
    }
   ],
   "source": [
    "song_data = song_data.dropna()\n",
    "song_data.drop_duplicates(inplace=True)\n",
    "song_data.shape"
   ]
  },
  {
   "cell_type": "code",
   "execution_count": 19,
   "id": "46c72220-06e2-40b3-8456-50bb318ebb01",
   "metadata": {},
   "outputs": [
    {
     "name": "stdout",
     "output_type": "stream",
     "text": [
      "Columns and the datatypes in the data: \n",
      " artist_familiarity    float64\n",
      "artist_hotttnesss     float64\n",
      "artist_name            object\n",
      "release                object\n",
      "song_hotttnesss       float64\n",
      "song_id                object\n",
      "title                  object\n",
      "duration              float64\n",
      "user_id                object\n",
      "play_count              int64\n",
      "dtype: object\n",
      "\n",
      "\n",
      "Summary of column statistics: \n",
      "        artist_familiarity  artist_hotttnesss  song_hotttnesss      duration  \\\n",
      "count        1.776948e+06       1.776948e+06     1.776948e+06  1.776948e+06   \n",
      "mean         7.422984e-01       5.570766e-01     6.906530e-01  2.393463e+02   \n",
      "std          1.247892e-01       1.398934e-01     1.953554e-01  6.601397e+01   \n",
      "min          0.000000e+00       0.000000e+00     0.000000e+00  6.002893e+01   \n",
      "25%          6.639805e-01       4.646150e-01     5.911614e-01  1.990526e+02   \n",
      "50%          7.653570e-01       5.400078e-01     7.146505e-01  2.320975e+02   \n",
      "75%          8.384095e-01       6.118629e-01     8.222856e-01  2.713073e+02   \n",
      "max          1.000000e+00       1.082503e+00     1.000000e+00  4.799473e+02   \n",
      "\n",
      "         play_count  \n",
      "count  1.776948e+06  \n",
      "mean   2.838900e+00  \n",
      "std    6.206233e+00  \n",
      "min    1.000000e+00  \n",
      "25%    1.000000e+00  \n",
      "50%    1.000000e+00  \n",
      "75%    3.000000e+00  \n",
      "max    1.890000e+03  \n"
     ]
    }
   ],
   "source": [
    "print(\"Columns and the datatypes in the data: \\n\", song_data.dtypes)\n",
    "print(\"\\n\\nSummary of column statistics: \\n\", song_data.describe())"
   ]
  },
  {
   "cell_type": "code",
   "execution_count": 20,
   "id": "1c8eacba-2e71-4f9c-ba2a-837b3d6e4e69",
   "metadata": {},
   "outputs": [
    {
     "data": {
      "text/plain": [
       "(1428056, 10)"
      ]
     },
     "execution_count": 20,
     "metadata": {},
     "output_type": "execute_result"
    }
   ],
   "source": [
    "def remove_outliers(df, column_name):\n",
    "    q1 = df[column_name].quantile(0.25)\n",
    "    q3 = df[column_name].quantile(0.75)\n",
    "    iqr = q3 - q1\n",
    "    lower = q1 - 1.5 * iqr\n",
    "    upper = q3 + 1.5 * iqr\n",
    "    \n",
    "    df = df[(df[column_name] >= lower) & (df[column_name] <= upper)]\n",
    "    return df\n",
    "\n",
    "song_data = remove_outliers(song_data, 'play_count')\n",
    "song_data = remove_outliers(song_data, 'artist_familiarity')\n",
    "song_data = remove_outliers(song_data, 'artist_hotttnesss')\n",
    "song_data = remove_outliers(song_data, 'song_hotttnesss')\n",
    "song_data = remove_outliers(song_data, 'duration')\n",
    "song_data.shape"
   ]
  },
  {
   "cell_type": "code",
   "execution_count": 21,
   "id": "5b1743a9-b704-4e90-a430-0647d4de850e",
   "metadata": {},
   "outputs": [
    {
     "data": {
      "text/html": [
       "<div>\n",
       "<style scoped>\n",
       "    .dataframe tbody tr th:only-of-type {\n",
       "        vertical-align: middle;\n",
       "    }\n",
       "\n",
       "    .dataframe tbody tr th {\n",
       "        vertical-align: top;\n",
       "    }\n",
       "\n",
       "    .dataframe thead th {\n",
       "        text-align: right;\n",
       "    }\n",
       "</style>\n",
       "<table border=\"1\" class=\"dataframe\">\n",
       "  <thead>\n",
       "    <tr style=\"text-align: right;\">\n",
       "      <th></th>\n",
       "      <th>artist_familiarity</th>\n",
       "      <th>artist_hotttnesss</th>\n",
       "      <th>artist_name</th>\n",
       "      <th>release</th>\n",
       "      <th>song_hotttnesss</th>\n",
       "      <th>song_id</th>\n",
       "      <th>title</th>\n",
       "      <th>duration</th>\n",
       "      <th>user_id</th>\n",
       "      <th>play_count</th>\n",
       "    </tr>\n",
       "  </thead>\n",
       "  <tbody>\n",
       "    <tr>\n",
       "      <th>0</th>\n",
       "      <td>0.832012</td>\n",
       "      <td>0.677482</td>\n",
       "      <td>Jack Johnson</td>\n",
       "      <td>Thicker Than Water</td>\n",
       "      <td>0.649006</td>\n",
       "      <td>SOAKIMP12A8C130995</td>\n",
       "      <td>The Cove</td>\n",
       "      <td>112.63955</td>\n",
       "      <td>b80344d063b5ccb3212f76538f3d9e43d87dca9e</td>\n",
       "      <td>1</td>\n",
       "    </tr>\n",
       "    <tr>\n",
       "      <th>1</th>\n",
       "      <td>0.580555</td>\n",
       "      <td>0.482492</td>\n",
       "      <td>Billy Preston</td>\n",
       "      <td>To Die For</td>\n",
       "      <td>0.826375</td>\n",
       "      <td>SOAPDEY12A81C210A9</td>\n",
       "      <td>Nothing from Nothing</td>\n",
       "      <td>153.59955</td>\n",
       "      <td>b80344d063b5ccb3212f76538f3d9e43d87dca9e</td>\n",
       "      <td>1</td>\n",
       "    </tr>\n",
       "    <tr>\n",
       "      <th>2</th>\n",
       "      <td>0.633119</td>\n",
       "      <td>0.417718</td>\n",
       "      <td>Paco De Lucia</td>\n",
       "      <td>Flamenco Para Niños</td>\n",
       "      <td>0.735295</td>\n",
       "      <td>SOBBMDR12A8C13253B</td>\n",
       "      <td>Entre Dos Aguas</td>\n",
       "      <td>358.24281</td>\n",
       "      <td>b80344d063b5ccb3212f76538f3d9e43d87dca9e</td>\n",
       "      <td>2</td>\n",
       "    </tr>\n",
       "    <tr>\n",
       "      <th>3</th>\n",
       "      <td>0.650281</td>\n",
       "      <td>0.451749</td>\n",
       "      <td>The Dead 60s</td>\n",
       "      <td>Nick &amp; Norah's Infinite Playlist - Original Mo...</td>\n",
       "      <td>0.754628</td>\n",
       "      <td>SOBFOVM12A58A7D494</td>\n",
       "      <td>Riot Radio (Soundtrack Version)</td>\n",
       "      <td>141.42649</td>\n",
       "      <td>b80344d063b5ccb3212f76538f3d9e43d87dca9e</td>\n",
       "      <td>1</td>\n",
       "    </tr>\n",
       "    <tr>\n",
       "      <th>4</th>\n",
       "      <td>0.576127</td>\n",
       "      <td>0.436974</td>\n",
       "      <td>Amset</td>\n",
       "      <td>Amset</td>\n",
       "      <td>0.454193</td>\n",
       "      <td>SOBNZDC12A6D4FC103</td>\n",
       "      <td>Sin límites (I)</td>\n",
       "      <td>190.53669</td>\n",
       "      <td>b80344d063b5ccb3212f76538f3d9e43d87dca9e</td>\n",
       "      <td>1</td>\n",
       "    </tr>\n",
       "  </tbody>\n",
       "</table>\n",
       "</div>"
      ],
      "text/plain": [
       "   artist_familiarity  artist_hotttnesss    artist_name  \\\n",
       "0            0.832012           0.677482   Jack Johnson   \n",
       "1            0.580555           0.482492  Billy Preston   \n",
       "2            0.633119           0.417718  Paco De Lucia   \n",
       "3            0.650281           0.451749   The Dead 60s   \n",
       "4            0.576127           0.436974          Amset   \n",
       "\n",
       "                                             release  song_hotttnesss  \\\n",
       "0                                 Thicker Than Water         0.649006   \n",
       "1                                         To Die For         0.826375   \n",
       "2                                Flamenco Para Niños         0.735295   \n",
       "3  Nick & Norah's Infinite Playlist - Original Mo...         0.754628   \n",
       "4                                              Amset         0.454193   \n",
       "\n",
       "              song_id                            title   duration  \\\n",
       "0  SOAKIMP12A8C130995                         The Cove  112.63955   \n",
       "1  SOAPDEY12A81C210A9             Nothing from Nothing  153.59955   \n",
       "2  SOBBMDR12A8C13253B                  Entre Dos Aguas  358.24281   \n",
       "3  SOBFOVM12A58A7D494  Riot Radio (Soundtrack Version)  141.42649   \n",
       "4  SOBNZDC12A6D4FC103                  Sin límites (I)  190.53669   \n",
       "\n",
       "                                    user_id  play_count  \n",
       "0  b80344d063b5ccb3212f76538f3d9e43d87dca9e           1  \n",
       "1  b80344d063b5ccb3212f76538f3d9e43d87dca9e           1  \n",
       "2  b80344d063b5ccb3212f76538f3d9e43d87dca9e           2  \n",
       "3  b80344d063b5ccb3212f76538f3d9e43d87dca9e           1  \n",
       "4  b80344d063b5ccb3212f76538f3d9e43d87dca9e           1  "
      ]
     },
     "execution_count": 21,
     "metadata": {},
     "output_type": "execute_result"
    }
   ],
   "source": [
    "song_data = song_data.reset_index(drop=True)\n",
    "song_data.head(5)"
   ]
  },
  {
   "cell_type": "code",
   "execution_count": 22,
   "id": "84ea4aef-b6e6-4dac-9f7e-34c01027fb33",
   "metadata": {},
   "outputs": [],
   "source": [
    "song_data['unencoded_sid'] = song_data['song_id']\n",
    "song_data['unencoded_uid'] = song_data['user_id']"
   ]
  },
  {
   "cell_type": "code",
   "execution_count": 23,
   "id": "39bfa2df-0068-42f0-ae51-d16b056e6b61",
   "metadata": {},
   "outputs": [],
   "source": [
    "data_encoder = LabelEncoder()\n",
    "song_data['song_id'] = data_encoder.fit_transform(song_data['song_id'])\n",
    "song_data['user_id'] = data_encoder.fit_transform(song_data['user_id'])"
   ]
  },
  {
   "cell_type": "code",
   "execution_count": 24,
   "id": "cded28da-3c0a-4dba-a085-dc68ff4d861a",
   "metadata": {},
   "outputs": [
    {
     "data": {
      "text/html": [
       "<div>\n",
       "<style scoped>\n",
       "    .dataframe tbody tr th:only-of-type {\n",
       "        vertical-align: middle;\n",
       "    }\n",
       "\n",
       "    .dataframe tbody tr th {\n",
       "        vertical-align: top;\n",
       "    }\n",
       "\n",
       "    .dataframe thead th {\n",
       "        text-align: right;\n",
       "    }\n",
       "</style>\n",
       "<table border=\"1\" class=\"dataframe\">\n",
       "  <thead>\n",
       "    <tr style=\"text-align: right;\">\n",
       "      <th></th>\n",
       "      <th>artist_familiarity</th>\n",
       "      <th>artist_hotttnesss</th>\n",
       "      <th>artist_name</th>\n",
       "      <th>release</th>\n",
       "      <th>song_hotttnesss</th>\n",
       "      <th>song_id</th>\n",
       "      <th>title</th>\n",
       "      <th>duration</th>\n",
       "      <th>user_id</th>\n",
       "      <th>play_count</th>\n",
       "    </tr>\n",
       "  </thead>\n",
       "  <tbody>\n",
       "    <tr>\n",
       "      <th>0</th>\n",
       "      <td>0.832012</td>\n",
       "      <td>0.677482</td>\n",
       "      <td>Jack Johnson</td>\n",
       "      <td>Thicker Than Water</td>\n",
       "      <td>0.649006</td>\n",
       "      <td>2078</td>\n",
       "      <td>The Cove</td>\n",
       "      <td>112.63955</td>\n",
       "      <td>29941</td>\n",
       "      <td>1</td>\n",
       "    </tr>\n",
       "    <tr>\n",
       "      <th>1</th>\n",
       "      <td>0.580555</td>\n",
       "      <td>0.482492</td>\n",
       "      <td>Billy Preston</td>\n",
       "      <td>To Die For</td>\n",
       "      <td>0.826375</td>\n",
       "      <td>3051</td>\n",
       "      <td>Nothing from Nothing</td>\n",
       "      <td>153.59955</td>\n",
       "      <td>29941</td>\n",
       "      <td>1</td>\n",
       "    </tr>\n",
       "    <tr>\n",
       "      <th>2</th>\n",
       "      <td>0.633119</td>\n",
       "      <td>0.417718</td>\n",
       "      <td>Paco De Lucia</td>\n",
       "      <td>Flamenco Para Niños</td>\n",
       "      <td>0.735295</td>\n",
       "      <td>5461</td>\n",
       "      <td>Entre Dos Aguas</td>\n",
       "      <td>358.24281</td>\n",
       "      <td>29941</td>\n",
       "      <td>2</td>\n",
       "    </tr>\n",
       "    <tr>\n",
       "      <th>3</th>\n",
       "      <td>0.650281</td>\n",
       "      <td>0.451749</td>\n",
       "      <td>The Dead 60s</td>\n",
       "      <td>Nick &amp; Norah's Infinite Playlist - Original Mo...</td>\n",
       "      <td>0.754628</td>\n",
       "      <td>6263</td>\n",
       "      <td>Riot Radio (Soundtrack Version)</td>\n",
       "      <td>141.42649</td>\n",
       "      <td>29941</td>\n",
       "      <td>1</td>\n",
       "    </tr>\n",
       "    <tr>\n",
       "      <th>4</th>\n",
       "      <td>0.576127</td>\n",
       "      <td>0.436974</td>\n",
       "      <td>Amset</td>\n",
       "      <td>Amset</td>\n",
       "      <td>0.454193</td>\n",
       "      <td>7956</td>\n",
       "      <td>Sin límites (I)</td>\n",
       "      <td>190.53669</td>\n",
       "      <td>29941</td>\n",
       "      <td>1</td>\n",
       "    </tr>\n",
       "    <tr>\n",
       "      <th>5</th>\n",
       "      <td>0.641037</td>\n",
       "      <td>0.412069</td>\n",
       "      <td>Jorge Drexler</td>\n",
       "      <td>10 + Downloaded</td>\n",
       "      <td>0.265861</td>\n",
       "      <td>8982</td>\n",
       "      <td>12 segundos de oscuridad</td>\n",
       "      <td>246.83057</td>\n",
       "      <td>29941</td>\n",
       "      <td>2</td>\n",
       "    </tr>\n",
       "    <tr>\n",
       "      <th>6</th>\n",
       "      <td>0.675339</td>\n",
       "      <td>0.499641</td>\n",
       "      <td>Josh Rouse</td>\n",
       "      <td>Under Cold Blue Stars</td>\n",
       "      <td>0.645846</td>\n",
       "      <td>9466</td>\n",
       "      <td>Ears To The Ground (Album Version)</td>\n",
       "      <td>171.17995</td>\n",
       "      <td>29941</td>\n",
       "      <td>1</td>\n",
       "    </tr>\n",
       "    <tr>\n",
       "      <th>7</th>\n",
       "      <td>0.806208</td>\n",
       "      <td>0.498077</td>\n",
       "      <td>Eric Hutchinson</td>\n",
       "      <td>Sounds Like This</td>\n",
       "      <td>0.345802</td>\n",
       "      <td>9823</td>\n",
       "      <td>Food Chain (Album Version)</td>\n",
       "      <td>221.20444</td>\n",
       "      <td>29941</td>\n",
       "      <td>1</td>\n",
       "    </tr>\n",
       "  </tbody>\n",
       "</table>\n",
       "</div>"
      ],
      "text/plain": [
       "   artist_familiarity  artist_hotttnesss      artist_name  \\\n",
       "0            0.832012           0.677482     Jack Johnson   \n",
       "1            0.580555           0.482492    Billy Preston   \n",
       "2            0.633119           0.417718    Paco De Lucia   \n",
       "3            0.650281           0.451749     The Dead 60s   \n",
       "4            0.576127           0.436974            Amset   \n",
       "5            0.641037           0.412069    Jorge Drexler   \n",
       "6            0.675339           0.499641       Josh Rouse   \n",
       "7            0.806208           0.498077  Eric Hutchinson   \n",
       "\n",
       "                                             release  song_hotttnesss  \\\n",
       "0                                 Thicker Than Water         0.649006   \n",
       "1                                         To Die For         0.826375   \n",
       "2                                Flamenco Para Niños         0.735295   \n",
       "3  Nick & Norah's Infinite Playlist - Original Mo...         0.754628   \n",
       "4                                              Amset         0.454193   \n",
       "5                                    10 + Downloaded         0.265861   \n",
       "6                              Under Cold Blue Stars         0.645846   \n",
       "7                                   Sounds Like This         0.345802   \n",
       "\n",
       "   song_id                               title   duration  user_id  play_count  \n",
       "0     2078                            The Cove  112.63955    29941           1  \n",
       "1     3051                Nothing from Nothing  153.59955    29941           1  \n",
       "2     5461                     Entre Dos Aguas  358.24281    29941           2  \n",
       "3     6263     Riot Radio (Soundtrack Version)  141.42649    29941           1  \n",
       "4     7956                     Sin límites (I)  190.53669    29941           1  \n",
       "5     8982            12 segundos de oscuridad  246.83057    29941           2  \n",
       "6     9466  Ears To The Ground (Album Version)  171.17995    29941           1  \n",
       "7     9823          Food Chain (Album Version)  221.20444    29941           1  "
      ]
     },
     "execution_count": 24,
     "metadata": {},
     "output_type": "execute_result"
    }
   ],
   "source": [
    "song_dict = dict(zip(song_data['unencoded_sid'], song_data['song_id']))\n",
    "user_dict = dict(zip(song_data['unencoded_uid'], song_data['user_id']))\n",
    "song_data.drop(columns =['unencoded_sid'], inplace=True)\n",
    "song_data.drop(columns =['unencoded_uid'], inplace=True)\n",
    "song_data.head(8)"
   ]
  },
  {
   "cell_type": "code",
   "execution_count": 25,
   "id": "57cbfe83-20d1-49e6-9bcc-b273ee5f3f66",
   "metadata": {},
   "outputs": [],
   "source": [
    "scaler = MinMaxScaler()\n",
    "track_metadata['duration'] = scaler.fit_transform(track_metadata[['duration']])"
   ]
  },
  {
   "cell_type": "code",
   "execution_count": 26,
   "id": "1e2d831b-8237-47bd-9912-c8699cbb00fd",
   "metadata": {},
   "outputs": [],
   "source": [
    "reader = Reader(rating_scale=(1, 7))\n",
    "songdata = Dataset.load_from_df(song_data[['user_id', 'song_id', 'play_count']], reader)"
   ]
  },
  {
   "cell_type": "code",
   "execution_count": 27,
   "id": "2eeb706a-0bd3-4ebf-84ba-581065ffe8a4",
   "metadata": {},
   "outputs": [
    {
     "data": {
      "text/plain": [
       "<surprise.prediction_algorithms.matrix_factorization.SVD at 0x7f323c259520>"
      ]
     },
     "execution_count": 27,
     "metadata": {},
     "output_type": "execute_result"
    }
   ],
   "source": [
    "from surprise.model_selection import train_test_split\n",
    "train_set, test_set = train_test_split(songdata, test_size=0.1, random_state=42)\n",
    "svd = SVD(n_factors= 2, n_epochs=20, lr_all= 0.007, reg_all= 0.1, init_mean= 0, init_std_dev= 0.001)\n",
    "svd.fit(train_set)"
   ]
  },
  {
   "cell_type": "code",
   "execution_count": 28,
   "id": "2d964414-9768-4048-aea9-4ec603f60f10",
   "metadata": {},
   "outputs": [
    {
     "name": "stdout",
     "output_type": "stream",
     "text": [
      "RMSE: 1.1865\n"
     ]
    },
    {
     "data": {
      "text/plain": [
       "1.1864640154771293"
      ]
     },
     "execution_count": 28,
     "metadata": {},
     "output_type": "execute_result"
    }
   ],
   "source": [
    "svd_predictions = svd.test(test_set)\n",
    "accuracy.rmse(svd_predictions)"
   ]
  },
  {
   "cell_type": "code",
   "execution_count": 31,
   "id": "769266d8-c9b3-4f8e-b960-976d83eb7fa2",
   "metadata": {},
   "outputs": [
    {
     "name": "stdout",
     "output_type": "stream",
     "text": [
      "MAE:  0.8531\n"
     ]
    },
    {
     "data": {
      "text/plain": [
       "0.8531247437496093"
      ]
     },
     "execution_count": 31,
     "metadata": {},
     "output_type": "execute_result"
    }
   ],
   "source": [
    "svd_predictions = svd.test(test_set)\n",
    "accuracy.mae(svd_predictions)"
   ]
  },
  {
   "cell_type": "code",
   "execution_count": 30,
   "id": "b7e94650-3e2b-44c4-852c-5e24917ba1f3",
   "metadata": {},
   "outputs": [
    {
     "data": {
      "text/plain": [
       "<surprise.prediction_algorithms.matrix_factorization.SVDpp at 0x7f30e5206340>"
      ]
     },
     "execution_count": 30,
     "metadata": {},
     "output_type": "execute_result"
    }
   ],
   "source": [
    "svdpp = SVDpp(n_factors= 2, n_epochs=20, lr_all= 0.007, reg_all= 0.1, init_mean= 0, init_std_dev= 0.001)\n",
    "svdpp.fit(train_set)"
   ]
  },
  {
   "cell_type": "code",
   "execution_count": 32,
   "id": "bb184559-3bc2-42e1-8dcc-5c3d937361e8",
   "metadata": {},
   "outputs": [
    {
     "name": "stdout",
     "output_type": "stream",
     "text": [
      "RMSE: 1.1840\n"
     ]
    },
    {
     "data": {
      "text/plain": [
       "1.1840424599487298"
      ]
     },
     "execution_count": 32,
     "metadata": {},
     "output_type": "execute_result"
    }
   ],
   "source": [
    "svdpp_predictions = svdpp.test(test_set)\n",
    "accuracy.rmse(svdpp_predictions)"
   ]
  },
  {
   "cell_type": "code",
   "execution_count": 33,
   "id": "955b276c-8ccc-46bb-8cc4-4752b0965916",
   "metadata": {},
   "outputs": [
    {
     "name": "stdout",
     "output_type": "stream",
     "text": [
      "MAE:  0.8509\n"
     ]
    },
    {
     "data": {
      "text/plain": [
       "0.8509362373075864"
      ]
     },
     "execution_count": 33,
     "metadata": {},
     "output_type": "execute_result"
    }
   ],
   "source": [
    "svdpp_predictions = svdpp.test(test_set)\n",
    "accuracy.mae(svdpp_predictions)"
   ]
  },
  {
   "cell_type": "code",
   "execution_count": null,
   "id": "3e7f64a6-da3e-45b1-b345-495e0f27b980",
   "metadata": {},
   "outputs": [],
   "source": []
  },
  {
   "cell_type": "code",
   "execution_count": 34,
   "id": "9aea6b74-05a2-4799-8f21-47903f24d9da",
   "metadata": {},
   "outputs": [
    {
     "data": {
      "text/plain": [
       "<surprise.prediction_algorithms.matrix_factorization.NMF at 0x7f30e5206b80>"
      ]
     },
     "execution_count": 34,
     "metadata": {},
     "output_type": "execute_result"
    }
   ],
   "source": [
    "nmf = NMF()\n",
    "nmf.fit(train_set)"
   ]
  },
  {
   "cell_type": "code",
   "execution_count": 35,
   "id": "f95c9d15-486a-49bb-b3ee-c74aa786a2e8",
   "metadata": {},
   "outputs": [
    {
     "name": "stdout",
     "output_type": "stream",
     "text": [
      "RMSE: 1.2690\n"
     ]
    },
    {
     "data": {
      "text/plain": [
       "1.2689799692250405"
      ]
     },
     "execution_count": 35,
     "metadata": {},
     "output_type": "execute_result"
    }
   ],
   "source": [
    "nmf_predictions = nmf.test(test_set)\n",
    "accuracy.rmse(nmf_predictions)"
   ]
  },
  {
   "cell_type": "code",
   "execution_count": 36,
   "id": "5aebd656-ef59-40cf-bf68-ebbdabfe747c",
   "metadata": {},
   "outputs": [
    {
     "name": "stdout",
     "output_type": "stream",
     "text": [
      "MAE:  0.8265\n"
     ]
    },
    {
     "data": {
      "text/plain": [
       "0.8265017467990579"
      ]
     },
     "execution_count": 36,
     "metadata": {},
     "output_type": "execute_result"
    }
   ],
   "source": [
    "nmf_predictions = nmf.test(test_set)\n",
    "accuracy.mae(nmf_predictions)"
   ]
  },
  {
   "cell_type": "code",
   "execution_count": null,
   "id": "9656ace3-4770-4af6-85a9-ab0847b8e410",
   "metadata": {},
   "outputs": [],
   "source": []
  },
  {
   "cell_type": "code",
   "execution_count": null,
   "id": "dc7de097-f3fe-49cb-91ac-8d9fafc22c2f",
   "metadata": {},
   "outputs": [],
   "source": []
  },
  {
   "cell_type": "code",
   "execution_count": null,
   "id": "015e8785-044a-4e49-a4d5-cdffbd70680a",
   "metadata": {},
   "outputs": [],
   "source": []
  }
 ],
 "metadata": {
  "kernelspec": {
   "display_name": "Python 3 (ipykernel)",
   "language": "python",
   "name": "python3"
  },
  "language_info": {
   "codemirror_mode": {
    "name": "ipython",
    "version": 3
   },
   "file_extension": ".py",
   "mimetype": "text/x-python",
   "name": "python",
   "nbconvert_exporter": "python",
   "pygments_lexer": "ipython3",
   "version": "3.8.8"
  }
 },
 "nbformat": 4,
 "nbformat_minor": 5
}
