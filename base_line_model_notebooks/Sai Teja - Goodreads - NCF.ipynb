{
 "cells": [
  {
   "cell_type": "code",
   "execution_count": 1,
   "id": "88e4b5c5-3516-43ed-81c0-7e32fc144eeb",
   "metadata": {},
   "outputs": [
    {
     "name": "stderr",
     "output_type": "stream",
     "text": [
      "/opt/ohpc/pub/apps/python3/3.8.8/lib/python3.8/site-packages/tqdm/auto.py:22: TqdmWarning: IProgress not found. Please update jupyter and ipywidgets. See https://ipywidgets.readthedocs.io/en/stable/user_install.html\n",
      "  from .autonotebook import tqdm as notebook_tqdm\n",
      "2023-10-30 20:17:16.962905: I tensorflow/stream_executor/platform/default/dso_loader.cc:49] Successfully opened dynamic library libcudart.so.11.0\n"
     ]
    }
   ],
   "source": [
    "import os\n",
    "import re\n",
    "\n",
    "import numpy as np\n",
    "import pandas as pd\n",
    "import tables\n",
    "\n",
    "import seaborn as sns\n",
    "import matplotlib.pyplot as plt\n",
    "\n",
    "import sklearn\n",
    "from sklearn.preprocessing import MinMaxScaler\n",
    "from sklearn.preprocessing import LabelEncoder\n",
    "from sklearn.metrics import f1_score, accuracy_score, r2_score, mean_absolute_error, mean_squared_error\n",
    "\n",
    "from gensim.models import FastText\n",
    "\n",
    "from tensorflow.keras import backend as K\n",
    "from tensorflow import keras\n",
    "from tensorflow.keras.optimizers import Adam\n",
    "import tensorflow as tf\n",
    "from tensorflow.keras.layers import Dense, Flatten, Input, Embedding, Concatenate, Dropout\n",
    "from tensorflow.keras.callbacks import EarlyStopping\n",
    "from tensorflow.keras.optimizers import Adam\n",
    "\n",
    "from tensorflow.keras.layers import Add, Activation, Lambda, BatchNormalization, Concatenate, Dropout, Input, Embedding, Dot, Reshape, Dense, Flatten\n",
    "from tensorflow.keras import regularizers\n",
    "\n",
    "from tensorflow.keras.callbacks import LambdaCallback\n",
    "from tensorflow.keras.utils import plot_model"
   ]
  },
  {
   "cell_type": "code",
   "execution_count": 7,
   "id": "e5aec258-41ea-4f85-a5de-56eabc5cd88d",
   "metadata": {},
   "outputs": [
    {
     "name": "stdout",
     "output_type": "stream",
     "text": [
      "Defaulting to user installation because normal site-packages is not writeable\n",
      "Requirement already satisfied: LibRecommender in /home/016709732/.local/lib/python3.8/site-packages (1.3.0)\n",
      "Requirement already satisfied: gensim>=4.0.0 in /home/016709732/.local/lib/python3.8/site-packages (from LibRecommender) (4.3.2)\n",
      "Requirement already satisfied: tqdm in /opt/ohpc/pub/apps/python3/3.8.8/lib/python3.8/site-packages (from LibRecommender) (4.63.1)\n",
      "Requirement already satisfied: numpy>=1.18.5 in /home/016709732/.local/lib/python3.8/site-packages (from gensim>=4.0.0->LibRecommender) (1.19.5)\n",
      "Requirement already satisfied: scipy>=1.7.0 in /home/016709732/.local/lib/python3.8/site-packages (from gensim>=4.0.0->LibRecommender) (1.10.1)\n",
      "Requirement already satisfied: smart-open>=1.8.1 in /home/016709732/.local/lib/python3.8/site-packages (from gensim>=4.0.0->LibRecommender) (6.4.0)\n",
      "\n",
      "\u001b[1m[\u001b[0m\u001b[34;49mnotice\u001b[0m\u001b[1;39;49m]\u001b[0m\u001b[39;49m A new release of pip is available: \u001b[0m\u001b[31;49m23.2.1\u001b[0m\u001b[39;49m -> \u001b[0m\u001b[32;49m23.3.1\u001b[0m\n",
      "\u001b[1m[\u001b[0m\u001b[34;49mnotice\u001b[0m\u001b[1;39;49m]\u001b[0m\u001b[39;49m To update, run: \u001b[0m\u001b[32;49mpip install --upgrade pip\u001b[0m\n",
      "WARNING:tensorflow:From /home/016709732/.local/lib/python3.8/site-packages/tensorflow/python/compat/v2_compat.py:96: disable_resource_variables (from tensorflow.python.ops.variable_scope) is deprecated and will be removed in a future version.\n",
      "Instructions for updating:\n",
      "non-resource variables are not supported in the long term\n"
     ]
    }
   ],
   "source": [
    "import tensorflow as tf\n",
    "from tensorflow.keras.layers import Dense, Flatten, Input, Embedding, Concatenate, Dropout\n",
    "from tensorflow.keras.callbacks import EarlyStopping\n",
    "from tensorflow.keras.optimizers import Adam\n",
    "from tensorflow.keras.layers import Add, Activation, Lambda, BatchNormalization, Concatenate, Dropout, Input, Embedding, Dot, Reshape, Dense, Flatten\n",
    "from tensorflow.keras import regularizers\n",
    "from sklearn.feature_extraction.text import CountVectorizer\n",
    "\n",
    "from sklearn.feature_extraction.text import TfidfVectorizer\n",
    "from sklearn.decomposition import TruncatedSVD\n",
    "\n",
    "!pip install LibRecommender\n",
    "from libreco.data import random_split, DatasetPure\n",
    "from libreco.algorithms import NCF\n",
    "from libreco.evaluation import evaluate"
   ]
  },
  {
   "cell_type": "code",
   "execution_count": 2,
   "id": "4d08bef4-e150-49d4-8bb2-25c6dbe78368",
   "metadata": {},
   "outputs": [],
   "source": [
    "books_df = pd.read_csv('/home/016709732/dataset/goodreads_interactions.csv')"
   ]
  },
  {
   "cell_type": "code",
   "execution_count": 3,
   "id": "0ca9684a-7ba8-4ff3-91d4-aa27569721ed",
   "metadata": {},
   "outputs": [
    {
     "data": {
      "text/plain": [
       "(499998, 5)"
      ]
     },
     "execution_count": 3,
     "metadata": {},
     "output_type": "execute_result"
    }
   ],
   "source": [
    "books_df = books_df.drop(books_df[books_df['is_read'] == 0].index)\n",
    "books_df = books_df.drop(books_df[books_df['is_reviewed'] == 0].index)\n",
    "books = books_df.groupby('rating', group_keys=False).apply(lambda x: x.sample(int((len(x)/len(books_df))*500000)))\n",
    "books.shape"
   ]
  },
  {
   "cell_type": "code",
   "execution_count": 4,
   "id": "ef0abe63-09b9-408d-a58f-54420e40804f",
   "metadata": {},
   "outputs": [
    {
     "data": {
      "text/html": [
       "<div>\n",
       "<style scoped>\n",
       "    .dataframe tbody tr th:only-of-type {\n",
       "        vertical-align: middle;\n",
       "    }\n",
       "\n",
       "    .dataframe tbody tr th {\n",
       "        vertical-align: top;\n",
       "    }\n",
       "\n",
       "    .dataframe thead th {\n",
       "        text-align: right;\n",
       "    }\n",
       "</style>\n",
       "<table border=\"1\" class=\"dataframe\">\n",
       "  <thead>\n",
       "    <tr style=\"text-align: right;\">\n",
       "      <th></th>\n",
       "      <th>user_id</th>\n",
       "      <th>book_id</th>\n",
       "      <th>is_read</th>\n",
       "      <th>rating</th>\n",
       "      <th>is_reviewed</th>\n",
       "    </tr>\n",
       "  </thead>\n",
       "  <tbody>\n",
       "    <tr>\n",
       "      <th>48097271</th>\n",
       "      <td>95527</td>\n",
       "      <td>1571711</td>\n",
       "      <td>1</td>\n",
       "      <td>0</td>\n",
       "      <td>1</td>\n",
       "    </tr>\n",
       "    <tr>\n",
       "      <th>10699894</th>\n",
       "      <td>20905</td>\n",
       "      <td>91664</td>\n",
       "      <td>1</td>\n",
       "      <td>0</td>\n",
       "      <td>1</td>\n",
       "    </tr>\n",
       "    <tr>\n",
       "      <th>9721705</th>\n",
       "      <td>19042</td>\n",
       "      <td>416189</td>\n",
       "      <td>1</td>\n",
       "      <td>0</td>\n",
       "      <td>1</td>\n",
       "    </tr>\n",
       "    <tr>\n",
       "      <th>22640665</th>\n",
       "      <td>44472</td>\n",
       "      <td>1320</td>\n",
       "      <td>1</td>\n",
       "      <td>0</td>\n",
       "      <td>1</td>\n",
       "    </tr>\n",
       "    <tr>\n",
       "      <th>225699884</th>\n",
       "      <td>798440</td>\n",
       "      <td>19431</td>\n",
       "      <td>1</td>\n",
       "      <td>0</td>\n",
       "      <td>1</td>\n",
       "    </tr>\n",
       "    <tr>\n",
       "      <th>225903032</th>\n",
       "      <td>804054</td>\n",
       "      <td>76073</td>\n",
       "      <td>1</td>\n",
       "      <td>0</td>\n",
       "      <td>1</td>\n",
       "    </tr>\n",
       "    <tr>\n",
       "      <th>45964627</th>\n",
       "      <td>91432</td>\n",
       "      <td>181059</td>\n",
       "      <td>1</td>\n",
       "      <td>0</td>\n",
       "      <td>1</td>\n",
       "    </tr>\n",
       "    <tr>\n",
       "      <th>181877438</th>\n",
       "      <td>382787</td>\n",
       "      <td>444801</td>\n",
       "      <td>1</td>\n",
       "      <td>0</td>\n",
       "      <td>1</td>\n",
       "    </tr>\n",
       "    <tr>\n",
       "      <th>175615775</th>\n",
       "      <td>367881</td>\n",
       "      <td>583544</td>\n",
       "      <td>1</td>\n",
       "      <td>0</td>\n",
       "      <td>1</td>\n",
       "    </tr>\n",
       "    <tr>\n",
       "      <th>175346382</th>\n",
       "      <td>367192</td>\n",
       "      <td>354395</td>\n",
       "      <td>1</td>\n",
       "      <td>0</td>\n",
       "      <td>1</td>\n",
       "    </tr>\n",
       "    <tr>\n",
       "      <th>226022786</th>\n",
       "      <td>807199</td>\n",
       "      <td>534159</td>\n",
       "      <td>1</td>\n",
       "      <td>0</td>\n",
       "      <td>1</td>\n",
       "    </tr>\n",
       "    <tr>\n",
       "      <th>17695120</th>\n",
       "      <td>34656</td>\n",
       "      <td>647986</td>\n",
       "      <td>1</td>\n",
       "      <td>0</td>\n",
       "      <td>1</td>\n",
       "    </tr>\n",
       "    <tr>\n",
       "      <th>4316600</th>\n",
       "      <td>8515</td>\n",
       "      <td>697757</td>\n",
       "      <td>1</td>\n",
       "      <td>0</td>\n",
       "      <td>1</td>\n",
       "    </tr>\n",
       "    <tr>\n",
       "      <th>73836080</th>\n",
       "      <td>148539</td>\n",
       "      <td>9157</td>\n",
       "      <td>1</td>\n",
       "      <td>0</td>\n",
       "      <td>1</td>\n",
       "    </tr>\n",
       "    <tr>\n",
       "      <th>180153432</th>\n",
       "      <td>378803</td>\n",
       "      <td>10126</td>\n",
       "      <td>1</td>\n",
       "      <td>0</td>\n",
       "      <td>1</td>\n",
       "    </tr>\n",
       "    <tr>\n",
       "      <th>160629553</th>\n",
       "      <td>334536</td>\n",
       "      <td>37360</td>\n",
       "      <td>1</td>\n",
       "      <td>0</td>\n",
       "      <td>1</td>\n",
       "    </tr>\n",
       "    <tr>\n",
       "      <th>1669456</th>\n",
       "      <td>3324</td>\n",
       "      <td>1049</td>\n",
       "      <td>1</td>\n",
       "      <td>0</td>\n",
       "      <td>1</td>\n",
       "    </tr>\n",
       "    <tr>\n",
       "      <th>9521415</th>\n",
       "      <td>18716</td>\n",
       "      <td>50004</td>\n",
       "      <td>1</td>\n",
       "      <td>0</td>\n",
       "      <td>1</td>\n",
       "    </tr>\n",
       "    <tr>\n",
       "      <th>51629199</th>\n",
       "      <td>102983</td>\n",
       "      <td>2787</td>\n",
       "      <td>1</td>\n",
       "      <td>0</td>\n",
       "      <td>1</td>\n",
       "    </tr>\n",
       "    <tr>\n",
       "      <th>118703713</th>\n",
       "      <td>243123</td>\n",
       "      <td>154594</td>\n",
       "      <td>1</td>\n",
       "      <td>0</td>\n",
       "      <td>1</td>\n",
       "    </tr>\n",
       "  </tbody>\n",
       "</table>\n",
       "</div>"
      ],
      "text/plain": [
       "           user_id  book_id  is_read  rating  is_reviewed\n",
       "48097271     95527  1571711        1       0            1\n",
       "10699894     20905    91664        1       0            1\n",
       "9721705      19042   416189        1       0            1\n",
       "22640665     44472     1320        1       0            1\n",
       "225699884   798440    19431        1       0            1\n",
       "225903032   804054    76073        1       0            1\n",
       "45964627     91432   181059        1       0            1\n",
       "181877438   382787   444801        1       0            1\n",
       "175615775   367881   583544        1       0            1\n",
       "175346382   367192   354395        1       0            1\n",
       "226022786   807199   534159        1       0            1\n",
       "17695120     34656   647986        1       0            1\n",
       "4316600       8515   697757        1       0            1\n",
       "73836080    148539     9157        1       0            1\n",
       "180153432   378803    10126        1       0            1\n",
       "160629553   334536    37360        1       0            1\n",
       "1669456       3324     1049        1       0            1\n",
       "9521415      18716    50004        1       0            1\n",
       "51629199    102983     2787        1       0            1\n",
       "118703713   243123   154594        1       0            1"
      ]
     },
     "execution_count": 4,
     "metadata": {},
     "output_type": "execute_result"
    }
   ],
   "source": [
    "books.head(20)"
   ]
  },
  {
   "cell_type": "code",
   "execution_count": 5,
   "id": "de7229b2-74d4-4b5f-8249-09386b3178d5",
   "metadata": {},
   "outputs": [],
   "source": [
    "books[\"user\"] = books[\"user_id\"]\n",
    "books[\"label\"] = books[\"rating\"]\n",
    "\n",
    "books[\"item\"] = books[\"book_id\"]\n",
    "books = books[[\"user\", \"item\", \"label\"]]"
   ]
  },
  {
   "cell_type": "code",
   "execution_count": 8,
   "id": "600ed56a-9587-4415-b71e-49fb5a0b99f3",
   "metadata": {},
   "outputs": [],
   "source": [
    "train_data, eval_data, test_data = random_split(books, multi_ratios=[0.8, 0.1, 0.1])"
   ]
  },
  {
   "cell_type": "code",
   "execution_count": 10,
   "id": "69a5e69d-e061-450e-be0d-28b289f26872",
   "metadata": {},
   "outputs": [],
   "source": [
    "train_data, data_info= DatasetPure.build_trainset(train_data)\n",
    "eval_data = DatasetPure.build_evalset(eval_data)\n",
    "test_data = DatasetPure.build_testset(test_data)"
   ]
  },
  {
   "cell_type": "code",
   "execution_count": 11,
   "id": "049c2bc6-e5e8-4c02-9def-4050d3be928d",
   "metadata": {},
   "outputs": [
    {
     "name": "stderr",
     "output_type": "stream",
     "text": [
      "2023-10-30 20:21:58.612463: I tensorflow/compiler/jit/xla_gpu_device.cc:99] Not creating XLA devices, tf_xla_enable_xla_devices not set\n",
      "2023-10-30 20:21:58.612661: I tensorflow/stream_executor/platform/default/dso_loader.cc:49] Successfully opened dynamic library libcuda.so.1\n",
      "2023-10-30 20:21:58.785645: E tensorflow/stream_executor/cuda/cuda_driver.cc:328] failed call to cuInit: CUDA_ERROR_NO_DEVICE: no CUDA-capable device is detected\n",
      "2023-10-30 20:21:58.785700: I tensorflow/stream_executor/cuda/cuda_diagnostics.cc:156] kernel driver does not appear to be running on this host (c4): /proc/driver/nvidia/version does not exist\n"
     ]
    }
   ],
   "source": [
    "ncf = NCF(\n",
    "    task=\"rating\",\n",
    "    data_info=data_info,\n",
    "    loss_type=\"cross_entropy\",\n",
    "    embed_size=16,\n",
    "    n_epochs=5,\n",
    "    lr=1e-3,\n",
    "    batch_size=2048,\n",
    "    num_neg=1,\n",
    ")"
   ]
  },
  {
   "cell_type": "code",
   "execution_count": 12,
   "id": "ae0612b5-2278-4fd6-b72d-29a424df96b4",
   "metadata": {},
   "outputs": [
    {
     "name": "stdout",
     "output_type": "stream",
     "text": [
      "Training start time: \u001b[35m2023-10-30 20:22:08\u001b[0m\n"
     ]
    },
    {
     "name": "stderr",
     "output_type": "stream",
     "text": [
      "/home/016709732/.local/lib/python3.8/site-packages/tensorflow/python/keras/legacy_tf_layers/normalization.py:307: UserWarning: `tf.layers.batch_normalization` is deprecated and will be removed in a future version. Please use `tf.keras.layers.BatchNormalization` instead. In particular, `tf.control_dependencies(tf.GraphKeys.UPDATE_OPS)` should not be used (consult the `tf.keras.layers.BatchNormalization` documentation).\n",
      "  warnings.warn(\n",
      "/home/016709732/.local/lib/python3.8/site-packages/tensorflow/python/keras/engine/base_layer_v1.py:1719: UserWarning: `layer.apply` is deprecated and will be removed in a future version. Please use `layer.__call__` method instead.\n",
      "  warnings.warn('`layer.apply` is deprecated and '\n",
      "2023-10-30 20:22:09.247150: I tensorflow/compiler/mlir/mlir_graph_optimization_pass.cc:196] None of the MLIR optimization passes are enabled (registered 0 passes)\n",
      "2023-10-30 20:22:09.263332: I tensorflow/core/platform/profile_utils/cpu_utils.cc:112] CPU Frequency: 1995290000 Hz\n",
      "train: 100%|██████████████████████████████████| 391/391 [00:05<00:00, 75.60it/s]\n"
     ]
    },
    {
     "name": "stdout",
     "output_type": "stream",
     "text": [
      "Epoch 1 elapsed: 5.177s\n",
      "\t \u001b[32mtrain_loss: 3.444\u001b[0m\n"
     ]
    },
    {
     "name": "stderr",
     "output_type": "stream",
     "text": [
      "eval_pointwise: 100%|█████████████████████████████| 3/3 [00:00<00:00, 56.25it/s]\n"
     ]
    },
    {
     "name": "stdout",
     "output_type": "stream",
     "text": [
      "\t eval rmse: 1.1549\n",
      "==============================\n"
     ]
    },
    {
     "name": "stderr",
     "output_type": "stream",
     "text": [
      "train: 100%|██████████████████████████████████| 391/391 [00:04<00:00, 81.78it/s]\n"
     ]
    },
    {
     "name": "stdout",
     "output_type": "stream",
     "text": [
      "Epoch 2 elapsed: 4.784s\n",
      "\t \u001b[32mtrain_loss: 1.1569\u001b[0m\n"
     ]
    },
    {
     "name": "stderr",
     "output_type": "stream",
     "text": [
      "eval_pointwise: 100%|████████████████████████████| 3/3 [00:00<00:00, 191.72it/s]\n"
     ]
    },
    {
     "name": "stdout",
     "output_type": "stream",
     "text": [
      "\t eval rmse: 1.1567\n",
      "==============================\n"
     ]
    },
    {
     "name": "stderr",
     "output_type": "stream",
     "text": [
      "train: 100%|██████████████████████████████████| 391/391 [00:04<00:00, 80.94it/s]\n"
     ]
    },
    {
     "name": "stdout",
     "output_type": "stream",
     "text": [
      "Epoch 3 elapsed: 4.833s\n",
      "\t \u001b[32mtrain_loss: 0.6872\u001b[0m\n"
     ]
    },
    {
     "name": "stderr",
     "output_type": "stream",
     "text": [
      "eval_pointwise: 100%|████████████████████████████| 3/3 [00:00<00:00, 192.74it/s]\n"
     ]
    },
    {
     "name": "stdout",
     "output_type": "stream",
     "text": [
      "\t eval rmse: 1.1895\n",
      "==============================\n"
     ]
    },
    {
     "name": "stderr",
     "output_type": "stream",
     "text": [
      "train: 100%|██████████████████████████████████| 391/391 [00:04<00:00, 83.91it/s]\n"
     ]
    },
    {
     "name": "stdout",
     "output_type": "stream",
     "text": [
      "Epoch 4 elapsed: 4.662s\n",
      "\t \u001b[32mtrain_loss: 0.464\u001b[0m\n"
     ]
    },
    {
     "name": "stderr",
     "output_type": "stream",
     "text": [
      "eval_pointwise: 100%|████████████████████████████| 3/3 [00:00<00:00, 183.04it/s]\n"
     ]
    },
    {
     "name": "stdout",
     "output_type": "stream",
     "text": [
      "\t eval rmse: 1.1793\n",
      "==============================\n"
     ]
    },
    {
     "name": "stderr",
     "output_type": "stream",
     "text": [
      "train: 100%|██████████████████████████████████| 391/391 [00:04<00:00, 83.79it/s]\n"
     ]
    },
    {
     "name": "stdout",
     "output_type": "stream",
     "text": [
      "Epoch 5 elapsed: 4.669s\n",
      "\t \u001b[32mtrain_loss: 0.3402\u001b[0m\n"
     ]
    },
    {
     "name": "stderr",
     "output_type": "stream",
     "text": [
      "eval_pointwise: 100%|████████████████████████████| 3/3 [00:00<00:00, 166.51it/s]\n"
     ]
    },
    {
     "name": "stdout",
     "output_type": "stream",
     "text": [
      "\t eval rmse: 1.1698\n",
      "==============================\n"
     ]
    }
   ],
   "source": [
    "ncf.fit(\n",
    "    train_data,\n",
    "    neg_sampling=False,\n",
    "    verbose=2,\n",
    "    eval_data=eval_data,\n",
    "    metrics=[\"loss\"],\n",
    ")"
   ]
  },
  {
   "cell_type": "code",
   "execution_count": 13,
   "id": "811b4e51-87ff-4285-a4de-c869e9a4df07",
   "metadata": {},
   "outputs": [
    {
     "name": "stderr",
     "output_type": "stream",
     "text": [
      "eval_pointwise: 100%|████████████████████████████| 3/3 [00:00<00:00, 133.04it/s]\n"
     ]
    },
    {
     "data": {
      "text/plain": [
       "{'loss': 1.175301}"
      ]
     },
     "execution_count": 13,
     "metadata": {},
     "output_type": "execute_result"
    }
   ],
   "source": [
    "evaluate(\n",
    "    model=ncf,\n",
    "    data=test_data,\n",
    "    neg_sampling=False,\n",
    "    metrics=[\"loss\"],\n",
    ")"
   ]
  },
  {
   "cell_type": "code",
   "execution_count": 14,
   "id": "00153a3c-0538-4b36-860c-ef9e5e5dcafe",
   "metadata": {},
   "outputs": [
    {
     "name": "stderr",
     "output_type": "stream",
     "text": [
      "eval_pointwise: 100%|████████████████████████████| 3/3 [00:00<00:00, 122.00it/s]\n"
     ]
    },
    {
     "data": {
      "text/plain": [
       "{'mae': 0.90626866}"
      ]
     },
     "execution_count": 14,
     "metadata": {},
     "output_type": "execute_result"
    }
   ],
   "source": [
    "evaluate(\n",
    "    model=ncf,\n",
    "    data=test_data,\n",
    "    neg_sampling=False,\n",
    "    metrics=[\"mae\"],\n",
    ")"
   ]
  },
  {
   "cell_type": "code",
   "execution_count": 15,
   "id": "d25ca536-46ce-4dbc-b4a9-6c5569e328fc",
   "metadata": {},
   "outputs": [
    {
     "name": "stderr",
     "output_type": "stream",
     "text": [
      "eval_pointwise: 100%|████████████████████████████| 3/3 [00:00<00:00, 146.70it/s]\n"
     ]
    },
    {
     "data": {
      "text/plain": [
       "{'rmse': 1.175301}"
      ]
     },
     "execution_count": 15,
     "metadata": {},
     "output_type": "execute_result"
    }
   ],
   "source": [
    "evaluate(\n",
    "    model=ncf,\n",
    "    data=test_data,\n",
    "    neg_sampling=False,\n",
    "    metrics=[\"rmse\"],\n",
    ")"
   ]
  },
  {
   "cell_type": "code",
   "execution_count": null,
   "id": "9a6e172b-c1c2-4000-b8d7-e8ee79f13056",
   "metadata": {},
   "outputs": [],
   "source": []
  }
 ],
 "metadata": {
  "kernelspec": {
   "display_name": "Python 3 (ipykernel)",
   "language": "python",
   "name": "python3"
  },
  "language_info": {
   "codemirror_mode": {
    "name": "ipython",
    "version": 3
   },
   "file_extension": ".py",
   "mimetype": "text/x-python",
   "name": "python",
   "nbconvert_exporter": "python",
   "pygments_lexer": "ipython3",
   "version": "3.8.8"
  }
 },
 "nbformat": 4,
 "nbformat_minor": 5
}
